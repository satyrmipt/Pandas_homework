{
 "cells": [
  {
   "cell_type": "markdown",
   "id": "ae6dfc9e",
   "metadata": {},
   "source": [
    "# 0) Подготовка, загрузка данных, первичный осмотр и оценка размера файлов (как по числу строк, так и в Мб)"
   ]
  },
  {
   "cell_type": "code",
   "execution_count": 1,
   "id": "c9cae31f",
   "metadata": {},
   "outputs": [],
   "source": [
    "#%reset out"
   ]
  },
  {
   "cell_type": "code",
   "execution_count": 2,
   "id": "1e5901f6",
   "metadata": {},
   "outputs": [],
   "source": [
    "import pandas as pd"
   ]
  },
  {
   "cell_type": "code",
   "execution_count": 3,
   "id": "ea9cd962",
   "metadata": {},
   "outputs": [
    {
     "name": "stdout",
     "output_type": "stream",
     "text": [
      " Том в устройстве C имеет метку System\n",
      " Серийный номер тома: 80AD-5924\n",
      "\n",
      " Содержимое папки C:\\Users\\levakin_av\\SkillFactory\\Homework - Pandas - Stud results\\data\n",
      "\n",
      "11.10.2022  18:34    <DIR>          .\n",
      "11.10.2022  18:34    <DIR>          ..\n",
      "03.10.2022  07:58    <DIR>          .ipynb_checkpoints\n",
      "02.10.2022  22:40             9 703 lectures.csv\n",
      "02.10.2022  22:40           296 161 questions.csv\n",
      "03.10.2022  08:09     5 846 760 913 train.csv\n",
      "11.10.2022  04:21     6 656 128 907 train_2.csv\n",
      "11.10.2022  18:34    <DIR>          Математика машинного обучения\n",
      "               4 файлов 12 503 195 684 байт\n",
      "               4 папок  64 472 494 080 байт свободно\n"
     ]
    }
   ],
   "source": [
    "ls data"
   ]
  },
  {
   "cell_type": "code",
   "execution_count": 4,
   "id": "17bf6aa7",
   "metadata": {},
   "outputs": [],
   "source": [
    "lect_df = pd.read_csv('data\\lectures.csv')"
   ]
  },
  {
   "cell_type": "code",
   "execution_count": 5,
   "id": "24932486",
   "metadata": {},
   "outputs": [
    {
     "data": {
      "text/plain": [
       "(418, 4)"
      ]
     },
     "execution_count": 5,
     "metadata": {},
     "output_type": "execute_result"
    }
   ],
   "source": [
    "lect_df.shape"
   ]
  },
  {
   "cell_type": "code",
   "execution_count": 6,
   "id": "96fc401a",
   "metadata": {},
   "outputs": [
    {
     "data": {
      "text/html": [
       "<div>\n",
       "<style scoped>\n",
       "    .dataframe tbody tr th:only-of-type {\n",
       "        vertical-align: middle;\n",
       "    }\n",
       "\n",
       "    .dataframe tbody tr th {\n",
       "        vertical-align: top;\n",
       "    }\n",
       "\n",
       "    .dataframe thead th {\n",
       "        text-align: right;\n",
       "    }\n",
       "</style>\n",
       "<table border=\"1\" class=\"dataframe\">\n",
       "  <thead>\n",
       "    <tr style=\"text-align: right;\">\n",
       "      <th></th>\n",
       "      <th>lecture_id</th>\n",
       "      <th>tag</th>\n",
       "      <th>part</th>\n",
       "      <th>type_of</th>\n",
       "    </tr>\n",
       "  </thead>\n",
       "  <tbody>\n",
       "    <tr>\n",
       "      <th>0</th>\n",
       "      <td>89</td>\n",
       "      <td>159</td>\n",
       "      <td>5</td>\n",
       "      <td>concept</td>\n",
       "    </tr>\n",
       "    <tr>\n",
       "      <th>1</th>\n",
       "      <td>100</td>\n",
       "      <td>70</td>\n",
       "      <td>1</td>\n",
       "      <td>concept</td>\n",
       "    </tr>\n",
       "    <tr>\n",
       "      <th>2</th>\n",
       "      <td>185</td>\n",
       "      <td>45</td>\n",
       "      <td>6</td>\n",
       "      <td>concept</td>\n",
       "    </tr>\n",
       "    <tr>\n",
       "      <th>3</th>\n",
       "      <td>192</td>\n",
       "      <td>79</td>\n",
       "      <td>5</td>\n",
       "      <td>solving question</td>\n",
       "    </tr>\n",
       "    <tr>\n",
       "      <th>4</th>\n",
       "      <td>317</td>\n",
       "      <td>156</td>\n",
       "      <td>5</td>\n",
       "      <td>solving question</td>\n",
       "    </tr>\n",
       "  </tbody>\n",
       "</table>\n",
       "</div>"
      ],
      "text/plain": [
       "   lecture_id  tag  part           type_of\n",
       "0          89  159     5           concept\n",
       "1         100   70     1           concept\n",
       "2         185   45     6           concept\n",
       "3         192   79     5  solving question\n",
       "4         317  156     5  solving question"
      ]
     },
     "execution_count": 6,
     "metadata": {},
     "output_type": "execute_result"
    }
   ],
   "source": [
    "lect_df.head()"
   ]
  },
  {
   "cell_type": "code",
   "execution_count": 7,
   "id": "b00629bf",
   "metadata": {},
   "outputs": [],
   "source": [
    "quest_df = pd.read_csv('data\\questions.csv')"
   ]
  },
  {
   "cell_type": "code",
   "execution_count": 8,
   "id": "ee46ea8a",
   "metadata": {},
   "outputs": [
    {
     "data": {
      "text/plain": [
       "(13523, 5)"
      ]
     },
     "execution_count": 8,
     "metadata": {},
     "output_type": "execute_result"
    }
   ],
   "source": [
    "quest_df.shape"
   ]
  },
  {
   "cell_type": "code",
   "execution_count": 9,
   "id": "5a0d776f",
   "metadata": {},
   "outputs": [
    {
     "data": {
      "text/html": [
       "<div>\n",
       "<style scoped>\n",
       "    .dataframe tbody tr th:only-of-type {\n",
       "        vertical-align: middle;\n",
       "    }\n",
       "\n",
       "    .dataframe tbody tr th {\n",
       "        vertical-align: top;\n",
       "    }\n",
       "\n",
       "    .dataframe thead th {\n",
       "        text-align: right;\n",
       "    }\n",
       "</style>\n",
       "<table border=\"1\" class=\"dataframe\">\n",
       "  <thead>\n",
       "    <tr style=\"text-align: right;\">\n",
       "      <th></th>\n",
       "      <th>question_id</th>\n",
       "      <th>bundle_id</th>\n",
       "      <th>correct_answer</th>\n",
       "      <th>part</th>\n",
       "      <th>tags</th>\n",
       "    </tr>\n",
       "  </thead>\n",
       "  <tbody>\n",
       "    <tr>\n",
       "      <th>0</th>\n",
       "      <td>0</td>\n",
       "      <td>0</td>\n",
       "      <td>0</td>\n",
       "      <td>1</td>\n",
       "      <td>51 131 162 38</td>\n",
       "    </tr>\n",
       "    <tr>\n",
       "      <th>1</th>\n",
       "      <td>1</td>\n",
       "      <td>1</td>\n",
       "      <td>1</td>\n",
       "      <td>1</td>\n",
       "      <td>131 36 81</td>\n",
       "    </tr>\n",
       "    <tr>\n",
       "      <th>2</th>\n",
       "      <td>2</td>\n",
       "      <td>2</td>\n",
       "      <td>0</td>\n",
       "      <td>1</td>\n",
       "      <td>131 101 162 92</td>\n",
       "    </tr>\n",
       "    <tr>\n",
       "      <th>3</th>\n",
       "      <td>3</td>\n",
       "      <td>3</td>\n",
       "      <td>0</td>\n",
       "      <td>1</td>\n",
       "      <td>131 149 162 29</td>\n",
       "    </tr>\n",
       "    <tr>\n",
       "      <th>4</th>\n",
       "      <td>4</td>\n",
       "      <td>4</td>\n",
       "      <td>3</td>\n",
       "      <td>1</td>\n",
       "      <td>131 5 162 38</td>\n",
       "    </tr>\n",
       "  </tbody>\n",
       "</table>\n",
       "</div>"
      ],
      "text/plain": [
       "   question_id  bundle_id  correct_answer  part            tags\n",
       "0            0          0               0     1   51 131 162 38\n",
       "1            1          1               1     1       131 36 81\n",
       "2            2          2               0     1  131 101 162 92\n",
       "3            3          3               0     1  131 149 162 29\n",
       "4            4          4               3     1    131 5 162 38"
      ]
     },
     "execution_count": 9,
     "metadata": {},
     "output_type": "execute_result"
    }
   ],
   "source": [
    "quest_df.head()"
   ]
  },
  {
   "cell_type": "code",
   "execution_count": 10,
   "id": "38bab65c",
   "metadata": {},
   "outputs": [
    {
     "name": "stdout",
     "output_type": "stream",
     "text": [
      " Том в устройстве C имеет метку System\n",
      " Серийный номер тома: 80AD-5924\n",
      "\n",
      " Содержимое папки C:\\Users\\levakin_av\\SkillFactory\\Homework - Pandas - Stud results\\data\n",
      "\n",
      "11.10.2022  18:34    <DIR>          .\n",
      "11.10.2022  18:34    <DIR>          ..\n",
      "03.10.2022  07:58    <DIR>          .ipynb_checkpoints\n",
      "02.10.2022  22:40             9 703 lectures.csv\n",
      "02.10.2022  22:40           296 161 questions.csv\n",
      "03.10.2022  08:09     5 846 760 913 train.csv\n",
      "11.10.2022  04:21     6 656 128 907 train_2.csv\n",
      "11.10.2022  18:34    <DIR>          Математика машинного обучения\n",
      "               4 файлов 12 503 195 684 байт\n",
      "               4 папок  64 472 481 792 байт свободно\n"
     ]
    }
   ],
   "source": [
    "ls data"
   ]
  },
  {
   "cell_type": "code",
   "execution_count": 11,
   "id": "135b0562",
   "metadata": {},
   "outputs": [
    {
     "name": "stdout",
     "output_type": "stream",
     "text": [
      "101230333\n"
     ]
    }
   ],
   "source": [
    "big_file = open(r'data\\train.csv', 'rb') # r перед строкой пути - обязательно. Без него не работает.\n",
    "line_count = 0\n",
    "for line in big_file:\n",
    "    line_count += 1\n",
    "print(line_count)\n",
    "# 101 230 333"
   ]
  },
  {
   "cell_type": "code",
   "execution_count": 12,
   "id": "3e551db9",
   "metadata": {},
   "outputs": [],
   "source": [
    "train_df = pd.read_csv(r\"data\\train.csv\")"
   ]
  },
  {
   "cell_type": "code",
   "execution_count": 13,
   "id": "51a0b28e",
   "metadata": {},
   "outputs": [
    {
     "data": {
      "text/plain": [
       "(101230332, 10)"
      ]
     },
     "execution_count": 13,
     "metadata": {},
     "output_type": "execute_result"
    }
   ],
   "source": [
    "train_df.shape\n",
    "# (101230332, 10) - ура, загрузился весь обхем данных\n",
    "# все данные загрузились в фрейм, но глядя на монитор потребления ресурсов делаю вывод, что фрейм хранится на жетском диске, а не в опер. памяти.\n"
   ]
  },
  {
   "cell_type": "code",
   "execution_count": 14,
   "id": "ca42f76d",
   "metadata": {},
   "outputs": [
    {
     "name": "stdout",
     "output_type": "stream",
     "text": [
      "<class 'pandas.core.frame.DataFrame'>\n",
      "RangeIndex: 101230332 entries, 0 to 101230331\n",
      "Data columns (total 10 columns):\n",
      " #   Column                          Dtype  \n",
      "---  ------                          -----  \n",
      " 0   row_id                          int64  \n",
      " 1   timestamp                       int64  \n",
      " 2   user_id                         int64  \n",
      " 3   content_id                      int64  \n",
      " 4   content_type_id                 int64  \n",
      " 5   task_container_id               int64  \n",
      " 6   user_answer                     int64  \n",
      " 7   answered_correctly              int64  \n",
      " 8   prior_question_elapsed_time     float64\n",
      " 9   prior_question_had_explanation  object \n",
      "dtypes: float64(1), int64(8), object(1)\n",
      "memory usage: 7.5+ GB\n"
     ]
    }
   ],
   "source": [
    "#оценим размер фрейма\n",
    "train_df.info()"
   ]
  },
  {
   "cell_type": "code",
   "execution_count": 15,
   "id": "bd28fad6",
   "metadata": {},
   "outputs": [],
   "source": [
    "# интересно, что фрейм занимает более 7.5 Гб, хотя сам файл занимает 5.4 Гб\n",
    "# Так же заметим, что числовые типы кодированы int64, хотя из постановки задачи мы знаем, что они другие:\n",
    "    #row_id: (int64)\n",
    "    #timestamp: (int64)\n",
    "    #user_id: (int32)\n",
    "    #content_id: (int16)\n",
    "    #content_type_id: (int8)\n",
    "    #task_container_id: (int16)\n",
    "    #user_answer: (int8)\n",
    "    #answered_correctly: (int8)\n",
    "    #prior_question_elapsed_time: (float32)\n",
    "    #prior_question_had_explanation: (bool)\n",
    "# Это поможет нам сократить размер датафрейма. Но попробуем исследовать оптимальны ли значения в постановке или можно выбрать еще\n",
    "# более экономные типы данных для int-колонок"
   ]
  },
  {
   "cell_type": "markdown",
   "id": "3fb337b1",
   "metadata": {},
   "source": [
    "# 1) Сокращение объемов фрейма train.csv ( и не только) за счет изменения типов  данных"
   ]
  },
  {
   "cell_type": "markdown",
   "id": "f738feaa",
   "metadata": {},
   "source": [
    "## 1.1) Столбец row_id (ID code for the row)"
   ]
  },
  {
   "cell_type": "code",
   "execution_count": 16,
   "id": "7b46dddf",
   "metadata": {},
   "outputs": [],
   "source": [
    "row_id_ser = pd.Series(train_df.row_id)"
   ]
  },
  {
   "cell_type": "code",
   "execution_count": 17,
   "id": "6021757c",
   "metadata": {},
   "outputs": [
    {
     "name": "stdout",
     "output_type": "stream",
     "text": [
      "0 101230331 101230332\n"
     ]
    }
   ],
   "source": [
    "print(row_id_ser.min(), row_id_ser.max(), row_id_ser.nunique())\n",
    "# 0 101230331 101230332\n",
    "# максимальное значение помещается в диапазон int32\t (-2147483648 to 2147483647)\\\n",
    "# ТО ЕСТЬ В ПОСТАНОВКЕ НАС ОБМАНЫВАЮТ. \n",
    "# проверим, что изменение типа не приведет к проблемам"
   ]
  },
  {
   "cell_type": "code",
   "execution_count": 18,
   "id": "e733fd1d",
   "metadata": {},
   "outputs": [
    {
     "name": "stdout",
     "output_type": "stream",
     "text": [
      "0 101230331 101230332\n"
     ]
    }
   ],
   "source": [
    "row_id_ser = row_id_ser.astype('int32')\n",
    "print(row_id_ser.min(), row_id_ser.max(), row_id_ser.nunique())\n",
    "# 0 101230331 101230332\n",
    "# ничего не изменилось, но на всякий случай сравним поэлементно."
   ]
  },
  {
   "cell_type": "code",
   "execution_count": 19,
   "id": "7f69d81e",
   "metadata": {},
   "outputs": [
    {
     "data": {
      "text/plain": [
       "True    101230332\n",
       "Name: row_id, dtype: int64"
      ]
     },
     "execution_count": 19,
     "metadata": {},
     "output_type": "execute_result"
    }
   ],
   "source": [
    "(row_id_ser == pd.Series(train_df.row_id)).value_counts()\n",
    "#True    101230332\n",
    "#Name: row_id, dtype: int64"
   ]
  },
  {
   "cell_type": "code",
   "execution_count": 20,
   "id": "2ea3cff8",
   "metadata": {},
   "outputs": [
    {
     "name": "stdout",
     "output_type": "stream",
     "text": [
      "<class 'pandas.core.frame.DataFrame'>\n",
      "RangeIndex: 101230332 entries, 0 to 101230331\n",
      "Data columns (total 10 columns):\n",
      " #   Column                          Dtype  \n",
      "---  ------                          -----  \n",
      " 0   row_id                          int32  \n",
      " 1   timestamp                       int64  \n",
      " 2   user_id                         int64  \n",
      " 3   content_id                      int64  \n",
      " 4   content_type_id                 int64  \n",
      " 5   task_container_id               int64  \n",
      " 6   user_answer                     int64  \n",
      " 7   answered_correctly              int64  \n",
      " 8   prior_question_elapsed_time     float64\n",
      " 9   prior_question_had_explanation  object \n",
      "dtypes: float64(1), int32(1), int64(7), object(1)\n",
      "memory usage: 7.2+ GB\n"
     ]
    }
   ],
   "source": [
    "# итак, моножно заменить тип на Int32\n",
    "train_df.row_id = train_df.row_id.astype('int32')\n",
    "train_df.info()\n",
    "# row_id                          int32\n",
    "# usage: 7.2+ GB\n",
    "# Заметим так же что мы могли бы использовать uint32, так как у нас строго положительные значения\n",
    "# Но uint32 занимает столько же места как и int32"
   ]
  },
  {
   "cell_type": "markdown",
   "id": "838a63f5",
   "metadata": {},
   "source": [
    "## 1.2) Числовые столбцы кроме row_id "
   ]
  },
  {
   "cell_type": "code",
   "execution_count": 21,
   "id": "a6d084e2",
   "metadata": {},
   "outputs": [],
   "source": [
    "## Займемся остальными столбцами с числовыми значениями. Будем исследовать их по той же схеме, но все сразу.\n",
    "# для этого нам пригодится инфомрация:\n",
    "#int8\tByte (-128 to 127)\n",
    "#int16\tInteger (-32768 to 32767)\n",
    "#int32\tInteger (-2147483648 to 2147483647)\n",
    "#int64\tInteger (-9223372036854775808 to 9223372036854775807)\n",
    "#uint8\tUnsigned integer (0 to 255)\n",
    "#uint16\tUnsigned integer (0 to 65535)\n",
    "#uint32\tUnsigned integer (0 to 4294967295)"
   ]
  },
  {
   "cell_type": "code",
   "execution_count": 22,
   "id": "f4f1cf7d",
   "metadata": {},
   "outputs": [
    {
     "data": {
      "text/plain": [
       "Index(['row_id', 'timestamp', 'user_id', 'content_id', 'content_type_id',\n",
       "       'task_container_id', 'user_answer', 'answered_correctly',\n",
       "       'prior_question_elapsed_time', 'prior_question_had_explanation'],\n",
       "      dtype='object')"
      ]
     },
     "execution_count": 22,
     "metadata": {},
     "output_type": "execute_result"
    }
   ],
   "source": [
    "train_df.columns"
   ]
  },
  {
   "cell_type": "code",
   "execution_count": 23,
   "id": "23190edb",
   "metadata": {},
   "outputs": [],
   "source": [
    "# сохраним результаты descibe в служебный фрейм, чтобы в последствии контролировать наши преобразования типов, сравниваия результаты\n",
    "numcols = ['timestamp', 'user_id', 'content_id', 'content_type_id',\n",
    "       'task_container_id', 'user_answer', 'answered_correctly',\n",
    "       'prior_question_elapsed_time']\n",
    "control_desc = train_df[numcols].describe()"
   ]
  },
  {
   "cell_type": "code",
   "execution_count": 24,
   "id": "54877f2b",
   "metadata": {},
   "outputs": [
    {
     "data": {
      "text/html": [
       "<div>\n",
       "<style scoped>\n",
       "    .dataframe tbody tr th:only-of-type {\n",
       "        vertical-align: middle;\n",
       "    }\n",
       "\n",
       "    .dataframe tbody tr th {\n",
       "        vertical-align: top;\n",
       "    }\n",
       "\n",
       "    .dataframe thead th {\n",
       "        text-align: right;\n",
       "    }\n",
       "</style>\n",
       "<table border=\"1\" class=\"dataframe\">\n",
       "  <thead>\n",
       "    <tr style=\"text-align: right;\">\n",
       "      <th></th>\n",
       "      <th>timestamp</th>\n",
       "      <th>user_id</th>\n",
       "      <th>content_id</th>\n",
       "      <th>content_type_id</th>\n",
       "      <th>task_container_id</th>\n",
       "      <th>user_answer</th>\n",
       "      <th>answered_correctly</th>\n",
       "      <th>prior_question_elapsed_time</th>\n",
       "    </tr>\n",
       "  </thead>\n",
       "  <tbody>\n",
       "    <tr>\n",
       "      <th>count</th>\n",
       "      <td>1.012303e+08</td>\n",
       "      <td>1.012303e+08</td>\n",
       "      <td>1.012303e+08</td>\n",
       "      <td>1.012303e+08</td>\n",
       "      <td>1.012303e+08</td>\n",
       "      <td>1.012303e+08</td>\n",
       "      <td>1.012303e+08</td>\n",
       "      <td>9.887879e+07</td>\n",
       "    </tr>\n",
       "    <tr>\n",
       "      <th>mean</th>\n",
       "      <td>7.703644e+09</td>\n",
       "      <td>1.076732e+09</td>\n",
       "      <td>5.219605e+03</td>\n",
       "      <td>1.935222e-02</td>\n",
       "      <td>9.040624e+02</td>\n",
       "      <td>1.376123e+00</td>\n",
       "      <td>6.251644e-01</td>\n",
       "      <td>2.542381e+04</td>\n",
       "    </tr>\n",
       "    <tr>\n",
       "      <th>std</th>\n",
       "      <td>1.159266e+10</td>\n",
       "      <td>6.197163e+08</td>\n",
       "      <td>3.866359e+03</td>\n",
       "      <td>1.377596e-01</td>\n",
       "      <td>1.358302e+03</td>\n",
       "      <td>1.192896e+00</td>\n",
       "      <td>5.225307e-01</td>\n",
       "      <td>1.994815e+04</td>\n",
       "    </tr>\n",
       "    <tr>\n",
       "      <th>min</th>\n",
       "      <td>0.000000e+00</td>\n",
       "      <td>1.150000e+02</td>\n",
       "      <td>0.000000e+00</td>\n",
       "      <td>0.000000e+00</td>\n",
       "      <td>0.000000e+00</td>\n",
       "      <td>-1.000000e+00</td>\n",
       "      <td>-1.000000e+00</td>\n",
       "      <td>0.000000e+00</td>\n",
       "    </tr>\n",
       "    <tr>\n",
       "      <th>25%</th>\n",
       "      <td>5.243436e+08</td>\n",
       "      <td>5.408116e+08</td>\n",
       "      <td>2.063000e+03</td>\n",
       "      <td>0.000000e+00</td>\n",
       "      <td>1.040000e+02</td>\n",
       "      <td>0.000000e+00</td>\n",
       "      <td>0.000000e+00</td>\n",
       "      <td>1.600000e+04</td>\n",
       "    </tr>\n",
       "    <tr>\n",
       "      <th>50%</th>\n",
       "      <td>2.674234e+09</td>\n",
       "      <td>1.071781e+09</td>\n",
       "      <td>5.026000e+03</td>\n",
       "      <td>0.000000e+00</td>\n",
       "      <td>3.820000e+02</td>\n",
       "      <td>1.000000e+00</td>\n",
       "      <td>1.000000e+00</td>\n",
       "      <td>2.100000e+04</td>\n",
       "    </tr>\n",
       "    <tr>\n",
       "      <th>75%</th>\n",
       "      <td>9.924551e+09</td>\n",
       "      <td>1.615742e+09</td>\n",
       "      <td>7.425000e+03</td>\n",
       "      <td>0.000000e+00</td>\n",
       "      <td>1.094000e+03</td>\n",
       "      <td>3.000000e+00</td>\n",
       "      <td>1.000000e+00</td>\n",
       "      <td>2.966600e+04</td>\n",
       "    </tr>\n",
       "    <tr>\n",
       "      <th>max</th>\n",
       "      <td>8.742577e+10</td>\n",
       "      <td>2.147483e+09</td>\n",
       "      <td>3.273600e+04</td>\n",
       "      <td>1.000000e+00</td>\n",
       "      <td>9.999000e+03</td>\n",
       "      <td>3.000000e+00</td>\n",
       "      <td>1.000000e+00</td>\n",
       "      <td>3.000000e+05</td>\n",
       "    </tr>\n",
       "  </tbody>\n",
       "</table>\n",
       "</div>"
      ],
      "text/plain": [
       "          timestamp       user_id    content_id  content_type_id  \\\n",
       "count  1.012303e+08  1.012303e+08  1.012303e+08     1.012303e+08   \n",
       "mean   7.703644e+09  1.076732e+09  5.219605e+03     1.935222e-02   \n",
       "std    1.159266e+10  6.197163e+08  3.866359e+03     1.377596e-01   \n",
       "min    0.000000e+00  1.150000e+02  0.000000e+00     0.000000e+00   \n",
       "25%    5.243436e+08  5.408116e+08  2.063000e+03     0.000000e+00   \n",
       "50%    2.674234e+09  1.071781e+09  5.026000e+03     0.000000e+00   \n",
       "75%    9.924551e+09  1.615742e+09  7.425000e+03     0.000000e+00   \n",
       "max    8.742577e+10  2.147483e+09  3.273600e+04     1.000000e+00   \n",
       "\n",
       "       task_container_id   user_answer  answered_correctly  \\\n",
       "count       1.012303e+08  1.012303e+08        1.012303e+08   \n",
       "mean        9.040624e+02  1.376123e+00        6.251644e-01   \n",
       "std         1.358302e+03  1.192896e+00        5.225307e-01   \n",
       "min         0.000000e+00 -1.000000e+00       -1.000000e+00   \n",
       "25%         1.040000e+02  0.000000e+00        0.000000e+00   \n",
       "50%         3.820000e+02  1.000000e+00        1.000000e+00   \n",
       "75%         1.094000e+03  3.000000e+00        1.000000e+00   \n",
       "max         9.999000e+03  3.000000e+00        1.000000e+00   \n",
       "\n",
       "       prior_question_elapsed_time  \n",
       "count                 9.887879e+07  \n",
       "mean                  2.542381e+04  \n",
       "std                   1.994815e+04  \n",
       "min                   0.000000e+00  \n",
       "25%                   1.600000e+04  \n",
       "50%                   2.100000e+04  \n",
       "75%                   2.966600e+04  \n",
       "max                   3.000000e+05  "
      ]
     },
     "execution_count": 24,
     "metadata": {},
     "output_type": "execute_result"
    }
   ],
   "source": [
    "control_desc"
   ]
  },
  {
   "cell_type": "code",
   "execution_count": 25,
   "id": "38197e2e",
   "metadata": {},
   "outputs": [
    {
     "name": "stdout",
     "output_type": "stream",
     "text": [
      "<class 'pandas.core.frame.DataFrame'>\n",
      "RangeIndex: 101230332 entries, 0 to 101230331\n",
      "Data columns (total 10 columns):\n",
      " #   Column                          Dtype  \n",
      "---  ------                          -----  \n",
      " 0   row_id                          int32  \n",
      " 1   timestamp                       int64  \n",
      " 2   user_id                         int64  \n",
      " 3   content_id                      int16  \n",
      " 4   content_type_id                 int8   \n",
      " 5   task_container_id               int16  \n",
      " 6   user_answer                     int8   \n",
      " 7   answered_correctly              int8   \n",
      " 8   prior_question_elapsed_time     float64\n",
      " 9   prior_question_had_explanation  object \n",
      "dtypes: float64(1), int16(2), int32(1), int64(2), int8(3), object(1)\n",
      "memory usage: 4.1+ GB\n"
     ]
    }
   ],
   "source": [
    "# видим, что сразу можно сделать такие преобразованиея:\n",
    "# user_answer -> int8\n",
    "# answered_correctly -> int8\n",
    "# task_container_id -> int16\n",
    "# content_type_id -> int8\n",
    "# content_id -> uint16\n",
    "# сделаем эти преобразования:\n",
    "train_df.user_answer = train_df.user_answer.astype('int8')\n",
    "train_df.answered_correctly = train_df.answered_correctly.astype('int8')\n",
    "train_df.task_container_id = train_df.task_container_id.astype('int16')\n",
    "train_df.content_type_id = train_df.content_type_id.astype('int8')\n",
    "train_df.content_id = train_df.content_id.astype('int16')\n",
    "train_df.info()\n",
    "# memory usage: 4.1+ GB - отличный результат!\n"
   ]
  },
  {
   "cell_type": "code",
   "execution_count": 26,
   "id": "70f60afe",
   "metadata": {},
   "outputs": [
    {
     "name": "stdout",
     "output_type": "stream",
     "text": [
      "False\n"
     ]
    }
   ],
   "source": [
    "# сравниваем describe до и после изменения типов\n",
    "curr_desc = train_df[numcols].describe()\n",
    "print(control_desc.equals(curr_desc))\n",
    "# False\n",
    "# почему-то фреймы не совпали, читаем хелп по equals: Corresponding columns must be of the same dtype.\n",
    "# получается нам такое сравнение не подходит, так как мы хотим сравнить значения, но не типы (они гарантированно рзаличаются)"
   ]
  },
  {
   "cell_type": "code",
   "execution_count": 27,
   "id": "b64e236f",
   "metadata": {},
   "outputs": [
    {
     "name": "stdout",
     "output_type": "stream",
     "text": [
      "True\n"
     ]
    }
   ],
   "source": [
    "# сравним фреймы иначе:\n",
    "print (curr_desc.loc[curr_desc.index != 'std'].to_dict() == control_desc.loc[control_desc.index != 'std'].to_dict())\n",
    "# True\n",
    "# почему не совпадает  std - непонятно, но различия минимальны, можно убидетьися вот так:\n",
    "# for c in numcols:     print (c, curr_desc[c] - control_desc[c])\n"
   ]
  },
  {
   "cell_type": "code",
   "execution_count": 28,
   "id": "c980c355",
   "metadata": {},
   "outputs": [
    {
     "name": "stdout",
     "output_type": "stream",
     "text": [
      "115 2147482888 393656\n"
     ]
    }
   ],
   "source": [
    "# отдельно разберемся с user_id                         \n",
    "print(train_df.user_id.min(), train_df.user_id.max(), train_df.user_id.nunique())\n",
    "# 115      2 147 482 888     393656    \n",
    "# максимальное значение int32 = 2 147 483 647\n",
    "# вывод - user_id помещается в int32"
   ]
  },
  {
   "cell_type": "code",
   "execution_count": 29,
   "id": "78f91a27",
   "metadata": {},
   "outputs": [],
   "source": [
    "train_df.user_id = train_df.user_id.astype('int32')"
   ]
  },
  {
   "cell_type": "code",
   "execution_count": 30,
   "id": "ec6f1025",
   "metadata": {},
   "outputs": [
    {
     "data": {
      "text/plain": [
       "bool"
      ]
     },
     "execution_count": 30,
     "metadata": {},
     "output_type": "execute_result"
    }
   ],
   "source": [
    "# отдельно разберемся с prior_question_had_explanation\n",
    "# поймем, что за тип там хранится:\n",
    "type(train_df.prior_question_had_explanation.iloc[1024342]) # случайная строка\n",
    "#bool\n",
    "# не меняем это поле\n",
    "# так же не будем менять типы у timestamp и prior_question_elapsed_time     "
   ]
  },
  {
   "cell_type": "code",
   "execution_count": 31,
   "id": "f7ad8b81",
   "metadata": {},
   "outputs": [
    {
     "name": "stdout",
     "output_type": "stream",
     "text": [
      "<class 'pandas.core.frame.DataFrame'>\n",
      "RangeIndex: 101230332 entries, 0 to 101230331\n",
      "Data columns (total 10 columns):\n",
      " #   Column                          Dtype  \n",
      "---  ------                          -----  \n",
      " 0   row_id                          int32  \n",
      " 1   timestamp                       int64  \n",
      " 2   user_id                         int32  \n",
      " 3   content_id                      int16  \n",
      " 4   content_type_id                 int8   \n",
      " 5   task_container_id               int16  \n",
      " 6   user_answer                     int8   \n",
      " 7   answered_correctly              int8   \n",
      " 8   prior_question_elapsed_time     float64\n",
      " 9   prior_question_had_explanation  object \n",
      "dtypes: float64(1), int16(2), int32(2), int64(1), int8(3), object(1)\n",
      "memory usage: 3.7+ GB\n"
     ]
    }
   ],
   "source": [
    "# финальный размер фрейма:\n",
    "train_df.info()\n",
    "# memory usage: 3.7+ GB - в два раза меньше, чем раньше.\n"
   ]
  },
  {
   "cell_type": "markdown",
   "id": "fdf0aefe",
   "metadata": {},
   "source": [
    "## 1.3) Сокращение объема lectures"
   ]
  },
  {
   "cell_type": "code",
   "execution_count": 32,
   "id": "35f83d94",
   "metadata": {},
   "outputs": [],
   "source": [
    "lect_df = pd.read_csv('data\\lectures.csv')"
   ]
  },
  {
   "cell_type": "code",
   "execution_count": 33,
   "id": "4f52e489",
   "metadata": {},
   "outputs": [
    {
     "name": "stdout",
     "output_type": "stream",
     "text": [
      "<class 'pandas.core.frame.DataFrame'>\n",
      "RangeIndex: 418 entries, 0 to 417\n",
      "Data columns (total 4 columns):\n",
      " #   Column      Non-Null Count  Dtype \n",
      "---  ------      --------------  ----- \n",
      " 0   lecture_id  418 non-null    int64 \n",
      " 1   tag         418 non-null    int64 \n",
      " 2   part        418 non-null    int64 \n",
      " 3   type_of     418 non-null    object\n",
      "dtypes: int64(3), object(1)\n",
      "memory usage: 13.2+ KB\n"
     ]
    }
   ],
   "source": [
    "lect_df.info()"
   ]
  },
  {
   "cell_type": "code",
   "execution_count": 34,
   "id": "5c2ab2dd",
   "metadata": {},
   "outputs": [
    {
     "data": {
      "text/html": [
       "<div>\n",
       "<style scoped>\n",
       "    .dataframe tbody tr th:only-of-type {\n",
       "        vertical-align: middle;\n",
       "    }\n",
       "\n",
       "    .dataframe tbody tr th {\n",
       "        vertical-align: top;\n",
       "    }\n",
       "\n",
       "    .dataframe thead th {\n",
       "        text-align: right;\n",
       "    }\n",
       "</style>\n",
       "<table border=\"1\" class=\"dataframe\">\n",
       "  <thead>\n",
       "    <tr style=\"text-align: right;\">\n",
       "      <th></th>\n",
       "      <th>lecture_id</th>\n",
       "      <th>tag</th>\n",
       "      <th>part</th>\n",
       "      <th>type_of</th>\n",
       "    </tr>\n",
       "  </thead>\n",
       "  <tbody>\n",
       "    <tr>\n",
       "      <th>0</th>\n",
       "      <td>89</td>\n",
       "      <td>159</td>\n",
       "      <td>5</td>\n",
       "      <td>concept</td>\n",
       "    </tr>\n",
       "    <tr>\n",
       "      <th>1</th>\n",
       "      <td>100</td>\n",
       "      <td>70</td>\n",
       "      <td>1</td>\n",
       "      <td>concept</td>\n",
       "    </tr>\n",
       "    <tr>\n",
       "      <th>2</th>\n",
       "      <td>185</td>\n",
       "      <td>45</td>\n",
       "      <td>6</td>\n",
       "      <td>concept</td>\n",
       "    </tr>\n",
       "  </tbody>\n",
       "</table>\n",
       "</div>"
      ],
      "text/plain": [
       "   lecture_id  tag  part  type_of\n",
       "0          89  159     5  concept\n",
       "1         100   70     1  concept\n",
       "2         185   45     6  concept"
      ]
     },
     "execution_count": 34,
     "metadata": {},
     "output_type": "execute_result"
    }
   ],
   "source": [
    "lect_df.head(3)"
   ]
  },
  {
   "cell_type": "code",
   "execution_count": 35,
   "id": "5a4083c5",
   "metadata": {},
   "outputs": [
    {
     "name": "stdout",
     "output_type": "stream",
     "text": [
      "1 7\n",
      "89 32736\n",
      "0 187\n",
      "['concept' 'solving question' 'intention' 'starter']\n"
     ]
    }
   ],
   "source": [
    "print(lect_df.part.min(), lect_df.part.max())\n",
    "print(lect_df.lecture_id.min(), lect_df.lecture_id.max())\n",
    "print(lect_df.tag.min(), lect_df.tag.max())\n",
    "print((lect_df.type_of.unique()))"
   ]
  },
  {
   "cell_type": "code",
   "execution_count": 36,
   "id": "29e644fc",
   "metadata": {},
   "outputs": [],
   "source": [
    "lect_df.part = lect_df.part.astype('int8')\n",
    "lect_df.tag = lect_df.tag.astype('uint8')\n",
    "lect_df.lecture_id = lect_df.lecture_id.astype('int16')"
   ]
  },
  {
   "cell_type": "code",
   "execution_count": 37,
   "id": "b5531fa7",
   "metadata": {},
   "outputs": [
    {
     "name": "stdout",
     "output_type": "stream",
     "text": [
      "<class 'pandas.core.frame.DataFrame'>\n",
      "RangeIndex: 418 entries, 0 to 417\n",
      "Data columns (total 4 columns):\n",
      " #   Column      Non-Null Count  Dtype \n",
      "---  ------      --------------  ----- \n",
      " 0   lecture_id  418 non-null    int16 \n",
      " 1   tag         418 non-null    uint8 \n",
      " 2   part        418 non-null    int8  \n",
      " 3   type_of     418 non-null    object\n",
      "dtypes: int16(1), int8(1), object(1), uint8(1)\n",
      "memory usage: 5.0+ KB\n"
     ]
    }
   ],
   "source": [
    "lect_df.info()"
   ]
  },
  {
   "cell_type": "code",
   "execution_count": 38,
   "id": "a512d8be",
   "metadata": {},
   "outputs": [
    {
     "data": {
      "text/html": [
       "<div>\n",
       "<style scoped>\n",
       "    .dataframe tbody tr th:only-of-type {\n",
       "        vertical-align: middle;\n",
       "    }\n",
       "\n",
       "    .dataframe tbody tr th {\n",
       "        vertical-align: top;\n",
       "    }\n",
       "\n",
       "    .dataframe thead th {\n",
       "        text-align: right;\n",
       "    }\n",
       "</style>\n",
       "<table border=\"1\" class=\"dataframe\">\n",
       "  <thead>\n",
       "    <tr style=\"text-align: right;\">\n",
       "      <th></th>\n",
       "      <th>lecture_id</th>\n",
       "      <th>tag</th>\n",
       "      <th>part</th>\n",
       "      <th>type_of</th>\n",
       "    </tr>\n",
       "  </thead>\n",
       "  <tbody>\n",
       "    <tr>\n",
       "      <th>0</th>\n",
       "      <td>89</td>\n",
       "      <td>159</td>\n",
       "      <td>5</td>\n",
       "      <td>concept</td>\n",
       "    </tr>\n",
       "    <tr>\n",
       "      <th>1</th>\n",
       "      <td>100</td>\n",
       "      <td>70</td>\n",
       "      <td>1</td>\n",
       "      <td>concept</td>\n",
       "    </tr>\n",
       "    <tr>\n",
       "      <th>2</th>\n",
       "      <td>185</td>\n",
       "      <td>45</td>\n",
       "      <td>6</td>\n",
       "      <td>concept</td>\n",
       "    </tr>\n",
       "  </tbody>\n",
       "</table>\n",
       "</div>"
      ],
      "text/plain": [
       "   lecture_id  tag  part  type_of\n",
       "0          89  159     5  concept\n",
       "1         100   70     1  concept\n",
       "2         185   45     6  concept"
      ]
     },
     "execution_count": 38,
     "metadata": {},
     "output_type": "execute_result"
    }
   ],
   "source": [
    "lect_df.head(3)"
   ]
  },
  {
   "cell_type": "code",
   "execution_count": 39,
   "id": "6f886a73",
   "metadata": {},
   "outputs": [
    {
     "name": "stdout",
     "output_type": "stream",
     "text": [
      "<class 'pandas.core.frame.DataFrame'>\n",
      "RangeIndex: 418 entries, 0 to 417\n",
      "Data columns (total 4 columns):\n",
      " #   Column      Non-Null Count  Dtype   \n",
      "---  ------      --------------  -----   \n",
      " 0   lecture_id  418 non-null    int16   \n",
      " 1   tag         418 non-null    uint8   \n",
      " 2   part        418 non-null    int8    \n",
      " 3   type_of     418 non-null    category\n",
      "dtypes: category(1), int16(1), int8(1), uint8(1)\n",
      "memory usage: 2.4 KB\n"
     ]
    }
   ],
   "source": [
    "lect_df.type_of = lect_df.type_of.astype('category')\n",
    "lect_df.info()"
   ]
  },
  {
   "cell_type": "code",
   "execution_count": 40,
   "id": "b5fb162a",
   "metadata": {},
   "outputs": [
    {
     "data": {
      "text/plain": [
       "0      0\n",
       "1      0\n",
       "2      0\n",
       "3      2\n",
       "4      2\n",
       "      ..\n",
       "413    2\n",
       "414    2\n",
       "415    0\n",
       "416    0\n",
       "417    0\n",
       "Length: 418, dtype: int8"
      ]
     },
     "execution_count": 40,
     "metadata": {},
     "output_type": "execute_result"
    }
   ],
   "source": [
    "lect_df.type_of.cat.codes"
   ]
  },
  {
   "cell_type": "code",
   "execution_count": 41,
   "id": "476f99e2",
   "metadata": {},
   "outputs": [
    {
     "data": {
      "text/plain": [
       "Index(['concept', 'intention', 'solving question', 'starter'], dtype='object')"
      ]
     },
     "execution_count": 41,
     "metadata": {},
     "output_type": "execute_result"
    }
   ],
   "source": [
    "lect_df.type_of.cat.categories"
   ]
  },
  {
   "cell_type": "markdown",
   "id": "5c0db844",
   "metadata": {},
   "source": [
    "## 1.3) Сокращение объема questions"
   ]
  },
  {
   "cell_type": "code",
   "execution_count": 42,
   "id": "50f03011",
   "metadata": {},
   "outputs": [
    {
     "data": {
      "text/html": [
       "<div>\n",
       "<style scoped>\n",
       "    .dataframe tbody tr th:only-of-type {\n",
       "        vertical-align: middle;\n",
       "    }\n",
       "\n",
       "    .dataframe tbody tr th {\n",
       "        vertical-align: top;\n",
       "    }\n",
       "\n",
       "    .dataframe thead th {\n",
       "        text-align: right;\n",
       "    }\n",
       "</style>\n",
       "<table border=\"1\" class=\"dataframe\">\n",
       "  <thead>\n",
       "    <tr style=\"text-align: right;\">\n",
       "      <th></th>\n",
       "      <th>question_id</th>\n",
       "      <th>bundle_id</th>\n",
       "      <th>correct_answer</th>\n",
       "      <th>part</th>\n",
       "      <th>tags</th>\n",
       "    </tr>\n",
       "  </thead>\n",
       "  <tbody>\n",
       "    <tr>\n",
       "      <th>0</th>\n",
       "      <td>0</td>\n",
       "      <td>0</td>\n",
       "      <td>0</td>\n",
       "      <td>1</td>\n",
       "      <td>51 131 162 38</td>\n",
       "    </tr>\n",
       "    <tr>\n",
       "      <th>1</th>\n",
       "      <td>1</td>\n",
       "      <td>1</td>\n",
       "      <td>1</td>\n",
       "      <td>1</td>\n",
       "      <td>131 36 81</td>\n",
       "    </tr>\n",
       "    <tr>\n",
       "      <th>2</th>\n",
       "      <td>2</td>\n",
       "      <td>2</td>\n",
       "      <td>0</td>\n",
       "      <td>1</td>\n",
       "      <td>131 101 162 92</td>\n",
       "    </tr>\n",
       "    <tr>\n",
       "      <th>3</th>\n",
       "      <td>3</td>\n",
       "      <td>3</td>\n",
       "      <td>0</td>\n",
       "      <td>1</td>\n",
       "      <td>131 149 162 29</td>\n",
       "    </tr>\n",
       "    <tr>\n",
       "      <th>4</th>\n",
       "      <td>4</td>\n",
       "      <td>4</td>\n",
       "      <td>3</td>\n",
       "      <td>1</td>\n",
       "      <td>131 5 162 38</td>\n",
       "    </tr>\n",
       "  </tbody>\n",
       "</table>\n",
       "</div>"
      ],
      "text/plain": [
       "   question_id  bundle_id  correct_answer  part            tags\n",
       "0            0          0               0     1   51 131 162 38\n",
       "1            1          1               1     1       131 36 81\n",
       "2            2          2               0     1  131 101 162 92\n",
       "3            3          3               0     1  131 149 162 29\n",
       "4            4          4               3     1    131 5 162 38"
      ]
     },
     "metadata": {},
     "output_type": "display_data"
    }
   ],
   "source": [
    "display(quest_df.head())"
   ]
  },
  {
   "cell_type": "code",
   "execution_count": 43,
   "id": "8a10f5f5",
   "metadata": {},
   "outputs": [
    {
     "data": {
      "text/html": [
       "<div>\n",
       "<style scoped>\n",
       "    .dataframe tbody tr th:only-of-type {\n",
       "        vertical-align: middle;\n",
       "    }\n",
       "\n",
       "    .dataframe tbody tr th {\n",
       "        vertical-align: top;\n",
       "    }\n",
       "\n",
       "    .dataframe thead th {\n",
       "        text-align: right;\n",
       "    }\n",
       "</style>\n",
       "<table border=\"1\" class=\"dataframe\">\n",
       "  <thead>\n",
       "    <tr style=\"text-align: right;\">\n",
       "      <th></th>\n",
       "      <th>question_id</th>\n",
       "      <th>bundle_id</th>\n",
       "      <th>correct_answer</th>\n",
       "      <th>part</th>\n",
       "    </tr>\n",
       "  </thead>\n",
       "  <tbody>\n",
       "    <tr>\n",
       "      <th>count</th>\n",
       "      <td>13523.00000</td>\n",
       "      <td>13523.000000</td>\n",
       "      <td>13523.000000</td>\n",
       "      <td>13523.000000</td>\n",
       "    </tr>\n",
       "    <tr>\n",
       "      <th>mean</th>\n",
       "      <td>6761.00000</td>\n",
       "      <td>6760.510907</td>\n",
       "      <td>1.455298</td>\n",
       "      <td>4.264956</td>\n",
       "    </tr>\n",
       "    <tr>\n",
       "      <th>std</th>\n",
       "      <td>3903.89818</td>\n",
       "      <td>3903.857783</td>\n",
       "      <td>1.149707</td>\n",
       "      <td>1.652553</td>\n",
       "    </tr>\n",
       "    <tr>\n",
       "      <th>min</th>\n",
       "      <td>0.00000</td>\n",
       "      <td>0.000000</td>\n",
       "      <td>0.000000</td>\n",
       "      <td>1.000000</td>\n",
       "    </tr>\n",
       "    <tr>\n",
       "      <th>25%</th>\n",
       "      <td>3380.50000</td>\n",
       "      <td>3379.500000</td>\n",
       "      <td>0.000000</td>\n",
       "      <td>3.000000</td>\n",
       "    </tr>\n",
       "    <tr>\n",
       "      <th>50%</th>\n",
       "      <td>6761.00000</td>\n",
       "      <td>6761.000000</td>\n",
       "      <td>1.000000</td>\n",
       "      <td>5.000000</td>\n",
       "    </tr>\n",
       "    <tr>\n",
       "      <th>75%</th>\n",
       "      <td>10141.50000</td>\n",
       "      <td>10140.000000</td>\n",
       "      <td>3.000000</td>\n",
       "      <td>5.000000</td>\n",
       "    </tr>\n",
       "    <tr>\n",
       "      <th>max</th>\n",
       "      <td>13522.00000</td>\n",
       "      <td>13522.000000</td>\n",
       "      <td>3.000000</td>\n",
       "      <td>7.000000</td>\n",
       "    </tr>\n",
       "  </tbody>\n",
       "</table>\n",
       "</div>"
      ],
      "text/plain": [
       "       question_id     bundle_id  correct_answer          part\n",
       "count  13523.00000  13523.000000    13523.000000  13523.000000\n",
       "mean    6761.00000   6760.510907        1.455298      4.264956\n",
       "std     3903.89818   3903.857783        1.149707      1.652553\n",
       "min        0.00000      0.000000        0.000000      1.000000\n",
       "25%     3380.50000   3379.500000        0.000000      3.000000\n",
       "50%     6761.00000   6761.000000        1.000000      5.000000\n",
       "75%    10141.50000  10140.000000        3.000000      5.000000\n",
       "max    13522.00000  13522.000000        3.000000      7.000000"
      ]
     },
     "metadata": {},
     "output_type": "display_data"
    }
   ],
   "source": [
    "display(quest_df.describe())"
   ]
  },
  {
   "cell_type": "code",
   "execution_count": 44,
   "id": "d510be37",
   "metadata": {},
   "outputs": [
    {
     "name": "stdout",
     "output_type": "stream",
     "text": [
      "<class 'pandas.core.frame.DataFrame'>\n",
      "RangeIndex: 13523 entries, 0 to 13522\n",
      "Data columns (total 5 columns):\n",
      " #   Column          Non-Null Count  Dtype \n",
      "---  ------          --------------  ----- \n",
      " 0   question_id     13523 non-null  int64 \n",
      " 1   bundle_id       13523 non-null  int64 \n",
      " 2   correct_answer  13523 non-null  int64 \n",
      " 3   part            13523 non-null  int64 \n",
      " 4   tags            13522 non-null  object\n",
      "dtypes: int64(4), object(1)\n",
      "memory usage: 528.4+ KB\n"
     ]
    }
   ],
   "source": [
    "quest_df.info()"
   ]
  },
  {
   "cell_type": "code",
   "execution_count": 45,
   "id": "8125dc9c",
   "metadata": {},
   "outputs": [
    {
     "name": "stdout",
     "output_type": "stream",
     "text": [
      "<class 'pandas.core.frame.DataFrame'>\n",
      "RangeIndex: 13523 entries, 0 to 13522\n",
      "Data columns (total 5 columns):\n",
      " #   Column          Non-Null Count  Dtype \n",
      "---  ------          --------------  ----- \n",
      " 0   question_id     13523 non-null  int16 \n",
      " 1   bundle_id       13523 non-null  int16 \n",
      " 2   correct_answer  13523 non-null  int8  \n",
      " 3   part            13523 non-null  int8  \n",
      " 4   tags            13522 non-null  object\n",
      "dtypes: int16(2), int8(2), object(1)\n",
      "memory usage: 185.0+ KB\n"
     ]
    }
   ],
   "source": [
    "quest_df.question_id = quest_df.question_id.astype('int16')\n",
    "quest_df.bundle_id = quest_df.bundle_id.astype('int16')\n",
    "quest_df.correct_answer = quest_df.correct_answer.astype('int8')\n",
    "quest_df.part = quest_df.part.astype('int8')\n",
    "quest_df.info()"
   ]
  },
  {
   "cell_type": "code",
   "execution_count": 46,
   "id": "a100b4c5",
   "metadata": {},
   "outputs": [
    {
     "data": {
      "text/plain": [
       "1519"
      ]
     },
     "execution_count": 46,
     "metadata": {},
     "output_type": "execute_result"
    }
   ],
   "source": [
    "len(quest_df.tags.value_counts())\n",
    "#1519\n",
    "# не будем переводить в категорию"
   ]
  },
  {
   "cell_type": "code",
   "execution_count": 47,
   "id": "d813aff1",
   "metadata": {},
   "outputs": [
    {
     "name": "stdout",
     "output_type": "stream",
     "text": [
      "189\n"
     ]
    }
   ],
   "source": [
    "s = set()\n",
    "x = []\n",
    "for row in quest_df.itertuples():\n",
    "    x = x + str(row.tags).split(sep = ' ')\n",
    "print(len(set(x)))\n",
    "# всего 189 уникальных тэгов. Не будем разворачивать их в колонки, слишком много уникальных значений."
   ]
  },
  {
   "cell_type": "markdown",
   "id": "1f66eb73",
   "metadata": {},
   "source": [
    "# 2) Поиск и очистка данных от аномальных значений"
   ]
  },
  {
   "cell_type": "code",
   "execution_count": 48,
   "id": "1461e099",
   "metadata": {},
   "outputs": [],
   "source": [
    "# теперь когда датафрейм стал меньше, посмотрим на данные более внимательно"
   ]
  },
  {
   "cell_type": "code",
   "execution_count": 49,
   "id": "d8dd7d79",
   "metadata": {},
   "outputs": [
    {
     "data": {
      "text/plain": [
       "row_id                            101230332\n",
       "timestamp                         101230332\n",
       "user_id                           101230332\n",
       "content_id                        101230332\n",
       "content_type_id                   101230332\n",
       "task_container_id                 101230332\n",
       "user_answer                       101230332\n",
       "answered_correctly                101230332\n",
       "prior_question_elapsed_time        98878794\n",
       "prior_question_had_explanation    100837826\n",
       "dtype: int64"
      ]
     },
     "execution_count": 49,
     "metadata": {},
     "output_type": "execute_result"
    }
   ],
   "source": [
    "train_df.count()\n",
    "# видим, что в prior_question_elapsed_time есть nan, что соответствует постановке"
   ]
  },
  {
   "cell_type": "markdown",
   "id": "1ee1acc7",
   "metadata": {},
   "source": [
    "## 2.1) Исследование prior_question_elapsed_time (pqe_time)"
   ]
  },
  {
   "cell_type": "code",
   "execution_count": 50,
   "id": "5072d4f3",
   "metadata": {},
   "outputs": [],
   "source": [
    "etime_stat_ser = train_df.prior_question_elapsed_time.value_counts().sort_values(ascending = False)"
   ]
  },
  {
   "cell_type": "code",
   "execution_count": 51,
   "id": "59f17cd9",
   "metadata": {},
   "outputs": [
    {
     "data": {
      "text/plain": [
       "17000.0     5154588\n",
       "16000.0     4752104\n",
       "18000.0     4670915\n",
       "19000.0     4017031\n",
       "15000.0     3640279\n",
       "             ...   \n",
       "259666.0          1\n",
       "298600.0          1\n",
       "299666.0          1\n",
       "297200.0          1\n",
       "256400.0          1\n",
       "Name: prior_question_elapsed_time, Length: 3258, dtype: int64"
      ]
     },
     "execution_count": 51,
     "metadata": {},
     "output_type": "execute_result"
    }
   ],
   "source": [
    "etime_stat_ser"
   ]
  },
  {
   "cell_type": "code",
   "execution_count": 52,
   "id": "cd507812",
   "metadata": {},
   "outputs": [
    {
     "data": {
      "text/plain": [
       "17000.0    5.213\n",
       "16000.0    4.806\n",
       "18000.0    4.724\n",
       "19000.0    4.063\n",
       "15000.0    3.682\n",
       "20000.0    3.638\n",
       "21000.0    3.364\n",
       "22000.0    3.076\n",
       "23000.0    2.708\n",
       "14000.0    2.664\n",
       "24000.0    2.351\n",
       "13000.0    2.085\n",
       "25000.0    2.045\n",
       "12000.0    1.845\n",
       "26000.0    1.793\n",
       "11000.0    1.680\n",
       "10000.0    1.595\n",
       "27000.0    1.587\n",
       "9000.0     1.525\n",
       "28000.0    1.410\n",
       "Name: prior_question_elapsed_time, dtype: float64"
      ]
     },
     "execution_count": 52,
     "metadata": {},
     "output_type": "execute_result"
    }
   ],
   "source": [
    "# посмотрим, как распределены проценты по самы частым временам\n",
    "etime_stat_ser1 = etime_stat_ser.apply(lambda x: round(100*x/98878794, 3))\n",
    "etime_stat_ser1.head(20)\n",
    "# обратим внимание, что самые часты времена приходятся на целое число секунды (кратны 1000), это не соотвествует ожиданиям "
   ]
  },
  {
   "cell_type": "code",
   "execution_count": 53,
   "id": "a33cb792",
   "metadata": {},
   "outputs": [],
   "source": [
    "import matplotlib.pyplot as plt"
   ]
  },
  {
   "cell_type": "code",
   "execution_count": 54,
   "id": "d9508ef2",
   "metadata": {},
   "outputs": [
    {
     "data": {
      "text/plain": [
       "<AxesSubplot:>"
      ]
     },
     "execution_count": 54,
     "metadata": {},
     "output_type": "execute_result"
    },
    {
     "data": {
      "image/png": "[encoded data removed]",
      "text/plain": [
       "<Figure size 792x792 with 1 Axes>"
      ]
     },
     "metadata": {
      "needs_background": "light"
     },
     "output_type": "display_data"
    }
   ],
   "source": [
    "etime_stat_ser1.sort_index().plot(figsize = (11,11))"
   ]
  },
  {
   "cell_type": "code",
   "execution_count": 55,
   "id": "d25f79ac",
   "metadata": {},
   "outputs": [
    {
     "data": {
      "text/plain": [
       "<AxesSubplot:>"
      ]
     },
     "execution_count": 55,
     "metadata": {},
     "output_type": "execute_result"
    },
    {
     "data": {
      "image/png": "[encoded data removed]",
      "text/plain": [
       "<Figure size 288x288 with 1 Axes>"
      ]
     },
     "metadata": {
      "needs_background": "light"
     },
     "output_type": "display_data"
    }
   ],
   "source": [
    "# видим небольшой всплеск на больших значениях абсциссы, исследуем их\n",
    "etime_stat_ser1.sort_index().tail(5).plot(figsize = (4,4))"
   ]
  },
  {
   "cell_type": "code",
   "execution_count": 56,
   "id": "22de61fa",
   "metadata": {},
   "outputs": [
    {
     "data": {
      "text/plain": [
       "299600.0        3\n",
       "299666.0        1\n",
       "299750.0       13\n",
       "299800.0       13\n",
       "300000.0    71896\n",
       "Name: prior_question_elapsed_time, dtype: int64"
      ]
     },
     "execution_count": 56,
     "metadata": {},
     "output_type": "execute_result"
    }
   ],
   "source": [
    "etime_stat_ser.sort_index().tail(5)"
   ]
  },
  {
   "cell_type": "code",
   "execution_count": 57,
   "id": "272f7a4a",
   "metadata": {},
   "outputs": [],
   "source": [
    "# видим, что 72 тыс. строк имеет значение 300 секунд. Видимо, это максимальное значение в системе.\n",
    "# удалять или как-то менять эти данные было бы неправильно, но будем помнить об этой особенности, \n",
    "# на случай если мы решим ввести категорию по prior_question_elapsed_time"
   ]
  },
  {
   "cell_type": "code",
   "execution_count": 58,
   "id": "c8f6d769",
   "metadata": {
    "scrolled": true
   },
   "outputs": [
    {
     "data": {
      "text/plain": [
       "<AxesSubplot:>"
      ]
     },
     "execution_count": 58,
     "metadata": {},
     "output_type": "execute_result"
    },
    {
     "data": {
      "image/png": "[encoded data removed]",
      "text/plain": [
       "<Figure size 792x288 with 1 Axes>"
      ]
     },
     "metadata": {
      "needs_background": "light"
     },
     "output_type": "display_data"
    }
   ],
   "source": [
    "# более детально исследуется тот факт, что на целое число секун приходятся пики:\n",
    "etime_stat_ser.sort_index().head(200).plot(figsize = (11,4))"
   ]
  },
  {
   "cell_type": "code",
   "execution_count": 59,
   "id": "574f509f",
   "metadata": {},
   "outputs": [
    {
     "data": {
      "text/plain": [
       "<AxesSubplot:>"
      ]
     },
     "execution_count": 59,
     "metadata": {},
     "output_type": "execute_result"
    },
    {
     "data": {
      "image/png": "[encoded data removed]",
      "text/plain": [
       "<Figure size 792x288 with 1 Axes>"
      ]
     },
     "metadata": {
      "needs_background": "light"
     },
     "output_type": "display_data"
    }
   ],
   "source": [
    "# обратим внимание, что распределения для целых и нецелых - разные. На графике ниже видно, что ни максимумы ни форма двух (?) мод не совпадают.\n",
    "#Это еще одна странность.\n",
    "etime_stat_ser.sort_index().head(1200).plot(figsize = (11,4))"
   ]
  },
  {
   "cell_type": "code",
   "execution_count": 60,
   "id": "8532bf36",
   "metadata": {},
   "outputs": [
    {
     "data": {
      "text/plain": [
       "<AxesSubplot:>"
      ]
     },
     "execution_count": 60,
     "metadata": {},
     "output_type": "execute_result"
    },
    {
     "data": {
      "image/png": "[encoded data removed]",
      "text/plain": [
       "<Figure size 792x288 with 1 Axes>"
      ]
     },
     "metadata": {
      "needs_background": "light"
     },
     "output_type": "display_data"
    }
   ],
   "source": [
    "# покажем это более наглядно\n",
    "whole_sec_ind_list = list(range(0,301000,1000))\n",
    "#print(whole_sec_ind_list)\n",
    "z = etime_stat_ser[[i in whole_sec_ind_list for i in etime_stat_ser.index]]\n",
    "z.sort_index().head(200).plot(figsize = (11,4))\n",
    "w = etime_stat_ser[[i not in whole_sec_ind_list for i in etime_stat_ser.index]]\n",
    "w.sort_index().head(800).plot(figsize = (11,4))"
   ]
  },
  {
   "cell_type": "code",
   "execution_count": 61,
   "id": "e902578e",
   "metadata": {
    "scrolled": false
   },
   "outputs": [
    {
     "data": {
      "text/plain": [
       "<AxesSubplot:>"
      ]
     },
     "execution_count": 61,
     "metadata": {},
     "output_type": "execute_result"
    },
    {
     "data": {
      "image/png": "[encoded data removed]",
      "text/plain": [
       "<Figure size 792x288 with 1 Axes>"
      ]
     },
     "metadata": {
      "needs_background": "light"
     },
     "output_type": "display_data"
    }
   ],
   "source": [
    "w = etime_stat_ser[[i not in whole_sec_ind_list for i in etime_stat_ser.index]]\n",
    "w.sort_index().head(400).plot(figsize = (11,4))\n",
    "# этот шум выглядит как несколько смешанных рядов\n",
    "# таких строк очень много, миллионы строк."
   ]
  },
  {
   "cell_type": "code",
   "execution_count": 62,
   "id": "978452e3",
   "metadata": {},
   "outputs": [],
   "source": [
    "# пока непонятно, что с ними делать. Нет повода утверждать, что это точно ошибки,\n",
    "# оставим эти строки в датафрейме, не будем их удалять."
   ]
  },
  {
   "cell_type": "code",
   "execution_count": 63,
   "id": "09a2ae8c",
   "metadata": {},
   "outputs": [
    {
     "data": {
      "text/html": [
       "<div>\n",
       "<style scoped>\n",
       "    .dataframe tbody tr th:only-of-type {\n",
       "        vertical-align: middle;\n",
       "    }\n",
       "\n",
       "    .dataframe tbody tr th {\n",
       "        vertical-align: top;\n",
       "    }\n",
       "\n",
       "    .dataframe thead th {\n",
       "        text-align: right;\n",
       "    }\n",
       "</style>\n",
       "<table border=\"1\" class=\"dataframe\">\n",
       "  <thead>\n",
       "    <tr style=\"text-align: right;\">\n",
       "      <th></th>\n",
       "      <th>row_id</th>\n",
       "      <th>timestamp</th>\n",
       "      <th>user_id</th>\n",
       "      <th>content_id</th>\n",
       "      <th>content_type_id</th>\n",
       "      <th>task_container_id</th>\n",
       "      <th>user_answer</th>\n",
       "      <th>answered_correctly</th>\n",
       "      <th>pqe_time</th>\n",
       "      <th>prior_question_had_explanation</th>\n",
       "    </tr>\n",
       "  </thead>\n",
       "  <tbody>\n",
       "    <tr>\n",
       "      <th>0</th>\n",
       "      <td>0</td>\n",
       "      <td>0</td>\n",
       "      <td>115</td>\n",
       "      <td>5692</td>\n",
       "      <td>0</td>\n",
       "      <td>1</td>\n",
       "      <td>3</td>\n",
       "      <td>1</td>\n",
       "      <td>NaN</td>\n",
       "      <td>NaN</td>\n",
       "    </tr>\n",
       "    <tr>\n",
       "      <th>1</th>\n",
       "      <td>1</td>\n",
       "      <td>56943</td>\n",
       "      <td>115</td>\n",
       "      <td>5716</td>\n",
       "      <td>0</td>\n",
       "      <td>2</td>\n",
       "      <td>2</td>\n",
       "      <td>1</td>\n",
       "      <td>37000.0</td>\n",
       "      <td>False</td>\n",
       "    </tr>\n",
       "    <tr>\n",
       "      <th>2</th>\n",
       "      <td>2</td>\n",
       "      <td>118363</td>\n",
       "      <td>115</td>\n",
       "      <td>128</td>\n",
       "      <td>0</td>\n",
       "      <td>0</td>\n",
       "      <td>0</td>\n",
       "      <td>1</td>\n",
       "      <td>55000.0</td>\n",
       "      <td>False</td>\n",
       "    </tr>\n",
       "    <tr>\n",
       "      <th>3</th>\n",
       "      <td>3</td>\n",
       "      <td>131167</td>\n",
       "      <td>115</td>\n",
       "      <td>7860</td>\n",
       "      <td>0</td>\n",
       "      <td>3</td>\n",
       "      <td>0</td>\n",
       "      <td>1</td>\n",
       "      <td>19000.0</td>\n",
       "      <td>False</td>\n",
       "    </tr>\n",
       "    <tr>\n",
       "      <th>4</th>\n",
       "      <td>4</td>\n",
       "      <td>137965</td>\n",
       "      <td>115</td>\n",
       "      <td>7922</td>\n",
       "      <td>0</td>\n",
       "      <td>4</td>\n",
       "      <td>1</td>\n",
       "      <td>1</td>\n",
       "      <td>11000.0</td>\n",
       "      <td>False</td>\n",
       "    </tr>\n",
       "  </tbody>\n",
       "</table>\n",
       "</div>"
      ],
      "text/plain": [
       "   row_id  timestamp  user_id  content_id  content_type_id  task_container_id  \\\n",
       "0       0          0      115        5692                0                  1   \n",
       "1       1      56943      115        5716                0                  2   \n",
       "2       2     118363      115         128                0                  0   \n",
       "3       3     131167      115        7860                0                  3   \n",
       "4       4     137965      115        7922                0                  4   \n",
       "\n",
       "   user_answer  answered_correctly  pqe_time prior_question_had_explanation  \n",
       "0            3                   1       NaN                            NaN  \n",
       "1            2                   1   37000.0                          False  \n",
       "2            0                   1   55000.0                          False  \n",
       "3            0                   1   19000.0                          False  \n",
       "4            1                   1   11000.0                          False  "
      ]
     },
     "execution_count": 63,
     "metadata": {},
     "output_type": "execute_result"
    }
   ],
   "source": [
    "# переименуем пару колонок\n",
    "train_df.rename(inplace=True, columns={'prior_question_elapsed_time': 'pqe_time'})\n",
    "train_df.head()"
   ]
  },
  {
   "cell_type": "code",
   "execution_count": 64,
   "id": "ea39f4c6",
   "metadata": {},
   "outputs": [
    {
     "data": {
      "text/html": [
       "<div>\n",
       "<style scoped>\n",
       "    .dataframe tbody tr th:only-of-type {\n",
       "        vertical-align: middle;\n",
       "    }\n",
       "\n",
       "    .dataframe tbody tr th {\n",
       "        vertical-align: top;\n",
       "    }\n",
       "\n",
       "    .dataframe thead th {\n",
       "        text-align: right;\n",
       "    }\n",
       "</style>\n",
       "<table border=\"1\" class=\"dataframe\">\n",
       "  <thead>\n",
       "    <tr style=\"text-align: right;\">\n",
       "      <th></th>\n",
       "      <th>row_id</th>\n",
       "      <th>timestamp</th>\n",
       "      <th>user_id</th>\n",
       "      <th>content_id</th>\n",
       "      <th>content_type_id</th>\n",
       "      <th>task_container_id</th>\n",
       "      <th>user_answer</th>\n",
       "      <th>answered_correctly</th>\n",
       "      <th>pqe_time</th>\n",
       "      <th>pq_had_expl</th>\n",
       "    </tr>\n",
       "  </thead>\n",
       "  <tbody>\n",
       "    <tr>\n",
       "      <th>0</th>\n",
       "      <td>0</td>\n",
       "      <td>0</td>\n",
       "      <td>115</td>\n",
       "      <td>5692</td>\n",
       "      <td>0</td>\n",
       "      <td>1</td>\n",
       "      <td>3</td>\n",
       "      <td>1</td>\n",
       "      <td>NaN</td>\n",
       "      <td>NaN</td>\n",
       "    </tr>\n",
       "    <tr>\n",
       "      <th>1</th>\n",
       "      <td>1</td>\n",
       "      <td>56943</td>\n",
       "      <td>115</td>\n",
       "      <td>5716</td>\n",
       "      <td>0</td>\n",
       "      <td>2</td>\n",
       "      <td>2</td>\n",
       "      <td>1</td>\n",
       "      <td>37000.0</td>\n",
       "      <td>False</td>\n",
       "    </tr>\n",
       "    <tr>\n",
       "      <th>2</th>\n",
       "      <td>2</td>\n",
       "      <td>118363</td>\n",
       "      <td>115</td>\n",
       "      <td>128</td>\n",
       "      <td>0</td>\n",
       "      <td>0</td>\n",
       "      <td>0</td>\n",
       "      <td>1</td>\n",
       "      <td>55000.0</td>\n",
       "      <td>False</td>\n",
       "    </tr>\n",
       "    <tr>\n",
       "      <th>3</th>\n",
       "      <td>3</td>\n",
       "      <td>131167</td>\n",
       "      <td>115</td>\n",
       "      <td>7860</td>\n",
       "      <td>0</td>\n",
       "      <td>3</td>\n",
       "      <td>0</td>\n",
       "      <td>1</td>\n",
       "      <td>19000.0</td>\n",
       "      <td>False</td>\n",
       "    </tr>\n",
       "    <tr>\n",
       "      <th>4</th>\n",
       "      <td>4</td>\n",
       "      <td>137965</td>\n",
       "      <td>115</td>\n",
       "      <td>7922</td>\n",
       "      <td>0</td>\n",
       "      <td>4</td>\n",
       "      <td>1</td>\n",
       "      <td>1</td>\n",
       "      <td>11000.0</td>\n",
       "      <td>False</td>\n",
       "    </tr>\n",
       "  </tbody>\n",
       "</table>\n",
       "</div>"
      ],
      "text/plain": [
       "   row_id  timestamp  user_id  content_id  content_type_id  task_container_id  \\\n",
       "0       0          0      115        5692                0                  1   \n",
       "1       1      56943      115        5716                0                  2   \n",
       "2       2     118363      115         128                0                  0   \n",
       "3       3     131167      115        7860                0                  3   \n",
       "4       4     137965      115        7922                0                  4   \n",
       "\n",
       "   user_answer  answered_correctly  pqe_time pq_had_expl  \n",
       "0            3                   1       NaN         NaN  \n",
       "1            2                   1   37000.0       False  \n",
       "2            0                   1   55000.0       False  \n",
       "3            0                   1   19000.0       False  \n",
       "4            1                   1   11000.0       False  "
      ]
     },
     "execution_count": 64,
     "metadata": {},
     "output_type": "execute_result"
    }
   ],
   "source": [
    "train_df.rename(inplace=True, columns={'prior_question_had_explanation': 'pq_had_expl'})\n",
    "train_df.head()"
   ]
  },
  {
   "cell_type": "markdown",
   "id": "f04538e1",
   "metadata": {},
   "source": [
    "## 2.2) Избавимся от nan  в PQE_time"
   ]
  },
  {
   "cell_type": "code",
   "execution_count": 65,
   "id": "6b7144e4",
   "metadata": {},
   "outputs": [],
   "source": [
    "import math as m\n",
    "train_df['pqe_nan'] = train_df.pqe_time.apply(lambda x: m.isnan(x))"
   ]
  },
  {
   "cell_type": "code",
   "execution_count": 66,
   "id": "7196edbf",
   "metadata": {},
   "outputs": [
    {
     "data": {
      "text/html": [
       "<div>\n",
       "<style scoped>\n",
       "    .dataframe tbody tr th:only-of-type {\n",
       "        vertical-align: middle;\n",
       "    }\n",
       "\n",
       "    .dataframe tbody tr th {\n",
       "        vertical-align: top;\n",
       "    }\n",
       "\n",
       "    .dataframe thead th {\n",
       "        text-align: right;\n",
       "    }\n",
       "</style>\n",
       "<table border=\"1\" class=\"dataframe\">\n",
       "  <thead>\n",
       "    <tr style=\"text-align: right;\">\n",
       "      <th></th>\n",
       "      <th>row_id</th>\n",
       "      <th>timestamp</th>\n",
       "      <th>user_id</th>\n",
       "      <th>content_id</th>\n",
       "      <th>content_type_id</th>\n",
       "      <th>task_container_id</th>\n",
       "      <th>user_answer</th>\n",
       "      <th>answered_correctly</th>\n",
       "      <th>pqe_time</th>\n",
       "      <th>pq_had_expl</th>\n",
       "      <th>pqe_nan</th>\n",
       "    </tr>\n",
       "  </thead>\n",
       "  <tbody>\n",
       "    <tr>\n",
       "      <th>0</th>\n",
       "      <td>0</td>\n",
       "      <td>0</td>\n",
       "      <td>115</td>\n",
       "      <td>5692</td>\n",
       "      <td>0</td>\n",
       "      <td>1</td>\n",
       "      <td>3</td>\n",
       "      <td>1</td>\n",
       "      <td>NaN</td>\n",
       "      <td>NaN</td>\n",
       "      <td>True</td>\n",
       "    </tr>\n",
       "    <tr>\n",
       "      <th>1</th>\n",
       "      <td>1</td>\n",
       "      <td>56943</td>\n",
       "      <td>115</td>\n",
       "      <td>5716</td>\n",
       "      <td>0</td>\n",
       "      <td>2</td>\n",
       "      <td>2</td>\n",
       "      <td>1</td>\n",
       "      <td>37000.0</td>\n",
       "      <td>False</td>\n",
       "      <td>False</td>\n",
       "    </tr>\n",
       "    <tr>\n",
       "      <th>2</th>\n",
       "      <td>2</td>\n",
       "      <td>118363</td>\n",
       "      <td>115</td>\n",
       "      <td>128</td>\n",
       "      <td>0</td>\n",
       "      <td>0</td>\n",
       "      <td>0</td>\n",
       "      <td>1</td>\n",
       "      <td>55000.0</td>\n",
       "      <td>False</td>\n",
       "      <td>False</td>\n",
       "    </tr>\n",
       "    <tr>\n",
       "      <th>3</th>\n",
       "      <td>3</td>\n",
       "      <td>131167</td>\n",
       "      <td>115</td>\n",
       "      <td>7860</td>\n",
       "      <td>0</td>\n",
       "      <td>3</td>\n",
       "      <td>0</td>\n",
       "      <td>1</td>\n",
       "      <td>19000.0</td>\n",
       "      <td>False</td>\n",
       "      <td>False</td>\n",
       "    </tr>\n",
       "    <tr>\n",
       "      <th>4</th>\n",
       "      <td>4</td>\n",
       "      <td>137965</td>\n",
       "      <td>115</td>\n",
       "      <td>7922</td>\n",
       "      <td>0</td>\n",
       "      <td>4</td>\n",
       "      <td>1</td>\n",
       "      <td>1</td>\n",
       "      <td>11000.0</td>\n",
       "      <td>False</td>\n",
       "      <td>False</td>\n",
       "    </tr>\n",
       "  </tbody>\n",
       "</table>\n",
       "</div>"
      ],
      "text/plain": [
       "   row_id  timestamp  user_id  content_id  content_type_id  task_container_id  \\\n",
       "0       0          0      115        5692                0                  1   \n",
       "1       1      56943      115        5716                0                  2   \n",
       "2       2     118363      115         128                0                  0   \n",
       "3       3     131167      115        7860                0                  3   \n",
       "4       4     137965      115        7922                0                  4   \n",
       "\n",
       "   user_answer  answered_correctly  pqe_time pq_had_expl  pqe_nan  \n",
       "0            3                   1       NaN         NaN     True  \n",
       "1            2                   1   37000.0       False    False  \n",
       "2            0                   1   55000.0       False    False  \n",
       "3            0                   1   19000.0       False    False  \n",
       "4            1                   1   11000.0       False    False  "
      ]
     },
     "execution_count": 66,
     "metadata": {},
     "output_type": "execute_result"
    }
   ],
   "source": [
    "train_df.head()"
   ]
  },
  {
   "cell_type": "code",
   "execution_count": 67,
   "id": "de588fa5",
   "metadata": {},
   "outputs": [],
   "source": [
    "train_df['pqe_time_2'] = train_df['pqe_time'].apply(lambda x: -1 if m.isnan(x) == True else int(x))"
   ]
  },
  {
   "cell_type": "code",
   "execution_count": 68,
   "id": "205fc742",
   "metadata": {},
   "outputs": [],
   "source": [
    "train_df.drop(labels = 'pqe_time', axis=1,inplace = True )"
   ]
  },
  {
   "cell_type": "code",
   "execution_count": 69,
   "id": "1fd18638",
   "metadata": {},
   "outputs": [
    {
     "data": {
      "text/html": [
       "<div>\n",
       "<style scoped>\n",
       "    .dataframe tbody tr th:only-of-type {\n",
       "        vertical-align: middle;\n",
       "    }\n",
       "\n",
       "    .dataframe tbody tr th {\n",
       "        vertical-align: top;\n",
       "    }\n",
       "\n",
       "    .dataframe thead th {\n",
       "        text-align: right;\n",
       "    }\n",
       "</style>\n",
       "<table border=\"1\" class=\"dataframe\">\n",
       "  <thead>\n",
       "    <tr style=\"text-align: right;\">\n",
       "      <th></th>\n",
       "      <th>row_id</th>\n",
       "      <th>timestamp</th>\n",
       "      <th>user_id</th>\n",
       "      <th>content_id</th>\n",
       "      <th>content_type_id</th>\n",
       "      <th>task_container_id</th>\n",
       "      <th>user_answer</th>\n",
       "      <th>answered_correctly</th>\n",
       "      <th>pq_had_expl</th>\n",
       "      <th>pqe_nan</th>\n",
       "      <th>pqe_time</th>\n",
       "    </tr>\n",
       "  </thead>\n",
       "  <tbody>\n",
       "    <tr>\n",
       "      <th>0</th>\n",
       "      <td>0</td>\n",
       "      <td>0</td>\n",
       "      <td>115</td>\n",
       "      <td>5692</td>\n",
       "      <td>0</td>\n",
       "      <td>1</td>\n",
       "      <td>3</td>\n",
       "      <td>1</td>\n",
       "      <td>NaN</td>\n",
       "      <td>True</td>\n",
       "      <td>-1</td>\n",
       "    </tr>\n",
       "    <tr>\n",
       "      <th>1</th>\n",
       "      <td>1</td>\n",
       "      <td>56943</td>\n",
       "      <td>115</td>\n",
       "      <td>5716</td>\n",
       "      <td>0</td>\n",
       "      <td>2</td>\n",
       "      <td>2</td>\n",
       "      <td>1</td>\n",
       "      <td>False</td>\n",
       "      <td>False</td>\n",
       "      <td>37000</td>\n",
       "    </tr>\n",
       "    <tr>\n",
       "      <th>2</th>\n",
       "      <td>2</td>\n",
       "      <td>118363</td>\n",
       "      <td>115</td>\n",
       "      <td>128</td>\n",
       "      <td>0</td>\n",
       "      <td>0</td>\n",
       "      <td>0</td>\n",
       "      <td>1</td>\n",
       "      <td>False</td>\n",
       "      <td>False</td>\n",
       "      <td>55000</td>\n",
       "    </tr>\n",
       "    <tr>\n",
       "      <th>3</th>\n",
       "      <td>3</td>\n",
       "      <td>131167</td>\n",
       "      <td>115</td>\n",
       "      <td>7860</td>\n",
       "      <td>0</td>\n",
       "      <td>3</td>\n",
       "      <td>0</td>\n",
       "      <td>1</td>\n",
       "      <td>False</td>\n",
       "      <td>False</td>\n",
       "      <td>19000</td>\n",
       "    </tr>\n",
       "    <tr>\n",
       "      <th>4</th>\n",
       "      <td>4</td>\n",
       "      <td>137965</td>\n",
       "      <td>115</td>\n",
       "      <td>7922</td>\n",
       "      <td>0</td>\n",
       "      <td>4</td>\n",
       "      <td>1</td>\n",
       "      <td>1</td>\n",
       "      <td>False</td>\n",
       "      <td>False</td>\n",
       "      <td>11000</td>\n",
       "    </tr>\n",
       "  </tbody>\n",
       "</table>\n",
       "</div>"
      ],
      "text/plain": [
       "   row_id  timestamp  user_id  content_id  content_type_id  task_container_id  \\\n",
       "0       0          0      115        5692                0                  1   \n",
       "1       1      56943      115        5716                0                  2   \n",
       "2       2     118363      115         128                0                  0   \n",
       "3       3     131167      115        7860                0                  3   \n",
       "4       4     137965      115        7922                0                  4   \n",
       "\n",
       "   user_answer  answered_correctly pq_had_expl  pqe_nan  pqe_time  \n",
       "0            3                   1         NaN     True        -1  \n",
       "1            2                   1       False    False     37000  \n",
       "2            0                   1       False    False     55000  \n",
       "3            0                   1       False    False     19000  \n",
       "4            1                   1       False    False     11000  "
      ]
     },
     "execution_count": 69,
     "metadata": {},
     "output_type": "execute_result"
    }
   ],
   "source": [
    "train_df.rename(columns={'pqe_time_2':'pqe_time'}, inplace=True)\n",
    "train_df.head()"
   ]
  },
  {
   "cell_type": "code",
   "execution_count": 70,
   "id": "a5a7bd4e",
   "metadata": {},
   "outputs": [],
   "source": [
    "train_df.drop(labels = 'pqe_nan', axis=1,inplace = True )"
   ]
  },
  {
   "cell_type": "code",
   "execution_count": 71,
   "id": "17fe61e2",
   "metadata": {},
   "outputs": [
    {
     "data": {
      "text/html": [
       "<div>\n",
       "<style scoped>\n",
       "    .dataframe tbody tr th:only-of-type {\n",
       "        vertical-align: middle;\n",
       "    }\n",
       "\n",
       "    .dataframe tbody tr th {\n",
       "        vertical-align: top;\n",
       "    }\n",
       "\n",
       "    .dataframe thead th {\n",
       "        text-align: right;\n",
       "    }\n",
       "</style>\n",
       "<table border=\"1\" class=\"dataframe\">\n",
       "  <thead>\n",
       "    <tr style=\"text-align: right;\">\n",
       "      <th></th>\n",
       "      <th>row_id</th>\n",
       "      <th>timestamp</th>\n",
       "      <th>user_id</th>\n",
       "      <th>content_id</th>\n",
       "      <th>content_type_id</th>\n",
       "      <th>task_container_id</th>\n",
       "      <th>user_answer</th>\n",
       "      <th>answered_correctly</th>\n",
       "      <th>pq_had_expl</th>\n",
       "      <th>pqe_time</th>\n",
       "    </tr>\n",
       "  </thead>\n",
       "  <tbody>\n",
       "    <tr>\n",
       "      <th>0</th>\n",
       "      <td>0</td>\n",
       "      <td>0</td>\n",
       "      <td>115</td>\n",
       "      <td>5692</td>\n",
       "      <td>0</td>\n",
       "      <td>1</td>\n",
       "      <td>3</td>\n",
       "      <td>1</td>\n",
       "      <td>NaN</td>\n",
       "      <td>-1</td>\n",
       "    </tr>\n",
       "    <tr>\n",
       "      <th>1</th>\n",
       "      <td>1</td>\n",
       "      <td>56943</td>\n",
       "      <td>115</td>\n",
       "      <td>5716</td>\n",
       "      <td>0</td>\n",
       "      <td>2</td>\n",
       "      <td>2</td>\n",
       "      <td>1</td>\n",
       "      <td>False</td>\n",
       "      <td>37000</td>\n",
       "    </tr>\n",
       "    <tr>\n",
       "      <th>2</th>\n",
       "      <td>2</td>\n",
       "      <td>118363</td>\n",
       "      <td>115</td>\n",
       "      <td>128</td>\n",
       "      <td>0</td>\n",
       "      <td>0</td>\n",
       "      <td>0</td>\n",
       "      <td>1</td>\n",
       "      <td>False</td>\n",
       "      <td>55000</td>\n",
       "    </tr>\n",
       "    <tr>\n",
       "      <th>3</th>\n",
       "      <td>3</td>\n",
       "      <td>131167</td>\n",
       "      <td>115</td>\n",
       "      <td>7860</td>\n",
       "      <td>0</td>\n",
       "      <td>3</td>\n",
       "      <td>0</td>\n",
       "      <td>1</td>\n",
       "      <td>False</td>\n",
       "      <td>19000</td>\n",
       "    </tr>\n",
       "    <tr>\n",
       "      <th>4</th>\n",
       "      <td>4</td>\n",
       "      <td>137965</td>\n",
       "      <td>115</td>\n",
       "      <td>7922</td>\n",
       "      <td>0</td>\n",
       "      <td>4</td>\n",
       "      <td>1</td>\n",
       "      <td>1</td>\n",
       "      <td>False</td>\n",
       "      <td>11000</td>\n",
       "    </tr>\n",
       "  </tbody>\n",
       "</table>\n",
       "</div>"
      ],
      "text/plain": [
       "   row_id  timestamp  user_id  content_id  content_type_id  task_container_id  \\\n",
       "0       0          0      115        5692                0                  1   \n",
       "1       1      56943      115        5716                0                  2   \n",
       "2       2     118363      115         128                0                  0   \n",
       "3       3     131167      115        7860                0                  3   \n",
       "4       4     137965      115        7922                0                  4   \n",
       "\n",
       "   user_answer  answered_correctly pq_had_expl  pqe_time  \n",
       "0            3                   1         NaN        -1  \n",
       "1            2                   1       False     37000  \n",
       "2            0                   1       False     55000  \n",
       "3            0                   1       False     19000  \n",
       "4            1                   1       False     11000  "
      ]
     },
     "execution_count": 71,
     "metadata": {},
     "output_type": "execute_result"
    }
   ],
   "source": [
    "train_df.head()"
   ]
  },
  {
   "cell_type": "markdown",
   "id": "662ae010",
   "metadata": {},
   "source": [
    "## 2.3) Попарная консистентность полей: train_df.content_id и quest_df.question_id"
   ]
  },
  {
   "cell_type": "code",
   "execution_count": 72,
   "id": "d04c3d8f",
   "metadata": {},
   "outputs": [
    {
     "name": "stdout",
     "output_type": "stream",
     "text": [
      "13523 13523 13523 13523 0 0 0\n"
     ]
    }
   ],
   "source": [
    "# content_id - это ключ для question_id в файле questions (для строк content_type_id = 0)\n",
    "# проверим, что в train нет значений content_id, которых нет в questions\n",
    "\n",
    "list1 = train_df[train_df.content_type_id == 0]['content_id'].unique()\n",
    "set1 = set(list1)\n",
    "list2 = quest_df['question_id'].unique()\n",
    "set2 = set(list2)\n",
    "print(len(set1), len(set2), len(set1 & set2), len(set2 & set1), len(set1 ^ set2), len(set1-set2), len(set2-set1))\n",
    "# 13523 13523 13523 13523 0 0 0\n",
    "# все сходится: в train нет id вопросов, которых не было бы в соотвествующем справочнике вопросов"
   ]
  },
  {
   "cell_type": "code",
   "execution_count": 73,
   "id": "d31ad47c",
   "metadata": {},
   "outputs": [],
   "source": [
    "# Для того, чтобы заново не прогонять все исследования, запишем текущий вид train_df в файл\n",
    "train_df.to_csv('data/train_2.csv')"
   ]
  },
  {
   "cell_type": "code",
   "execution_count": 74,
   "id": "5698df7d",
   "metadata": {},
   "outputs": [
    {
     "data": {
      "text/plain": [
       "'\\n 0   row_id                          int32  \\n 1   timestamp                       int64  \\n 2   user_id                         int32  \\n 3   content_id                      int16  \\n 4   content_type_id                 int8   \\n 5   task_container_id               int16  \\n 6   user_answer                     int8   \\n 7   answered_correctly              int8   \\n 8   prior_question_elapsed_time     float64\\n 9   prior_question_had_explanation  object \\n '"
      ]
     },
     "execution_count": 74,
     "metadata": {},
     "output_type": "execute_result"
    }
   ],
   "source": [
    "'''\n",
    " 0   row_id                          int32  \n",
    " 1   timestamp                       int64  \n",
    " 2   user_id                         int32  \n",
    " 3   content_id                      int16  \n",
    " 4   content_type_id                 int8   \n",
    " 5   task_container_id               int16  \n",
    " 6   user_answer                     int8   \n",
    " 7   answered_correctly              int8   \n",
    " 8   prior_question_elapsed_time     float64\n",
    " 9   prior_question_had_explanation  object \n",
    " '''"
   ]
  },
  {
   "cell_type": "code",
   "execution_count": 75,
   "id": "95256a44",
   "metadata": {},
   "outputs": [
    {
     "data": {
      "text/html": [
       "<div>\n",
       "<style scoped>\n",
       "    .dataframe tbody tr th:only-of-type {\n",
       "        vertical-align: middle;\n",
       "    }\n",
       "\n",
       "    .dataframe tbody tr th {\n",
       "        vertical-align: top;\n",
       "    }\n",
       "\n",
       "    .dataframe thead th {\n",
       "        text-align: right;\n",
       "    }\n",
       "</style>\n",
       "<table border=\"1\" class=\"dataframe\">\n",
       "  <thead>\n",
       "    <tr style=\"text-align: right;\">\n",
       "      <th></th>\n",
       "      <th>Unnamed: 0</th>\n",
       "      <th>row_id</th>\n",
       "      <th>timestamp</th>\n",
       "      <th>user_id</th>\n",
       "      <th>content_id</th>\n",
       "      <th>content_type_id</th>\n",
       "      <th>task_container_id</th>\n",
       "      <th>user_answer</th>\n",
       "      <th>answered_correctly</th>\n",
       "      <th>pq_had_expl</th>\n",
       "      <th>pqe_time</th>\n",
       "    </tr>\n",
       "  </thead>\n",
       "  <tbody>\n",
       "    <tr>\n",
       "      <th>0</th>\n",
       "      <td>0</td>\n",
       "      <td>0</td>\n",
       "      <td>0</td>\n",
       "      <td>115</td>\n",
       "      <td>5692</td>\n",
       "      <td>0</td>\n",
       "      <td>1</td>\n",
       "      <td>3</td>\n",
       "      <td>1</td>\n",
       "      <td>NaN</td>\n",
       "      <td>-1</td>\n",
       "    </tr>\n",
       "    <tr>\n",
       "      <th>1</th>\n",
       "      <td>1</td>\n",
       "      <td>1</td>\n",
       "      <td>56943</td>\n",
       "      <td>115</td>\n",
       "      <td>5716</td>\n",
       "      <td>0</td>\n",
       "      <td>2</td>\n",
       "      <td>2</td>\n",
       "      <td>1</td>\n",
       "      <td>False</td>\n",
       "      <td>37000</td>\n",
       "    </tr>\n",
       "    <tr>\n",
       "      <th>2</th>\n",
       "      <td>2</td>\n",
       "      <td>2</td>\n",
       "      <td>118363</td>\n",
       "      <td>115</td>\n",
       "      <td>128</td>\n",
       "      <td>0</td>\n",
       "      <td>0</td>\n",
       "      <td>0</td>\n",
       "      <td>1</td>\n",
       "      <td>False</td>\n",
       "      <td>55000</td>\n",
       "    </tr>\n",
       "    <tr>\n",
       "      <th>3</th>\n",
       "      <td>3</td>\n",
       "      <td>3</td>\n",
       "      <td>131167</td>\n",
       "      <td>115</td>\n",
       "      <td>7860</td>\n",
       "      <td>0</td>\n",
       "      <td>3</td>\n",
       "      <td>0</td>\n",
       "      <td>1</td>\n",
       "      <td>False</td>\n",
       "      <td>19000</td>\n",
       "    </tr>\n",
       "    <tr>\n",
       "      <th>4</th>\n",
       "      <td>4</td>\n",
       "      <td>4</td>\n",
       "      <td>137965</td>\n",
       "      <td>115</td>\n",
       "      <td>7922</td>\n",
       "      <td>0</td>\n",
       "      <td>4</td>\n",
       "      <td>1</td>\n",
       "      <td>1</td>\n",
       "      <td>False</td>\n",
       "      <td>11000</td>\n",
       "    </tr>\n",
       "    <tr>\n",
       "      <th>5</th>\n",
       "      <td>5</td>\n",
       "      <td>5</td>\n",
       "      <td>157063</td>\n",
       "      <td>115</td>\n",
       "      <td>156</td>\n",
       "      <td>0</td>\n",
       "      <td>5</td>\n",
       "      <td>2</td>\n",
       "      <td>1</td>\n",
       "      <td>False</td>\n",
       "      <td>5000</td>\n",
       "    </tr>\n",
       "    <tr>\n",
       "      <th>6</th>\n",
       "      <td>6</td>\n",
       "      <td>6</td>\n",
       "      <td>176092</td>\n",
       "      <td>115</td>\n",
       "      <td>51</td>\n",
       "      <td>0</td>\n",
       "      <td>6</td>\n",
       "      <td>0</td>\n",
       "      <td>1</td>\n",
       "      <td>False</td>\n",
       "      <td>17000</td>\n",
       "    </tr>\n",
       "    <tr>\n",
       "      <th>7</th>\n",
       "      <td>7</td>\n",
       "      <td>7</td>\n",
       "      <td>194190</td>\n",
       "      <td>115</td>\n",
       "      <td>50</td>\n",
       "      <td>0</td>\n",
       "      <td>7</td>\n",
       "      <td>3</td>\n",
       "      <td>1</td>\n",
       "      <td>False</td>\n",
       "      <td>17000</td>\n",
       "    </tr>\n",
       "    <tr>\n",
       "      <th>8</th>\n",
       "      <td>8</td>\n",
       "      <td>8</td>\n",
       "      <td>212463</td>\n",
       "      <td>115</td>\n",
       "      <td>7896</td>\n",
       "      <td>0</td>\n",
       "      <td>8</td>\n",
       "      <td>2</td>\n",
       "      <td>1</td>\n",
       "      <td>False</td>\n",
       "      <td>16000</td>\n",
       "    </tr>\n",
       "    <tr>\n",
       "      <th>9</th>\n",
       "      <td>9</td>\n",
       "      <td>9</td>\n",
       "      <td>230983</td>\n",
       "      <td>115</td>\n",
       "      <td>7863</td>\n",
       "      <td>0</td>\n",
       "      <td>9</td>\n",
       "      <td>0</td>\n",
       "      <td>1</td>\n",
       "      <td>False</td>\n",
       "      <td>16000</td>\n",
       "    </tr>\n",
       "  </tbody>\n",
       "</table>\n",
       "</div>"
      ],
      "text/plain": [
       "   Unnamed: 0  row_id  timestamp  user_id  content_id  content_type_id  \\\n",
       "0           0       0          0      115        5692                0   \n",
       "1           1       1      56943      115        5716                0   \n",
       "2           2       2     118363      115         128                0   \n",
       "3           3       3     131167      115        7860                0   \n",
       "4           4       4     137965      115        7922                0   \n",
       "5           5       5     157063      115         156                0   \n",
       "6           6       6     176092      115          51                0   \n",
       "7           7       7     194190      115          50                0   \n",
       "8           8       8     212463      115        7896                0   \n",
       "9           9       9     230983      115        7863                0   \n",
       "\n",
       "   task_container_id  user_answer  answered_correctly pq_had_expl  pqe_time  \n",
       "0                  1            3                   1         NaN        -1  \n",
       "1                  2            2                   1       False     37000  \n",
       "2                  0            0                   1       False     55000  \n",
       "3                  3            0                   1       False     19000  \n",
       "4                  4            1                   1       False     11000  \n",
       "5                  5            2                   1       False      5000  \n",
       "6                  6            0                   1       False     17000  \n",
       "7                  7            3                   1       False     17000  \n",
       "8                  8            2                   1       False     16000  \n",
       "9                  9            0                   1       False     16000  "
      ]
     },
     "execution_count": 75,
     "metadata": {},
     "output_type": "execute_result"
    }
   ],
   "source": [
    "tst_train_df = pd.read_csv('data/train_2.csv', nrows = 100)\n",
    "tst_train_df.head(10)\n"
   ]
  },
  {
   "cell_type": "code",
   "execution_count": 76,
   "id": "6288c7a6",
   "metadata": {},
   "outputs": [
    {
     "data": {
      "text/plain": [
       "21"
      ]
     },
     "execution_count": 76,
     "metadata": {},
     "output_type": "execute_result"
    }
   ],
   "source": [
    "del tst_train_df\n",
    "import gc\n",
    "gc.collect()"
   ]
  },
  {
   "cell_type": "markdown",
   "id": "5e2871f7",
   "metadata": {},
   "source": [
    "## 2.4) Попарная консистентность полей: train_df.content_id и lect_df.lecture_id"
   ]
  },
  {
   "cell_type": "code",
   "execution_count": 77,
   "id": "b681697b",
   "metadata": {},
   "outputs": [
    {
     "name": "stdout",
     "output_type": "stream",
     "text": [
      "415 418 415 415 3 0 3\n"
     ]
    }
   ],
   "source": [
    "# выполним похожую проверку для лекций\n",
    "# проверим, что в train нет значений content_id, которых нет в questions\n",
    "\n",
    "#фильтруем оп content_type_id == 1, нам нужны только лекции\n",
    "set1 = set()\n",
    "set2 = set()\n",
    "list1 = train_df[train_df.content_type_id == 1]['content_id'].unique()\n",
    "set1 = set(list1)\n",
    "list2 = lect_df['lecture_id'].unique()\n",
    "set2 = set(list2)\n",
    "print(len(set1), len(set2), len(set1 & set2), len(set2 & set1), len(set1 ^ set2), len(set1-set2), len(set2-set1))\n",
    "# 415 418 415 415 3 0 3\n",
    "# все в порядке: в train нет лекци, отсутствющих в справочнике"
   ]
  },
  {
   "cell_type": "markdown",
   "id": "73fc142f",
   "metadata": {},
   "source": [
    "## 2.5) Попарная консистентность полей: train_df.task_container_id и lect_df.bundle_id"
   ]
  },
  {
   "cell_type": "code",
   "execution_count": 78,
   "id": "fb71a300",
   "metadata": {},
   "outputs": [
    {
     "name": "stdout",
     "output_type": "stream",
     "text": [
      "10000 9765 7476 7476 4813 2524 2289\n"
     ]
    }
   ],
   "source": [
    "set1 = set()\n",
    "set2 = set()\n",
    "list1 = train_df[train_df.content_type_id == 0]['task_container_id'].unique()\n",
    "set1 = set(list1)\n",
    "list2 = quest_df['bundle_id'].unique()\n",
    "set2 = set(list2)\n",
    "print(len(set1), len(set2), len(set1 & set2), len(set2 & set1), len(set1 ^ set2), len(set1-set2), len(set2-set1))\n",
    "# 10000 9765 7476 7476 4813 2524 2289\n",
    "# Данне не консистентны\n",
    "# Этот результат говорит о том, что в train.task_container_id  встречаются значения, которых нет в QUESTIONS.bundle_id\n",
    "# таких значений 4813, посмотрим на строки с такими train.task_container_id:"
   ]
  },
  {
   "cell_type": "code",
   "execution_count": 79,
   "id": "5dcab047",
   "metadata": {},
   "outputs": [],
   "source": [
    "#q_train_df = train_df[train_df.content_type_id == 0]\n",
    "\n",
    "#cont_id = pd.merge(left = train_df[train_df.content_type_id == 0], \n",
    "#                   right = quest_df, \n",
    "#                   how = 'left', \n",
    "#                   left_on = ['content_id','task_container_id'], \n",
    "#                   right_on = ['question_id','bundle_id'],\n",
    "#                   suffixes=('_left', '_right'),\n",
    "#                   indicator=True)\n",
    "#display(cont_id.head(20))     \n",
    "\n",
    "\n",
    "# MemoryError  - печаль, но не повод сдаваться"
   ]
  },
  {
   "cell_type": "code",
   "execution_count": 80,
   "id": "a377fea5",
   "metadata": {},
   "outputs": [],
   "source": [
    "#quest_df.filter?"
   ]
  },
  {
   "cell_type": "code",
   "execution_count": 81,
   "id": "03026eea",
   "metadata": {},
   "outputs": [],
   "source": [
    "#list2 = train_df[train_df.content_type_id == 0][['content_id','task_container_id']]\n",
    "#list2['cnt_content_id'] = list2['content_id'].apply(lambda x: 1)\n",
    "#list3 = pd.Series(list2)\n",
    "#list3 = list2[['task_container_id','content_id', 'cnt_content_id']].groupby(by = ['task_container_id','content_id']).sum()\n",
    "#list3.sort_values(by = ['cnt_content_id'])\n",
    "#display(list2)\n",
    "\n",
    "\n",
    "# все равно MemoryError"
   ]
  },
  {
   "cell_type": "code",
   "execution_count": 82,
   "id": "6f7274b7",
   "metadata": {},
   "outputs": [],
   "source": [
    "\n",
    "\n",
    "#x = tuple()\n",
    "#y = set()\n",
    "#for i, r in train_df.iterrows():\n",
    "#    if row['content_type_id'] == 0:\n",
    "#        x = (row['content_id'], row['task_container_id'])\n",
    "#        y.add(x)\n",
    "#    i += 1\n",
    "#    if i % 10 == 0: \n",
    "#         print(i)\n",
    "    \n",
    "#for i in range(0, 101230333):\n",
    "#    if train_df.loc[i].content_type_id == 0:\n",
    "#        x = (train_df.loc[i].content_id, train_df.loc[i].task_container_id)\n",
    "#        y.add(x)\n",
    "#    i += 1\n",
    "#    if i % 10000 == 0:\n",
    "#        print(i)\n",
    "#print(len(y))\n",
    "\n",
    "# все равно MemoryError  "
   ]
  },
  {
   "cell_type": "code",
   "execution_count": 83,
   "id": "47919607",
   "metadata": {},
   "outputs": [],
   "source": [
    "#pd.read_csv?"
   ]
  },
  {
   "cell_type": "code",
   "execution_count": 84,
   "id": "30ddc185",
   "metadata": {},
   "outputs": [],
   "source": [
    "#%reset Out"
   ]
  },
  {
   "cell_type": "code",
   "execution_count": 85,
   "id": "c14b1024",
   "metadata": {},
   "outputs": [
    {
     "name": "stdout",
     "output_type": "stream",
     "text": [
      "101230333\n"
     ]
    }
   ],
   "source": [
    "#import gc\n",
    "#del train_df\n",
    "#gc.collect()\n",
    "big_file = open('data/train_2.csv', 'rb')\n",
    "line_count = 0\n",
    "for line in big_file:\n",
    "    line_count += 1\n",
    "print(line_count)\n",
    "# 101 230 333\n",
    "\n"
   ]
  },
  {
   "cell_type": "code",
   "execution_count": 86,
   "id": "ee7d8dc9",
   "metadata": {},
   "outputs": [],
   "source": [
    "#%reset Out"
   ]
  },
  {
   "cell_type": "code",
   "execution_count": 87,
   "id": "256c9a45",
   "metadata": {},
   "outputs": [],
   "source": [
    "train_df = pd.read_csv('data/train_2.csv',\n",
    "                       dtype= {'row_id':'int32','timestamp':'int64','user_id':'int32','content_id':'int16','content_type_id':'int8','task_container_id':'int16','user_answer':'int8','answered_correctly':'int8','prior_question_elapsed_time':'float64','pq_had_expl':'object','pqe_time':'float64' }, \n",
    "                       usecols = ['row_id','timestamp','user_id','content_id','content_type_id','task_container_id','user_answer','answered_correctly','pq_had_expl','pqe_time'],\n",
    "                       )"
   ]
  },
  {
   "cell_type": "code",
   "execution_count": 88,
   "id": "0f8faccc",
   "metadata": {},
   "outputs": [
    {
     "data": {
      "text/plain": [
       "99271300"
      ]
     },
     "execution_count": 88,
     "metadata": {},
     "output_type": "execute_result"
    }
   ],
   "source": [
    "row_cnt  = train_df[train_df.content_type_id == 0].shape[0]\n",
    "row_cnt\n",
    "#99 271 300"
   ]
  },
  {
   "cell_type": "code",
   "execution_count": 89,
   "id": "c08cba53",
   "metadata": {
    "scrolled": false
   },
   "outputs": [
    {
     "data": {
      "text/html": [
       "<div>\n",
       "<style scoped>\n",
       "    .dataframe tbody tr th:only-of-type {\n",
       "        vertical-align: middle;\n",
       "    }\n",
       "\n",
       "    .dataframe tbody tr th {\n",
       "        vertical-align: top;\n",
       "    }\n",
       "\n",
       "    .dataframe thead th {\n",
       "        text-align: right;\n",
       "    }\n",
       "</style>\n",
       "<table border=\"1\" class=\"dataframe\">\n",
       "  <thead>\n",
       "    <tr style=\"text-align: right;\">\n",
       "      <th></th>\n",
       "      <th>row_id</th>\n",
       "      <th>timestamp</th>\n",
       "      <th>user_id</th>\n",
       "      <th>content_id</th>\n",
       "      <th>content_type_id</th>\n",
       "      <th>task_container_id</th>\n",
       "      <th>user_answer</th>\n",
       "      <th>answered_correctly</th>\n",
       "      <th>pq_had_expl</th>\n",
       "      <th>pqe_time</th>\n",
       "    </tr>\n",
       "  </thead>\n",
       "  <tbody>\n",
       "    <tr>\n",
       "      <th>0</th>\n",
       "      <td>0</td>\n",
       "      <td>0</td>\n",
       "      <td>115</td>\n",
       "      <td>5692</td>\n",
       "      <td>0</td>\n",
       "      <td>1</td>\n",
       "      <td>3</td>\n",
       "      <td>1</td>\n",
       "      <td>NaN</td>\n",
       "      <td>-1.0</td>\n",
       "    </tr>\n",
       "    <tr>\n",
       "      <th>1</th>\n",
       "      <td>1</td>\n",
       "      <td>56943</td>\n",
       "      <td>115</td>\n",
       "      <td>5716</td>\n",
       "      <td>0</td>\n",
       "      <td>2</td>\n",
       "      <td>2</td>\n",
       "      <td>1</td>\n",
       "      <td>False</td>\n",
       "      <td>37000.0</td>\n",
       "    </tr>\n",
       "    <tr>\n",
       "      <th>2</th>\n",
       "      <td>2</td>\n",
       "      <td>118363</td>\n",
       "      <td>115</td>\n",
       "      <td>128</td>\n",
       "      <td>0</td>\n",
       "      <td>0</td>\n",
       "      <td>0</td>\n",
       "      <td>1</td>\n",
       "      <td>False</td>\n",
       "      <td>55000.0</td>\n",
       "    </tr>\n",
       "    <tr>\n",
       "      <th>3</th>\n",
       "      <td>3</td>\n",
       "      <td>131167</td>\n",
       "      <td>115</td>\n",
       "      <td>7860</td>\n",
       "      <td>0</td>\n",
       "      <td>3</td>\n",
       "      <td>0</td>\n",
       "      <td>1</td>\n",
       "      <td>False</td>\n",
       "      <td>19000.0</td>\n",
       "    </tr>\n",
       "    <tr>\n",
       "      <th>4</th>\n",
       "      <td>4</td>\n",
       "      <td>137965</td>\n",
       "      <td>115</td>\n",
       "      <td>7922</td>\n",
       "      <td>0</td>\n",
       "      <td>4</td>\n",
       "      <td>1</td>\n",
       "      <td>1</td>\n",
       "      <td>False</td>\n",
       "      <td>11000.0</td>\n",
       "    </tr>\n",
       "    <tr>\n",
       "      <th>5</th>\n",
       "      <td>5</td>\n",
       "      <td>157063</td>\n",
       "      <td>115</td>\n",
       "      <td>156</td>\n",
       "      <td>0</td>\n",
       "      <td>5</td>\n",
       "      <td>2</td>\n",
       "      <td>1</td>\n",
       "      <td>False</td>\n",
       "      <td>5000.0</td>\n",
       "    </tr>\n",
       "    <tr>\n",
       "      <th>6</th>\n",
       "      <td>6</td>\n",
       "      <td>176092</td>\n",
       "      <td>115</td>\n",
       "      <td>51</td>\n",
       "      <td>0</td>\n",
       "      <td>6</td>\n",
       "      <td>0</td>\n",
       "      <td>1</td>\n",
       "      <td>False</td>\n",
       "      <td>17000.0</td>\n",
       "    </tr>\n",
       "    <tr>\n",
       "      <th>7</th>\n",
       "      <td>7</td>\n",
       "      <td>194190</td>\n",
       "      <td>115</td>\n",
       "      <td>50</td>\n",
       "      <td>0</td>\n",
       "      <td>7</td>\n",
       "      <td>3</td>\n",
       "      <td>1</td>\n",
       "      <td>False</td>\n",
       "      <td>17000.0</td>\n",
       "    </tr>\n",
       "    <tr>\n",
       "      <th>8</th>\n",
       "      <td>8</td>\n",
       "      <td>212463</td>\n",
       "      <td>115</td>\n",
       "      <td>7896</td>\n",
       "      <td>0</td>\n",
       "      <td>8</td>\n",
       "      <td>2</td>\n",
       "      <td>1</td>\n",
       "      <td>False</td>\n",
       "      <td>16000.0</td>\n",
       "    </tr>\n",
       "    <tr>\n",
       "      <th>9</th>\n",
       "      <td>9</td>\n",
       "      <td>230983</td>\n",
       "      <td>115</td>\n",
       "      <td>7863</td>\n",
       "      <td>0</td>\n",
       "      <td>9</td>\n",
       "      <td>0</td>\n",
       "      <td>1</td>\n",
       "      <td>False</td>\n",
       "      <td>16000.0</td>\n",
       "    </tr>\n",
       "  </tbody>\n",
       "</table>\n",
       "</div>"
      ],
      "text/plain": [
       "   row_id  timestamp  user_id  content_id  content_type_id  task_container_id  \\\n",
       "0       0          0      115        5692                0                  1   \n",
       "1       1      56943      115        5716                0                  2   \n",
       "2       2     118363      115         128                0                  0   \n",
       "3       3     131167      115        7860                0                  3   \n",
       "4       4     137965      115        7922                0                  4   \n",
       "5       5     157063      115         156                0                  5   \n",
       "6       6     176092      115          51                0                  6   \n",
       "7       7     194190      115          50                0                  7   \n",
       "8       8     212463      115        7896                0                  8   \n",
       "9       9     230983      115        7863                0                  9   \n",
       "\n",
       "   user_answer  answered_correctly pq_had_expl  pqe_time  \n",
       "0            3                   1         NaN      -1.0  \n",
       "1            2                   1       False   37000.0  \n",
       "2            0                   1       False   55000.0  \n",
       "3            0                   1       False   19000.0  \n",
       "4            1                   1       False   11000.0  \n",
       "5            2                   1       False    5000.0  \n",
       "6            0                   1       False   17000.0  \n",
       "7            3                   1       False   17000.0  \n",
       "8            2                   1       False   16000.0  \n",
       "9            0                   1       False   16000.0  "
      ]
     },
     "execution_count": 89,
     "metadata": {},
     "output_type": "execute_result"
    }
   ],
   "source": [
    "train_df.head(10)"
   ]
  },
  {
   "cell_type": "markdown",
   "id": "7d3c49d3",
   "metadata": {},
   "source": [
    "## 2.6) Попарная консистентность полей: train_df.task_container_id ДЛЯ ЛЕКЦИЙ и quest_df.bundle_id"
   ]
  },
  {
   "cell_type": "code",
   "execution_count": 90,
   "id": "d810b125",
   "metadata": {},
   "outputs": [
    {
     "name": "stdout",
     "output_type": "stream",
     "text": [
      "9369 9765 6943 6943 5248 2426 2822\n"
     ]
    }
   ],
   "source": [
    "\n",
    "set1 = set()\n",
    "set2 = set()\n",
    "list1 = train_df[train_df.content_type_id == 1]['task_container_id'].unique()\n",
    "set1 = set(list1)\n",
    "list2 = quest_df['bundle_id'].unique()\n",
    "set2 = set(list2)\n",
    "print(len(set1), len(set2), len(set1 & set2), len(set2 & set1), len(set1 ^ set2), len(set1-set2), len(set2-set1))\n",
    "# 9369 9765 6943 6943 5248 2426 2822\n",
    "# данные не консистентны. Все еще не ясно, что такое task_container_id для лекций."
   ]
  },
  {
   "cell_type": "markdown",
   "id": "926a87e3",
   "metadata": {},
   "source": [
    "## 2.7) Попарная консистентность полей: train_df.task_container_id ДЛЯ ЛЕКЦИЙ и train_df.task_container_id ДЛЯ ВОПРОСОВ"
   ]
  },
  {
   "cell_type": "code",
   "execution_count": 91,
   "id": "1fc583f7",
   "metadata": {},
   "outputs": [
    {
     "name": "stdout",
     "output_type": "stream",
     "text": [
      "9369 10000 9369 9369 631 0 631\n"
     ]
    }
   ],
   "source": [
    "set1 = set()\n",
    "set2 = set()\n",
    "list1 = train_df[train_df.content_type_id == 1]['task_container_id'].unique()\n",
    "set1 = set(list1)\n",
    "list2 = train_df[train_df.content_type_id == 0]['task_container_id'].unique()\n",
    "set2 = set(list2)\n",
    "print(len(set1), len(set2), len(set1 & set2), len(set2 & set1), len(set1 ^ set2), len(set1-set2), len(set2-set1))\n",
    "# 9369 10000 9369 9369 631 0 631\n",
    "# таким образом все бандлы лекций есть и у вопросов. Обратное не верно.\n",
    "# Делаем вывод, что лекции поставляются в одном бандле с вопросами, то есть \n",
    "# у них нет своей группировки в бандлы и они наследую бандл от той группы вопросов, в рамках которой они были показаны студенту"
   ]
  },
  {
   "cell_type": "markdown",
   "id": "d9ca4c23",
   "metadata": {},
   "source": [
    "## 2.8) Вывод из 2.5 - 2.8"
   ]
  },
  {
   "cell_type": "code",
   "execution_count": 92,
   "id": "e747b554",
   "metadata": {},
   "outputs": [],
   "source": [
    "# мы нашли такие task_container_id, каких нет в questions, но пока не ясно, что это значит. Удалять эти строки пока не будем.\n",
    "# Дальнейшие попытки исследовать этот момент заканчиваются MemoryError, \n",
    "# поэтому просто запишем в фрейм еще один столбец-индикатор того, есть ли соотвествующий task_container_id среди bundle_id:"
   ]
  },
  {
   "cell_type": "code",
   "execution_count": 93,
   "id": "8d1708a0",
   "metadata": {},
   "outputs": [],
   "source": [
    "\n",
    "set1 = set()\n",
    "set2 = set()\n",
    "list1 = train_df[train_df.content_type_id == 0]['task_container_id'].unique()\n",
    "set1 = set(list1)\n",
    "list2 = quest_df['bundle_id'].unique()\n",
    "set2 = set(list2)\n",
    "dset = set1 - set2\n",
    "\n",
    "train_df['cont_is_bundle_ind'] = train_df['task_container_id'].apply(lambda x: 0 if x in dset else 1)    \n"
   ]
  },
  {
   "cell_type": "code",
   "execution_count": 94,
   "id": "0f540206",
   "metadata": {},
   "outputs": [
    {
     "data": {
      "text/html": [
       "<div>\n",
       "<style scoped>\n",
       "    .dataframe tbody tr th:only-of-type {\n",
       "        vertical-align: middle;\n",
       "    }\n",
       "\n",
       "    .dataframe tbody tr th {\n",
       "        vertical-align: top;\n",
       "    }\n",
       "\n",
       "    .dataframe thead th {\n",
       "        text-align: right;\n",
       "    }\n",
       "</style>\n",
       "<table border=\"1\" class=\"dataframe\">\n",
       "  <thead>\n",
       "    <tr style=\"text-align: right;\">\n",
       "      <th></th>\n",
       "      <th>row_id</th>\n",
       "      <th>timestamp</th>\n",
       "      <th>user_id</th>\n",
       "      <th>content_id</th>\n",
       "      <th>content_type_id</th>\n",
       "      <th>task_container_id</th>\n",
       "      <th>user_answer</th>\n",
       "      <th>answered_correctly</th>\n",
       "      <th>pq_had_expl</th>\n",
       "      <th>pqe_time</th>\n",
       "      <th>cont_is_bundle_ind</th>\n",
       "    </tr>\n",
       "  </thead>\n",
       "  <tbody>\n",
       "    <tr>\n",
       "      <th>0</th>\n",
       "      <td>0</td>\n",
       "      <td>0</td>\n",
       "      <td>115</td>\n",
       "      <td>5692</td>\n",
       "      <td>0</td>\n",
       "      <td>1</td>\n",
       "      <td>3</td>\n",
       "      <td>1</td>\n",
       "      <td>NaN</td>\n",
       "      <td>-1.0</td>\n",
       "      <td>1</td>\n",
       "    </tr>\n",
       "    <tr>\n",
       "      <th>1</th>\n",
       "      <td>1</td>\n",
       "      <td>56943</td>\n",
       "      <td>115</td>\n",
       "      <td>5716</td>\n",
       "      <td>0</td>\n",
       "      <td>2</td>\n",
       "      <td>2</td>\n",
       "      <td>1</td>\n",
       "      <td>False</td>\n",
       "      <td>37000.0</td>\n",
       "      <td>1</td>\n",
       "    </tr>\n",
       "    <tr>\n",
       "      <th>2</th>\n",
       "      <td>2</td>\n",
       "      <td>118363</td>\n",
       "      <td>115</td>\n",
       "      <td>128</td>\n",
       "      <td>0</td>\n",
       "      <td>0</td>\n",
       "      <td>0</td>\n",
       "      <td>1</td>\n",
       "      <td>False</td>\n",
       "      <td>55000.0</td>\n",
       "      <td>1</td>\n",
       "    </tr>\n",
       "    <tr>\n",
       "      <th>3</th>\n",
       "      <td>3</td>\n",
       "      <td>131167</td>\n",
       "      <td>115</td>\n",
       "      <td>7860</td>\n",
       "      <td>0</td>\n",
       "      <td>3</td>\n",
       "      <td>0</td>\n",
       "      <td>1</td>\n",
       "      <td>False</td>\n",
       "      <td>19000.0</td>\n",
       "      <td>1</td>\n",
       "    </tr>\n",
       "    <tr>\n",
       "      <th>4</th>\n",
       "      <td>4</td>\n",
       "      <td>137965</td>\n",
       "      <td>115</td>\n",
       "      <td>7922</td>\n",
       "      <td>0</td>\n",
       "      <td>4</td>\n",
       "      <td>1</td>\n",
       "      <td>1</td>\n",
       "      <td>False</td>\n",
       "      <td>11000.0</td>\n",
       "      <td>1</td>\n",
       "    </tr>\n",
       "  </tbody>\n",
       "</table>\n",
       "</div>"
      ],
      "text/plain": [
       "   row_id  timestamp  user_id  content_id  content_type_id  task_container_id  \\\n",
       "0       0          0      115        5692                0                  1   \n",
       "1       1      56943      115        5716                0                  2   \n",
       "2       2     118363      115         128                0                  0   \n",
       "3       3     131167      115        7860                0                  3   \n",
       "4       4     137965      115        7922                0                  4   \n",
       "\n",
       "   user_answer  answered_correctly pq_had_expl  pqe_time  cont_is_bundle_ind  \n",
       "0            3                   1         NaN      -1.0                   1  \n",
       "1            2                   1       False   37000.0                   1  \n",
       "2            0                   1       False   55000.0                   1  \n",
       "3            0                   1       False   19000.0                   1  \n",
       "4            1                   1       False   11000.0                   1  "
      ]
     },
     "metadata": {},
     "output_type": "display_data"
    },
    {
     "data": {
      "text/html": [
       "<div>\n",
       "<style scoped>\n",
       "    .dataframe tbody tr th:only-of-type {\n",
       "        vertical-align: middle;\n",
       "    }\n",
       "\n",
       "    .dataframe tbody tr th {\n",
       "        vertical-align: top;\n",
       "    }\n",
       "\n",
       "    .dataframe thead th {\n",
       "        text-align: right;\n",
       "    }\n",
       "</style>\n",
       "<table border=\"1\" class=\"dataframe\">\n",
       "  <thead>\n",
       "    <tr style=\"text-align: right;\">\n",
       "      <th></th>\n",
       "      <th>row_id</th>\n",
       "      <th>timestamp</th>\n",
       "      <th>user_id</th>\n",
       "      <th>content_id</th>\n",
       "      <th>content_type_id</th>\n",
       "      <th>task_container_id</th>\n",
       "      <th>user_answer</th>\n",
       "      <th>answered_correctly</th>\n",
       "      <th>pq_had_expl</th>\n",
       "      <th>pqe_time</th>\n",
       "      <th>cont_is_bundle_ind</th>\n",
       "    </tr>\n",
       "  </thead>\n",
       "  <tbody>\n",
       "    <tr>\n",
       "      <th>3552</th>\n",
       "      <td>3552</td>\n",
       "      <td>5253595800</td>\n",
       "      <td>24418</td>\n",
       "      <td>218</td>\n",
       "      <td>0</td>\n",
       "      <td>1401</td>\n",
       "      <td>3</td>\n",
       "      <td>1</td>\n",
       "      <td>True</td>\n",
       "      <td>18000.0</td>\n",
       "      <td>0</td>\n",
       "    </tr>\n",
       "    <tr>\n",
       "      <th>3553</th>\n",
       "      <td>3553</td>\n",
       "      <td>5253620336</td>\n",
       "      <td>24418</td>\n",
       "      <td>505</td>\n",
       "      <td>0</td>\n",
       "      <td>1402</td>\n",
       "      <td>0</td>\n",
       "      <td>1</td>\n",
       "      <td>True</td>\n",
       "      <td>16000.0</td>\n",
       "      <td>0</td>\n",
       "    </tr>\n",
       "    <tr>\n",
       "      <th>3556</th>\n",
       "      <td>3556</td>\n",
       "      <td>5253693471</td>\n",
       "      <td>24418</td>\n",
       "      <td>779</td>\n",
       "      <td>0</td>\n",
       "      <td>1404</td>\n",
       "      <td>0</td>\n",
       "      <td>1</td>\n",
       "      <td>True</td>\n",
       "      <td>18000.0</td>\n",
       "      <td>0</td>\n",
       "    </tr>\n",
       "    <tr>\n",
       "      <th>3557</th>\n",
       "      <td>3557</td>\n",
       "      <td>5253717572</td>\n",
       "      <td>24418</td>\n",
       "      <td>828</td>\n",
       "      <td>0</td>\n",
       "      <td>1405</td>\n",
       "      <td>3</td>\n",
       "      <td>1</td>\n",
       "      <td>True</td>\n",
       "      <td>17000.0</td>\n",
       "      <td>0</td>\n",
       "    </tr>\n",
       "    <tr>\n",
       "      <th>3559</th>\n",
       "      <td>3559</td>\n",
       "      <td>5253801393</td>\n",
       "      <td>24418</td>\n",
       "      <td>986</td>\n",
       "      <td>0</td>\n",
       "      <td>1407</td>\n",
       "      <td>3</td>\n",
       "      <td>0</td>\n",
       "      <td>True</td>\n",
       "      <td>17000.0</td>\n",
       "      <td>0</td>\n",
       "    </tr>\n",
       "  </tbody>\n",
       "</table>\n",
       "</div>"
      ],
      "text/plain": [
       "      row_id   timestamp  user_id  content_id  content_type_id  \\\n",
       "3552    3552  5253595800    24418         218                0   \n",
       "3553    3553  5253620336    24418         505                0   \n",
       "3556    3556  5253693471    24418         779                0   \n",
       "3557    3557  5253717572    24418         828                0   \n",
       "3559    3559  5253801393    24418         986                0   \n",
       "\n",
       "      task_container_id  user_answer  answered_correctly pq_had_expl  \\\n",
       "3552               1401            3                   1        True   \n",
       "3553               1402            0                   1        True   \n",
       "3556               1404            0                   1        True   \n",
       "3557               1405            3                   1        True   \n",
       "3559               1407            3                   0        True   \n",
       "\n",
       "      pqe_time  cont_is_bundle_ind  \n",
       "3552   18000.0                   0  \n",
       "3553   16000.0                   0  \n",
       "3556   18000.0                   0  \n",
       "3557   17000.0                   0  \n",
       "3559   17000.0                   0  "
      ]
     },
     "metadata": {},
     "output_type": "display_data"
    }
   ],
   "source": [
    "display(train_df[train_df['cont_is_bundle_ind'] == 1].head(5))\n",
    "display(train_df[train_df['cont_is_bundle_ind'] == 0].head(5))"
   ]
  },
  {
   "cell_type": "markdown",
   "id": "80cf1966",
   "metadata": {},
   "source": [
    "## 3.1) Корректность полей: корректность поля answered_correctly"
   ]
  },
  {
   "cell_type": "code",
   "execution_count": 95,
   "id": "4626a369",
   "metadata": {},
   "outputs": [],
   "source": [
    "# в quet есть индикатор корректного ответа и сам ответ. Проверим по quest_df.correct_answer, верно ли заполнен индикатор."
   ]
  },
  {
   "cell_type": "code",
   "execution_count": 96,
   "id": "b42d4688",
   "metadata": {},
   "outputs": [],
   "source": [
    "# сведем задачу к консистентности полей, но будем сравнивать не поле с полем, а пару полей с парой полей"
   ]
  },
  {
   "cell_type": "markdown",
   "id": "4c9410c9",
   "metadata": {},
   "source": [
    "### 3.1.1) Корректность строк с answered_correctly =  1`"
   ]
  },
  {
   "cell_type": "code",
   "execution_count": 97,
   "id": "cd599196",
   "metadata": {},
   "outputs": [],
   "source": [
    "# напомним, что все id вопросов, которые есть в train, есть и в quest, мы проверили это на этапе проверок консистентности"
   ]
  },
  {
   "cell_type": "code",
   "execution_count": 98,
   "id": "9800ce2d",
   "metadata": {},
   "outputs": [
    {
     "data": {
      "text/plain": [
       "(13523, 2)"
      ]
     },
     "execution_count": 98,
     "metadata": {},
     "output_type": "execute_result"
    }
   ],
   "source": [
    "corr_quest_df =quest_df[['question_id','correct_answer']]\n",
    "corr_quest_df.shape"
   ]
  },
  {
   "cell_type": "code",
   "execution_count": 99,
   "id": "81dbea6d",
   "metadata": {},
   "outputs": [
    {
     "data": {
      "text/html": [
       "<div>\n",
       "<style scoped>\n",
       "    .dataframe tbody tr th:only-of-type {\n",
       "        vertical-align: middle;\n",
       "    }\n",
       "\n",
       "    .dataframe tbody tr th {\n",
       "        vertical-align: top;\n",
       "    }\n",
       "\n",
       "    .dataframe thead th {\n",
       "        text-align: right;\n",
       "    }\n",
       "</style>\n",
       "<table border=\"1\" class=\"dataframe\">\n",
       "  <thead>\n",
       "    <tr style=\"text-align: right;\">\n",
       "      <th></th>\n",
       "      <th>content_id</th>\n",
       "      <th>user_answer</th>\n",
       "      <th>0</th>\n",
       "    </tr>\n",
       "  </thead>\n",
       "  <tbody>\n",
       "    <tr>\n",
       "      <th>0</th>\n",
       "      <td>0</td>\n",
       "      <td>0</td>\n",
       "      <td>6266</td>\n",
       "    </tr>\n",
       "    <tr>\n",
       "      <th>1</th>\n",
       "      <td>1</td>\n",
       "      <td>1</td>\n",
       "      <td>6589</td>\n",
       "    </tr>\n",
       "    <tr>\n",
       "      <th>2</th>\n",
       "      <td>2</td>\n",
       "      <td>0</td>\n",
       "      <td>24890</td>\n",
       "    </tr>\n",
       "    <tr>\n",
       "      <th>3</th>\n",
       "      <td>3</td>\n",
       "      <td>0</td>\n",
       "      <td>17906</td>\n",
       "    </tr>\n",
       "    <tr>\n",
       "      <th>4</th>\n",
       "      <td>4</td>\n",
       "      <td>3</td>\n",
       "      <td>19461</td>\n",
       "    </tr>\n",
       "    <tr>\n",
       "      <th>5</th>\n",
       "      <td>5</td>\n",
       "      <td>2</td>\n",
       "      <td>8383</td>\n",
       "    </tr>\n",
       "    <tr>\n",
       "      <th>6</th>\n",
       "      <td>6</td>\n",
       "      <td>2</td>\n",
       "      <td>26910</td>\n",
       "    </tr>\n",
       "    <tr>\n",
       "      <th>7</th>\n",
       "      <td>7</td>\n",
       "      <td>0</td>\n",
       "      <td>14363</td>\n",
       "    </tr>\n",
       "    <tr>\n",
       "      <th>8</th>\n",
       "      <td>8</td>\n",
       "      <td>3</td>\n",
       "      <td>7738</td>\n",
       "    </tr>\n",
       "    <tr>\n",
       "      <th>9</th>\n",
       "      <td>9</td>\n",
       "      <td>3</td>\n",
       "      <td>14389</td>\n",
       "    </tr>\n",
       "    <tr>\n",
       "      <th>10</th>\n",
       "      <td>10</td>\n",
       "      <td>0</td>\n",
       "      <td>21219</td>\n",
       "    </tr>\n",
       "    <tr>\n",
       "      <th>11</th>\n",
       "      <td>11</td>\n",
       "      <td>3</td>\n",
       "      <td>5937</td>\n",
       "    </tr>\n",
       "    <tr>\n",
       "      <th>12</th>\n",
       "      <td>12</td>\n",
       "      <td>1</td>\n",
       "      <td>15421</td>\n",
       "    </tr>\n",
       "    <tr>\n",
       "      <th>13</th>\n",
       "      <td>13</td>\n",
       "      <td>1</td>\n",
       "      <td>7977</td>\n",
       "    </tr>\n",
       "    <tr>\n",
       "      <th>14</th>\n",
       "      <td>14</td>\n",
       "      <td>2</td>\n",
       "      <td>12095</td>\n",
       "    </tr>\n",
       "    <tr>\n",
       "      <th>15</th>\n",
       "      <td>15</td>\n",
       "      <td>3</td>\n",
       "      <td>14321</td>\n",
       "    </tr>\n",
       "    <tr>\n",
       "      <th>16</th>\n",
       "      <td>16</td>\n",
       "      <td>3</td>\n",
       "      <td>2315</td>\n",
       "    </tr>\n",
       "    <tr>\n",
       "      <th>17</th>\n",
       "      <td>17</td>\n",
       "      <td>0</td>\n",
       "      <td>7396</td>\n",
       "    </tr>\n",
       "    <tr>\n",
       "      <th>18</th>\n",
       "      <td>18</td>\n",
       "      <td>1</td>\n",
       "      <td>17362</td>\n",
       "    </tr>\n",
       "    <tr>\n",
       "      <th>19</th>\n",
       "      <td>19</td>\n",
       "      <td>0</td>\n",
       "      <td>9203</td>\n",
       "    </tr>\n",
       "  </tbody>\n",
       "</table>\n",
       "</div>"
      ],
      "text/plain": [
       "    content_id  user_answer      0\n",
       "0            0            0   6266\n",
       "1            1            1   6589\n",
       "2            2            0  24890\n",
       "3            3            0  17906\n",
       "4            4            3  19461\n",
       "5            5            2   8383\n",
       "6            6            2  26910\n",
       "7            7            0  14363\n",
       "8            8            3   7738\n",
       "9            9            3  14389\n",
       "10          10            0  21219\n",
       "11          11            3   5937\n",
       "12          12            1  15421\n",
       "13          13            1   7977\n",
       "14          14            2  12095\n",
       "15          15            3  14321\n",
       "16          16            3   2315\n",
       "17          17            0   7396\n",
       "18          18            1  17362\n",
       "19          19            0   9203"
      ]
     },
     "metadata": {},
     "output_type": "display_data"
    }
   ],
   "source": [
    "corr_train_df = train_df[(train_df.answered_correctly == 1) \n",
    "                         & (train_df.content_type_id == 0)].groupby(['content_id','user_answer']).size().reset_index(level=[0,1])\n",
    "display(corr_train_df.head(20))"
   ]
  },
  {
   "cell_type": "code",
   "execution_count": 100,
   "id": "2cb3a3ea",
   "metadata": {},
   "outputs": [
    {
     "data": {
      "text/plain": [
       "(13519, 3)"
      ]
     },
     "execution_count": 100,
     "metadata": {},
     "output_type": "execute_result"
    }
   ],
   "source": [
    "corr_train_df.shape"
   ]
  },
  {
   "cell_type": "code",
   "execution_count": 101,
   "id": "84e1fe24",
   "metadata": {},
   "outputs": [
    {
     "data": {
      "text/plain": [
       "(13523, 5)"
      ]
     },
     "execution_count": 101,
     "metadata": {},
     "output_type": "execute_result"
    }
   ],
   "source": [
    "comp_df = pd.merge(left=corr_quest_df, \n",
    "                   right=corr_train_df, \n",
    "                   how='outer',\n",
    "                   left_on = 'question_id', \n",
    "                   right_on='content_id', \n",
    "                   validate = '1:m',\n",
    "                   suffixes = ('_quest','_train'))\n",
    "comp_df.shape"
   ]
  },
  {
   "cell_type": "code",
   "execution_count": 102,
   "id": "874907c8",
   "metadata": {},
   "outputs": [
    {
     "data": {
      "text/html": [
       "<div>\n",
       "<style scoped>\n",
       "    .dataframe tbody tr th:only-of-type {\n",
       "        vertical-align: middle;\n",
       "    }\n",
       "\n",
       "    .dataframe tbody tr th {\n",
       "        vertical-align: top;\n",
       "    }\n",
       "\n",
       "    .dataframe thead th {\n",
       "        text-align: right;\n",
       "    }\n",
       "</style>\n",
       "<table border=\"1\" class=\"dataframe\">\n",
       "  <thead>\n",
       "    <tr style=\"text-align: right;\">\n",
       "      <th></th>\n",
       "      <th>question_id</th>\n",
       "      <th>correct_answer</th>\n",
       "      <th>content_id</th>\n",
       "      <th>user_answer</th>\n",
       "      <th>0</th>\n",
       "    </tr>\n",
       "  </thead>\n",
       "  <tbody>\n",
       "    <tr>\n",
       "      <th>1484</th>\n",
       "      <td>1484</td>\n",
       "      <td>2</td>\n",
       "      <td>NaN</td>\n",
       "      <td>NaN</td>\n",
       "      <td>NaN</td>\n",
       "    </tr>\n",
       "    <tr>\n",
       "      <th>1485</th>\n",
       "      <td>1485</td>\n",
       "      <td>0</td>\n",
       "      <td>NaN</td>\n",
       "      <td>NaN</td>\n",
       "      <td>NaN</td>\n",
       "    </tr>\n",
       "    <tr>\n",
       "      <th>1486</th>\n",
       "      <td>1486</td>\n",
       "      <td>3</td>\n",
       "      <td>NaN</td>\n",
       "      <td>NaN</td>\n",
       "      <td>NaN</td>\n",
       "    </tr>\n",
       "    <tr>\n",
       "      <th>10007</th>\n",
       "      <td>10007</td>\n",
       "      <td>0</td>\n",
       "      <td>NaN</td>\n",
       "      <td>NaN</td>\n",
       "      <td>NaN</td>\n",
       "    </tr>\n",
       "  </tbody>\n",
       "</table>\n",
       "</div>"
      ],
      "text/plain": [
       "       question_id  correct_answer  content_id  user_answer   0\n",
       "1484          1484               2         NaN          NaN NaN\n",
       "1485          1485               0         NaN          NaN NaN\n",
       "1486          1486               3         NaN          NaN NaN\n",
       "10007        10007               0         NaN          NaN NaN"
      ]
     },
     "execution_count": 102,
     "metadata": {},
     "output_type": "execute_result"
    }
   ],
   "source": [
    "comp_df[(comp_df.user_answer != comp_df.correct_answer)]\n",
    "# все строки должны быть с NaN в content_id\n",
    "# так и есть, значит все правильно"
   ]
  },
  {
   "cell_type": "markdown",
   "id": "81ab2001",
   "metadata": {},
   "source": [
    "### 3.1.1) Корректность строк с answered_correctly =  0`"
   ]
  },
  {
   "cell_type": "code",
   "execution_count": 103,
   "id": "e7424720",
   "metadata": {},
   "outputs": [
    {
     "data": {
      "text/html": [
       "<div>\n",
       "<style scoped>\n",
       "    .dataframe tbody tr th:only-of-type {\n",
       "        vertical-align: middle;\n",
       "    }\n",
       "\n",
       "    .dataframe tbody tr th {\n",
       "        vertical-align: top;\n",
       "    }\n",
       "\n",
       "    .dataframe thead th {\n",
       "        text-align: right;\n",
       "    }\n",
       "</style>\n",
       "<table border=\"1\" class=\"dataframe\">\n",
       "  <thead>\n",
       "    <tr style=\"text-align: right;\">\n",
       "      <th></th>\n",
       "      <th>content_id</th>\n",
       "      <th>user_answer</th>\n",
       "      <th>0</th>\n",
       "    </tr>\n",
       "  </thead>\n",
       "  <tbody>\n",
       "    <tr>\n",
       "      <th>0</th>\n",
       "      <td>0</td>\n",
       "      <td>1</td>\n",
       "      <td>342</td>\n",
       "    </tr>\n",
       "    <tr>\n",
       "      <th>1</th>\n",
       "      <td>0</td>\n",
       "      <td>2</td>\n",
       "      <td>209</td>\n",
       "    </tr>\n",
       "    <tr>\n",
       "      <th>2</th>\n",
       "      <td>0</td>\n",
       "      <td>3</td>\n",
       "      <td>86</td>\n",
       "    </tr>\n",
       "    <tr>\n",
       "      <th>3</th>\n",
       "      <td>1</td>\n",
       "      <td>0</td>\n",
       "      <td>561</td>\n",
       "    </tr>\n",
       "    <tr>\n",
       "      <th>4</th>\n",
       "      <td>1</td>\n",
       "      <td>2</td>\n",
       "      <td>74</td>\n",
       "    </tr>\n",
       "  </tbody>\n",
       "</table>\n",
       "</div>"
      ],
      "text/plain": [
       "   content_id  user_answer    0\n",
       "0           0            1  342\n",
       "1           0            2  209\n",
       "2           0            3   86\n",
       "3           1            0  561\n",
       "4           1            2   74"
      ]
     },
     "metadata": {},
     "output_type": "display_data"
    },
    {
     "name": "stdout",
     "output_type": "stream",
     "text": [
      "(38570, 5)\n"
     ]
    },
    {
     "data": {
      "text/html": [
       "<div>\n",
       "<style scoped>\n",
       "    .dataframe tbody tr th:only-of-type {\n",
       "        vertical-align: middle;\n",
       "    }\n",
       "\n",
       "    .dataframe tbody tr th {\n",
       "        vertical-align: top;\n",
       "    }\n",
       "\n",
       "    .dataframe thead th {\n",
       "        text-align: right;\n",
       "    }\n",
       "</style>\n",
       "<table border=\"1\" class=\"dataframe\">\n",
       "  <thead>\n",
       "    <tr style=\"text-align: right;\">\n",
       "      <th></th>\n",
       "      <th>question_id</th>\n",
       "      <th>correct_answer</th>\n",
       "      <th>content_id</th>\n",
       "      <th>user_answer</th>\n",
       "      <th>0</th>\n",
       "    </tr>\n",
       "  </thead>\n",
       "  <tbody>\n",
       "  </tbody>\n",
       "</table>\n",
       "</div>"
      ],
      "text/plain": [
       "Empty DataFrame\n",
       "Columns: [question_id, correct_answer, content_id, user_answer, 0]\n",
       "Index: []"
      ]
     },
     "metadata": {},
     "output_type": "display_data"
    }
   ],
   "source": [
    "corr_train_df = train_df[(train_df.answered_correctly == 0) \n",
    "                         & (train_df.content_type_id == 0)].groupby(['content_id','user_answer']).size().reset_index(level=[0,1])\n",
    "display(corr_train_df.head())\n",
    "comp_df = pd.merge(left=corr_quest_df, \n",
    "                   right=corr_train_df, \n",
    "                   how='outer',\n",
    "                   left_on = 'question_id', \n",
    "                   right_on='content_id', \n",
    "                   validate = '1:m',\n",
    "                   suffixes = ('_quest','_train'))\n",
    "print(comp_df.shape)\n",
    "display(comp_df[(comp_df.user_answer == comp_df.correct_answer)])\n",
    "# убедились, что нет строк, в которых ответ совпадат с правильным ответом и при это они помечены answered_correctly = 0"
   ]
  },
  {
   "cell_type": "markdown",
   "id": "b604707c",
   "metadata": {},
   "source": [
    "## 3.2 Проверка корректности заполнения полей user_answer, answered_correctly _для лекций_"
   ]
  },
  {
   "cell_type": "code",
   "execution_count": 104,
   "id": "c548e017",
   "metadata": {},
   "outputs": [],
   "source": [
    "# теперь проверим следующие утверждения из постановки:\n",
    "# user_answer: ... Read -1 as null, for lectures.\n",
    "# answered_correctly: ... if the user responded correctly. Read -1 as null, for lectures.\n",
    "# сделаем это сразу несоклькими эквивалентными методами, чтобы потренироваться."
   ]
  },
  {
   "cell_type": "code",
   "execution_count": 105,
   "id": "7fc1961a",
   "metadata": {},
   "outputs": [
    {
     "data": {
      "text/html": [
       "<div>\n",
       "<style scoped>\n",
       "    .dataframe tbody tr th:only-of-type {\n",
       "        vertical-align: middle;\n",
       "    }\n",
       "\n",
       "    .dataframe tbody tr th {\n",
       "        vertical-align: top;\n",
       "    }\n",
       "\n",
       "    .dataframe thead th {\n",
       "        text-align: right;\n",
       "    }\n",
       "</style>\n",
       "<table border=\"1\" class=\"dataframe\">\n",
       "  <thead>\n",
       "    <tr style=\"text-align: right;\">\n",
       "      <th></th>\n",
       "      <th>row_id</th>\n",
       "      <th>timestamp</th>\n",
       "      <th>user_id</th>\n",
       "      <th>content_id</th>\n",
       "      <th>content_type_id</th>\n",
       "      <th>task_container_id</th>\n",
       "      <th>user_answer</th>\n",
       "      <th>answered_correctly</th>\n",
       "      <th>pq_had_expl</th>\n",
       "      <th>pqe_time</th>\n",
       "      <th>cont_is_bundle_ind</th>\n",
       "    </tr>\n",
       "  </thead>\n",
       "  <tbody>\n",
       "  </tbody>\n",
       "</table>\n",
       "</div>"
      ],
      "text/plain": [
       "Empty DataFrame\n",
       "Columns: [row_id, timestamp, user_id, content_id, content_type_id, task_container_id, user_answer, answered_correctly, pq_had_expl, pqe_time, cont_is_bundle_ind]\n",
       "Index: []"
      ]
     },
     "metadata": {},
     "output_type": "display_data"
    },
    {
     "data": {
      "text/html": [
       "<div>\n",
       "<style scoped>\n",
       "    .dataframe tbody tr th:only-of-type {\n",
       "        vertical-align: middle;\n",
       "    }\n",
       "\n",
       "    .dataframe tbody tr th {\n",
       "        vertical-align: top;\n",
       "    }\n",
       "\n",
       "    .dataframe thead th {\n",
       "        text-align: right;\n",
       "    }\n",
       "</style>\n",
       "<table border=\"1\" class=\"dataframe\">\n",
       "  <thead>\n",
       "    <tr style=\"text-align: right;\">\n",
       "      <th></th>\n",
       "      <th>row_id</th>\n",
       "      <th>timestamp</th>\n",
       "      <th>user_id</th>\n",
       "      <th>content_id</th>\n",
       "      <th>content_type_id</th>\n",
       "      <th>task_container_id</th>\n",
       "      <th>user_answer</th>\n",
       "      <th>answered_correctly</th>\n",
       "      <th>pq_had_expl</th>\n",
       "      <th>pqe_time</th>\n",
       "      <th>cont_is_bundle_ind</th>\n",
       "    </tr>\n",
       "  </thead>\n",
       "  <tbody>\n",
       "  </tbody>\n",
       "</table>\n",
       "</div>"
      ],
      "text/plain": [
       "Empty DataFrame\n",
       "Columns: [row_id, timestamp, user_id, content_id, content_type_id, task_container_id, user_answer, answered_correctly, pq_had_expl, pqe_time, cont_is_bundle_ind]\n",
       "Index: []"
      ]
     },
     "metadata": {},
     "output_type": "display_data"
    },
    {
     "data": {
      "text/html": [
       "<div>\n",
       "<style scoped>\n",
       "    .dataframe tbody tr th:only-of-type {\n",
       "        vertical-align: middle;\n",
       "    }\n",
       "\n",
       "    .dataframe tbody tr th {\n",
       "        vertical-align: top;\n",
       "    }\n",
       "\n",
       "    .dataframe thead th {\n",
       "        text-align: right;\n",
       "    }\n",
       "</style>\n",
       "<table border=\"1\" class=\"dataframe\">\n",
       "  <thead>\n",
       "    <tr style=\"text-align: right;\">\n",
       "      <th></th>\n",
       "      <th>row_id</th>\n",
       "      <th>timestamp</th>\n",
       "      <th>user_id</th>\n",
       "      <th>content_id</th>\n",
       "      <th>content_type_id</th>\n",
       "      <th>task_container_id</th>\n",
       "      <th>user_answer</th>\n",
       "      <th>answered_correctly</th>\n",
       "      <th>pq_had_expl</th>\n",
       "      <th>pqe_time</th>\n",
       "      <th>cont_is_bundle_ind</th>\n",
       "    </tr>\n",
       "  </thead>\n",
       "  <tbody>\n",
       "  </tbody>\n",
       "</table>\n",
       "</div>"
      ],
      "text/plain": [
       "Empty DataFrame\n",
       "Columns: [row_id, timestamp, user_id, content_id, content_type_id, task_container_id, user_answer, answered_correctly, pq_had_expl, pqe_time, cont_is_bundle_ind]\n",
       "Index: []"
      ]
     },
     "metadata": {},
     "output_type": "display_data"
    }
   ],
   "source": [
    "display(train_df[(train_df.content_type_id == 1) & ((train_df.user_answer != -1) |  (train_df.answered_correctly != -1))])\n",
    "display(train_df.query('content_type_id == 1 and (user_answer != -1 or  answered_correctly != -1)'))\n",
    "display(train_df.loc[(train_df.content_type_id == 1) & ((train_df.user_answer != -1) |  (train_df.answered_correctly != -1))])\n",
    "\n",
    "#мы убедились, что лекции не содержат в этих полях ничего кроме -1\n",
    "# но можеть быть есть не-лекции (вопросы), которые содержат -1 в этих полях? Этого тоже не дожно быть, проверим:"
   ]
  },
  {
   "cell_type": "code",
   "execution_count": 106,
   "id": "9e749db4",
   "metadata": {},
   "outputs": [
    {
     "data": {
      "text/html": [
       "<div>\n",
       "<style scoped>\n",
       "    .dataframe tbody tr th:only-of-type {\n",
       "        vertical-align: middle;\n",
       "    }\n",
       "\n",
       "    .dataframe tbody tr th {\n",
       "        vertical-align: top;\n",
       "    }\n",
       "\n",
       "    .dataframe thead th {\n",
       "        text-align: right;\n",
       "    }\n",
       "</style>\n",
       "<table border=\"1\" class=\"dataframe\">\n",
       "  <thead>\n",
       "    <tr style=\"text-align: right;\">\n",
       "      <th></th>\n",
       "      <th>row_id</th>\n",
       "      <th>timestamp</th>\n",
       "      <th>user_id</th>\n",
       "      <th>content_id</th>\n",
       "      <th>content_type_id</th>\n",
       "      <th>task_container_id</th>\n",
       "      <th>user_answer</th>\n",
       "      <th>answered_correctly</th>\n",
       "      <th>pq_had_expl</th>\n",
       "      <th>pqe_time</th>\n",
       "      <th>cont_is_bundle_ind</th>\n",
       "    </tr>\n",
       "  </thead>\n",
       "  <tbody>\n",
       "  </tbody>\n",
       "</table>\n",
       "</div>"
      ],
      "text/plain": [
       "Empty DataFrame\n",
       "Columns: [row_id, timestamp, user_id, content_id, content_type_id, task_container_id, user_answer, answered_correctly, pq_had_expl, pqe_time, cont_is_bundle_ind]\n",
       "Index: []"
      ]
     },
     "metadata": {},
     "output_type": "display_data"
    },
    {
     "data": {
      "text/html": [
       "<div>\n",
       "<style scoped>\n",
       "    .dataframe tbody tr th:only-of-type {\n",
       "        vertical-align: middle;\n",
       "    }\n",
       "\n",
       "    .dataframe tbody tr th {\n",
       "        vertical-align: top;\n",
       "    }\n",
       "\n",
       "    .dataframe thead th {\n",
       "        text-align: right;\n",
       "    }\n",
       "</style>\n",
       "<table border=\"1\" class=\"dataframe\">\n",
       "  <thead>\n",
       "    <tr style=\"text-align: right;\">\n",
       "      <th></th>\n",
       "      <th>row_id</th>\n",
       "      <th>timestamp</th>\n",
       "      <th>user_id</th>\n",
       "      <th>content_id</th>\n",
       "      <th>content_type_id</th>\n",
       "      <th>task_container_id</th>\n",
       "      <th>user_answer</th>\n",
       "      <th>answered_correctly</th>\n",
       "      <th>pq_had_expl</th>\n",
       "      <th>pqe_time</th>\n",
       "      <th>cont_is_bundle_ind</th>\n",
       "    </tr>\n",
       "  </thead>\n",
       "  <tbody>\n",
       "  </tbody>\n",
       "</table>\n",
       "</div>"
      ],
      "text/plain": [
       "Empty DataFrame\n",
       "Columns: [row_id, timestamp, user_id, content_id, content_type_id, task_container_id, user_answer, answered_correctly, pq_had_expl, pqe_time, cont_is_bundle_ind]\n",
       "Index: []"
      ]
     },
     "metadata": {},
     "output_type": "display_data"
    },
    {
     "data": {
      "text/html": [
       "<div>\n",
       "<style scoped>\n",
       "    .dataframe tbody tr th:only-of-type {\n",
       "        vertical-align: middle;\n",
       "    }\n",
       "\n",
       "    .dataframe tbody tr th {\n",
       "        vertical-align: top;\n",
       "    }\n",
       "\n",
       "    .dataframe thead th {\n",
       "        text-align: right;\n",
       "    }\n",
       "</style>\n",
       "<table border=\"1\" class=\"dataframe\">\n",
       "  <thead>\n",
       "    <tr style=\"text-align: right;\">\n",
       "      <th></th>\n",
       "      <th>row_id</th>\n",
       "      <th>timestamp</th>\n",
       "      <th>user_id</th>\n",
       "      <th>content_id</th>\n",
       "      <th>content_type_id</th>\n",
       "      <th>task_container_id</th>\n",
       "      <th>user_answer</th>\n",
       "      <th>answered_correctly</th>\n",
       "      <th>pq_had_expl</th>\n",
       "      <th>pqe_time</th>\n",
       "      <th>cont_is_bundle_ind</th>\n",
       "    </tr>\n",
       "  </thead>\n",
       "  <tbody>\n",
       "  </tbody>\n",
       "</table>\n",
       "</div>"
      ],
      "text/plain": [
       "Empty DataFrame\n",
       "Columns: [row_id, timestamp, user_id, content_id, content_type_id, task_container_id, user_answer, answered_correctly, pq_had_expl, pqe_time, cont_is_bundle_ind]\n",
       "Index: []"
      ]
     },
     "metadata": {},
     "output_type": "display_data"
    }
   ],
   "source": [
    "display(train_df[(train_df.content_type_id == 0) & ((train_df.user_answer == -1) |  (train_df.answered_correctly == -1))])\n",
    "display(train_df.query('content_type_id == 0 and (user_answer == -1 or  answered_correctly == -1)'))\n",
    "display(train_df.loc[(train_df.content_type_id == 0) & ((train_df.user_answer == -1) |  (train_df.answered_correctly == -1))])\n",
    "# все хорошо, результат - пустое множество"
   ]
  },
  {
   "cell_type": "markdown",
   "id": "fd605c4e",
   "metadata": {},
   "source": [
    "## 3.3 Проверка корректности LECTURES.tag"
   ]
  },
  {
   "cell_type": "code",
   "execution_count": 107,
   "id": "63804d43",
   "metadata": {},
   "outputs": [],
   "source": [
    "# в условии сказано, что одни tag для каждой лекции, проверим визуально:"
   ]
  },
  {
   "cell_type": "code",
   "execution_count": 108,
   "id": "4a5dac6f",
   "metadata": {},
   "outputs": [
    {
     "data": {
      "text/plain": [
       "array([159,  70,  45,  79, 156, 114, 179, 134,  93,  80,  98, 101,  33,\n",
       "        74,  60, 181,  43,   4, 109,  89, 142, 140, 104,   1,  65, 155,\n",
       "        26, 178, 173,   7, 147, 171,  78,  62,  64, 141, 124, 161,  24,\n",
       "        23, 152,   8,  94, 119,  37, 177,  54, 157, 132,   6,  67, 123,\n",
       "        50,  25, 175, 116, 136,  20, 129, 127,  53, 130,  13,  42,  72,\n",
       "        36, 172,  57, 151,   9, 187,  58, 166,  49, 164, 163,  47, 139,\n",
       "        85,  91, 158,  48,  69,  76,  28, 167,  18,   0,  27,  19, 149,\n",
       "        99,  39,  34,  61,  14, 113, 182,  55, 145,  96, 133,  12, 106,\n",
       "       126, 105, 125, 168,   5,  71,  82,  44, 108, 143,  90,  16, 112,\n",
       "        73,  40, 111,  51,  97,  31,  52, 180, 138, 150, 120, 128,  68,\n",
       "        95, 170, 184,  30, 174, 153,  66,  17,  75,  83, 183, 148, 144,\n",
       "       103, 118,  15, 115, 176, 137, 169,   2], dtype=uint8)"
      ]
     },
     "execution_count": 108,
     "metadata": {},
     "output_type": "execute_result"
    }
   ],
   "source": [
    "lect_df.tag.unique()"
   ]
  },
  {
   "cell_type": "markdown",
   "id": "0a311d45",
   "metadata": {},
   "source": [
    "# 4) Обогащение данных train данными из lectures и questions"
   ]
  },
  {
   "cell_type": "code",
   "execution_count": 109,
   "id": "1a127fb5",
   "metadata": {},
   "outputs": [],
   "source": [
    "# так как файл train очень большой, а при исследовании могуть потребоваться отсутствующие в train данные из lect и quest\n",
    "# постоянно делать merge не удобно, а удобно один раз сделать это и работать уже с обогащенным фреймом\n"
   ]
  },
  {
   "cell_type": "code",
   "execution_count": 110,
   "id": "07fcb56e",
   "metadata": {},
   "outputs": [],
   "source": [
    "# так как мой комп не тянет объединения train c чем либо еще, \n",
    "# а делать это в цикле и потом объединять сабс-фреймы не кажется интеллектуальной задачей,\n",
    "# я продемонстрирую свои навыки на укороченном фрейме train # в которм 1 000 000 записей\n",
    "\n",
    "# так же я не буду писать единый merge трех фреймов, а сделаю это поочереди"
   ]
  },
  {
   "cell_type": "markdown",
   "id": "746f8ffd",
   "metadata": {},
   "source": [
    "## 4.0) Укороченный фрейм"
   ]
  },
  {
   "cell_type": "code",
   "execution_count": 111,
   "id": "ddf469e5",
   "metadata": {},
   "outputs": [],
   "source": [
    "sample_train_df = train_df.head(2000000).tail(1000000)"
   ]
  },
  {
   "cell_type": "code",
   "execution_count": 112,
   "id": "b9781a4f",
   "metadata": {},
   "outputs": [
    {
     "data": {
      "text/plain": [
       "(1000000, 11)"
      ]
     },
     "execution_count": 112,
     "metadata": {},
     "output_type": "execute_result"
    }
   ],
   "source": [
    "sample_train_df.shape"
   ]
  },
  {
   "cell_type": "markdown",
   "id": "20682604",
   "metadata": {},
   "source": [
    "## 4.1) Обогатим train полями из lectures"
   ]
  },
  {
   "cell_type": "code",
   "execution_count": 113,
   "id": "d9eeb3b3",
   "metadata": {},
   "outputs": [
    {
     "name": "stdout",
     "output_type": "stream",
     "text": [
      "418 13523 158 158 13625 260 13365\n"
     ]
    }
   ],
   "source": [
    "# проверим, что множество lecture_id НЕ ПЕРЕСЕКАЕТСЯ с множеством question_id:\n",
    "set1 = set()\n",
    "set2 = set()\n",
    "list1 = lect_df['lecture_id'].unique()\n",
    "set1 = set(list1)\n",
    "list2 = quest_df['question_id'].unique()\n",
    "set2 = set(list2)\n",
    "print(len(set1), len(set2), len(set1 & set2), len(set2 & set1), len(set1 ^ set2), len(set1-set2), len(set2-set1))\n",
    "# 418 9765 122 122 9939 296 9643\n",
    "#!!! Оказалось, что пересекаются! Надем примеры:"
   ]
  },
  {
   "cell_type": "code",
   "execution_count": 114,
   "id": "b536fa7f",
   "metadata": {},
   "outputs": [
    {
     "data": {
      "text/plain": [
       "{89,\n",
       " 100,\n",
       " 185,\n",
       " 192,\n",
       " 317,\n",
       " 335,\n",
       " 484,\n",
       " 641,\n",
       " 761,\n",
       " 814,\n",
       " 1003,\n",
       " 1077,\n",
       " 1105,\n",
       " 1144,\n",
       " 1253,\n",
       " 1308,\n",
       " 1450,\n",
       " 1501,\n",
       " 1604,\n",
       " 1731,\n",
       " 1887,\n",
       " 1907,\n",
       " 1967,\n",
       " 2033,\n",
       " 2049,\n",
       " 2084,\n",
       " 2278,\n",
       " 2282,\n",
       " 2299,\n",
       " 2327,\n",
       " 2476,\n",
       " 2771,\n",
       " 2857,\n",
       " 2904,\n",
       " 2918,\n",
       " 3078,\n",
       " 3113,\n",
       " 3123,\n",
       " 3153,\n",
       " 3255,\n",
       " 3625,\n",
       " 3668,\n",
       " 3697,\n",
       " 3780,\n",
       " 3803,\n",
       " 3852,\n",
       " 3879,\n",
       " 3937,\n",
       " 4057,\n",
       " 4072,\n",
       " 4100,\n",
       " 4118,\n",
       " 4173,\n",
       " 4187,\n",
       " 4385,\n",
       " 4425,\n",
       " 4441,\n",
       " 4652,\n",
       " 4705,\n",
       " 4883,\n",
       " 5120,\n",
       " 5240,\n",
       " 5266,\n",
       " 5588,\n",
       " 5694,\n",
       " 5752,\n",
       " 5990,\n",
       " 6081,\n",
       " 6101,\n",
       " 6137,\n",
       " 6220,\n",
       " 6316,\n",
       " 6481,\n",
       " 6619,\n",
       " 6761,\n",
       " 6797,\n",
       " 6808,\n",
       " 6948,\n",
       " 7008,\n",
       " 7010,\n",
       " 7097,\n",
       " 7385,\n",
       " 7477,\n",
       " 7704,\n",
       " 7785,\n",
       " 7877,\n",
       " 7920,\n",
       " 7926,\n",
       " 7949,\n",
       " 8138,\n",
       " 8207,\n",
       " 8233,\n",
       " 8240,\n",
       " 8288,\n",
       " 8317,\n",
       " 8320,\n",
       " 8330,\n",
       " 8411,\n",
       " 8461,\n",
       " 8513,\n",
       " 8693,\n",
       " 8708,\n",
       " 8821,\n",
       " 8976,\n",
       " 8977,\n",
       " 9174,\n",
       " 9212,\n",
       " 9245,\n",
       " 9477,\n",
       " 9554,\n",
       " 9758,\n",
       " 9831,\n",
       " 9835,\n",
       " 9856,\n",
       " 9896,\n",
       " 10010,\n",
       " 10032,\n",
       " 10040,\n",
       " 10052,\n",
       " 10075,\n",
       " 10180,\n",
       " 10217,\n",
       " 10354,\n",
       " 10382,\n",
       " 10383,\n",
       " 10540,\n",
       " 10688,\n",
       " 10742,\n",
       " 10852,\n",
       " 10928,\n",
       " 11151,\n",
       " 11230,\n",
       " 11236,\n",
       " 11485,\n",
       " 11559,\n",
       " 11772,\n",
       " 11873,\n",
       " 11877,\n",
       " 12007,\n",
       " 12187,\n",
       " 12294,\n",
       " 12354,\n",
       " 12469,\n",
       " 12472,\n",
       " 12509,\n",
       " 12638,\n",
       " 12655,\n",
       " 12811,\n",
       " 12831,\n",
       " 12846,\n",
       " 12942,\n",
       " 13138,\n",
       " 13256,\n",
       " 13336,\n",
       " 13379,\n",
       " 13384,\n",
       " 13471,\n",
       " 13487}"
      ]
     },
     "execution_count": 114,
     "metadata": {},
     "output_type": "execute_result"
    }
   ],
   "source": [
    "set1 & set2\n",
    "\n",
    "# выберем значение 192"
   ]
  },
  {
   "cell_type": "code",
   "execution_count": 115,
   "id": "1fafde07",
   "metadata": {},
   "outputs": [
    {
     "data": {
      "text/html": [
       "<div>\n",
       "<style scoped>\n",
       "    .dataframe tbody tr th:only-of-type {\n",
       "        vertical-align: middle;\n",
       "    }\n",
       "\n",
       "    .dataframe tbody tr th {\n",
       "        vertical-align: top;\n",
       "    }\n",
       "\n",
       "    .dataframe thead th {\n",
       "        text-align: right;\n",
       "    }\n",
       "</style>\n",
       "<table border=\"1\" class=\"dataframe\">\n",
       "  <thead>\n",
       "    <tr style=\"text-align: right;\">\n",
       "      <th></th>\n",
       "      <th>lecture_id</th>\n",
       "      <th>tag</th>\n",
       "      <th>part</th>\n",
       "      <th>type_of</th>\n",
       "    </tr>\n",
       "  </thead>\n",
       "  <tbody>\n",
       "    <tr>\n",
       "      <th>3</th>\n",
       "      <td>192</td>\n",
       "      <td>79</td>\n",
       "      <td>5</td>\n",
       "      <td>solving question</td>\n",
       "    </tr>\n",
       "  </tbody>\n",
       "</table>\n",
       "</div>"
      ],
      "text/plain": [
       "   lecture_id  tag  part           type_of\n",
       "3         192   79     5  solving question"
      ]
     },
     "metadata": {},
     "output_type": "display_data"
    },
    {
     "data": {
      "text/html": [
       "<div>\n",
       "<style scoped>\n",
       "    .dataframe tbody tr th:only-of-type {\n",
       "        vertical-align: middle;\n",
       "    }\n",
       "\n",
       "    .dataframe tbody tr th {\n",
       "        vertical-align: top;\n",
       "    }\n",
       "\n",
       "    .dataframe thead th {\n",
       "        text-align: right;\n",
       "    }\n",
       "</style>\n",
       "<table border=\"1\" class=\"dataframe\">\n",
       "  <thead>\n",
       "    <tr style=\"text-align: right;\">\n",
       "      <th></th>\n",
       "      <th>question_id</th>\n",
       "      <th>bundle_id</th>\n",
       "      <th>correct_answer</th>\n",
       "      <th>part</th>\n",
       "      <th>tags</th>\n",
       "    </tr>\n",
       "  </thead>\n",
       "  <tbody>\n",
       "    <tr>\n",
       "      <th>192</th>\n",
       "      <td>192</td>\n",
       "      <td>192</td>\n",
       "      <td>1</td>\n",
       "      <td>1</td>\n",
       "      <td>131 104 38</td>\n",
       "    </tr>\n",
       "  </tbody>\n",
       "</table>\n",
       "</div>"
      ],
      "text/plain": [
       "     question_id  bundle_id  correct_answer  part        tags\n",
       "192          192        192               1     1  131 104 38"
      ]
     },
     "metadata": {},
     "output_type": "display_data"
    }
   ],
   "source": [
    "display(lect_df[lect_df['lecture_id'] == 192])\n",
    "display(quest_df[quest_df['question_id'] == 192])"
   ]
  },
  {
   "cell_type": "code",
   "execution_count": 116,
   "id": "7612e55f",
   "metadata": {},
   "outputs": [],
   "source": [
    "# мы убедились, что, увы нельзя делать объединение train с другими двумя фреймами просто по id.\n",
    "\n",
    "\n",
    "# придумаем структуру полей обогащенного фрейма:\n",
    "#    сначала все поля train\n",
    "#    l_tag: tag лекции, -1 для вопроса\n",
    "#    l_part: part для лекции, -1 для вопроса\n",
    "#    type_of_lect: type_of для лекции, nan для вопроса\n",
    "#    q_part: part для вопроса, -1 для лекции. Не объединяем в одни столбец c l_part, судя по всему разные сущности\n",
    "#    q_tags: тэг для вопроса, nan для лекции \n",
    "\n",
    "lect_df['ind'] = 1\n",
    "\n",
    "# обхединяемся с lect\n",
    "ext_sample_train_df = sample_train_df.merge(right=lect_df,\n",
    "                                            how='left',\n",
    "                                            validate='m:1',\n",
    "                                            left_on = ['content_id','content_type_id'],\n",
    "                                            right_on = ['lecture_id','ind']\n",
    "                                           )\n",
    "#extr_train_df    "
   ]
  },
  {
   "cell_type": "code",
   "execution_count": 117,
   "id": "34772f1b",
   "metadata": {
    "scrolled": true
   },
   "outputs": [
    {
     "data": {
      "text/html": [
       "<div>\n",
       "<style scoped>\n",
       "    .dataframe tbody tr th:only-of-type {\n",
       "        vertical-align: middle;\n",
       "    }\n",
       "\n",
       "    .dataframe tbody tr th {\n",
       "        vertical-align: top;\n",
       "    }\n",
       "\n",
       "    .dataframe thead th {\n",
       "        text-align: right;\n",
       "    }\n",
       "</style>\n",
       "<table border=\"1\" class=\"dataframe\">\n",
       "  <thead>\n",
       "    <tr style=\"text-align: right;\">\n",
       "      <th></th>\n",
       "      <th>row_id</th>\n",
       "      <th>timestamp</th>\n",
       "      <th>user_id</th>\n",
       "      <th>content_id</th>\n",
       "      <th>content_type_id</th>\n",
       "      <th>task_container_id</th>\n",
       "      <th>user_answer</th>\n",
       "      <th>answered_correctly</th>\n",
       "      <th>pq_had_expl</th>\n",
       "      <th>pqe_time</th>\n",
       "      <th>cont_is_bundle_ind</th>\n",
       "      <th>lecture_id</th>\n",
       "      <th>tag</th>\n",
       "      <th>part</th>\n",
       "      <th>type_of</th>\n",
       "      <th>ind</th>\n",
       "    </tr>\n",
       "  </thead>\n",
       "  <tbody>\n",
       "    <tr>\n",
       "      <th>12</th>\n",
       "      <td>1000012</td>\n",
       "      <td>139567501</td>\n",
       "      <td>20949024</td>\n",
       "      <td>29544</td>\n",
       "      <td>1</td>\n",
       "      <td>47</td>\n",
       "      <td>-1</td>\n",
       "      <td>-1</td>\n",
       "      <td>False</td>\n",
       "      <td>-1.0</td>\n",
       "      <td>1</td>\n",
       "      <td>29544.0</td>\n",
       "      <td>30.0</td>\n",
       "      <td>2.0</td>\n",
       "      <td>concept</td>\n",
       "      <td>1.0</td>\n",
       "    </tr>\n",
       "    <tr>\n",
       "      <th>17</th>\n",
       "      <td>1000017</td>\n",
       "      <td>172554699</td>\n",
       "      <td>20949024</td>\n",
       "      <td>32312</td>\n",
       "      <td>1</td>\n",
       "      <td>51</td>\n",
       "      <td>-1</td>\n",
       "      <td>-1</td>\n",
       "      <td>False</td>\n",
       "      <td>-1.0</td>\n",
       "      <td>1</td>\n",
       "      <td>32312.0</td>\n",
       "      <td>176.0</td>\n",
       "      <td>2.0</td>\n",
       "      <td>concept</td>\n",
       "      <td>1.0</td>\n",
       "    </tr>\n",
       "  </tbody>\n",
       "</table>\n",
       "</div>"
      ],
      "text/plain": [
       "     row_id  timestamp   user_id  content_id  content_type_id  \\\n",
       "12  1000012  139567501  20949024       29544                1   \n",
       "17  1000017  172554699  20949024       32312                1   \n",
       "\n",
       "    task_container_id  user_answer  answered_correctly pq_had_expl  pqe_time  \\\n",
       "12                 47           -1                  -1       False      -1.0   \n",
       "17                 51           -1                  -1       False      -1.0   \n",
       "\n",
       "    cont_is_bundle_ind  lecture_id    tag  part  type_of  ind  \n",
       "12                   1     29544.0   30.0   2.0  concept  1.0  \n",
       "17                   1     32312.0  176.0   2.0  concept  1.0  "
      ]
     },
     "execution_count": 117,
     "metadata": {},
     "output_type": "execute_result"
    }
   ],
   "source": [
    "ext_sample_train_df[ext_sample_train_df.content_type_id == 1].head(2)"
   ]
  },
  {
   "cell_type": "code",
   "execution_count": 118,
   "id": "2a59b617",
   "metadata": {},
   "outputs": [],
   "source": [
    "ext_sample_train_df.drop(inplace=True, axis=1, labels = ['lecture_id', 'ind'])\n",
    "ext_sample_train_df.rename(inplace=True, columns = {'tag':'l_tag','part':'l_part','type_of':'type_of_lect'})"
   ]
  },
  {
   "cell_type": "code",
   "execution_count": 119,
   "id": "cd89c483",
   "metadata": {},
   "outputs": [
    {
     "data": {
      "text/html": [
       "<div>\n",
       "<style scoped>\n",
       "    .dataframe tbody tr th:only-of-type {\n",
       "        vertical-align: middle;\n",
       "    }\n",
       "\n",
       "    .dataframe tbody tr th {\n",
       "        vertical-align: top;\n",
       "    }\n",
       "\n",
       "    .dataframe thead th {\n",
       "        text-align: right;\n",
       "    }\n",
       "</style>\n",
       "<table border=\"1\" class=\"dataframe\">\n",
       "  <thead>\n",
       "    <tr style=\"text-align: right;\">\n",
       "      <th></th>\n",
       "      <th>row_id</th>\n",
       "      <th>timestamp</th>\n",
       "      <th>user_id</th>\n",
       "      <th>content_id</th>\n",
       "      <th>content_type_id</th>\n",
       "      <th>task_container_id</th>\n",
       "      <th>user_answer</th>\n",
       "      <th>answered_correctly</th>\n",
       "      <th>pq_had_expl</th>\n",
       "      <th>pqe_time</th>\n",
       "      <th>cont_is_bundle_ind</th>\n",
       "      <th>l_tag</th>\n",
       "      <th>l_part</th>\n",
       "      <th>type_of_lect</th>\n",
       "    </tr>\n",
       "  </thead>\n",
       "  <tbody>\n",
       "    <tr>\n",
       "      <th>12</th>\n",
       "      <td>1000012</td>\n",
       "      <td>139567501</td>\n",
       "      <td>20949024</td>\n",
       "      <td>29544</td>\n",
       "      <td>1</td>\n",
       "      <td>47</td>\n",
       "      <td>-1</td>\n",
       "      <td>-1</td>\n",
       "      <td>False</td>\n",
       "      <td>-1.0</td>\n",
       "      <td>1</td>\n",
       "      <td>30.0</td>\n",
       "      <td>2.0</td>\n",
       "      <td>concept</td>\n",
       "    </tr>\n",
       "    <tr>\n",
       "      <th>17</th>\n",
       "      <td>1000017</td>\n",
       "      <td>172554699</td>\n",
       "      <td>20949024</td>\n",
       "      <td>32312</td>\n",
       "      <td>1</td>\n",
       "      <td>51</td>\n",
       "      <td>-1</td>\n",
       "      <td>-1</td>\n",
       "      <td>False</td>\n",
       "      <td>-1.0</td>\n",
       "      <td>1</td>\n",
       "      <td>176.0</td>\n",
       "      <td>2.0</td>\n",
       "      <td>concept</td>\n",
       "    </tr>\n",
       "  </tbody>\n",
       "</table>\n",
       "</div>"
      ],
      "text/plain": [
       "     row_id  timestamp   user_id  content_id  content_type_id  \\\n",
       "12  1000012  139567501  20949024       29544                1   \n",
       "17  1000017  172554699  20949024       32312                1   \n",
       "\n",
       "    task_container_id  user_answer  answered_correctly pq_had_expl  pqe_time  \\\n",
       "12                 47           -1                  -1       False      -1.0   \n",
       "17                 51           -1                  -1       False      -1.0   \n",
       "\n",
       "    cont_is_bundle_ind  l_tag  l_part type_of_lect  \n",
       "12                   1   30.0     2.0      concept  \n",
       "17                   1  176.0     2.0      concept  "
      ]
     },
     "metadata": {},
     "output_type": "display_data"
    },
    {
     "data": {
      "text/html": [
       "<div>\n",
       "<style scoped>\n",
       "    .dataframe tbody tr th:only-of-type {\n",
       "        vertical-align: middle;\n",
       "    }\n",
       "\n",
       "    .dataframe tbody tr th {\n",
       "        vertical-align: top;\n",
       "    }\n",
       "\n",
       "    .dataframe thead th {\n",
       "        text-align: right;\n",
       "    }\n",
       "</style>\n",
       "<table border=\"1\" class=\"dataframe\">\n",
       "  <thead>\n",
       "    <tr style=\"text-align: right;\">\n",
       "      <th></th>\n",
       "      <th>row_id</th>\n",
       "      <th>timestamp</th>\n",
       "      <th>user_id</th>\n",
       "      <th>content_id</th>\n",
       "      <th>content_type_id</th>\n",
       "      <th>task_container_id</th>\n",
       "      <th>user_answer</th>\n",
       "      <th>answered_correctly</th>\n",
       "      <th>pq_had_expl</th>\n",
       "      <th>pqe_time</th>\n",
       "      <th>cont_is_bundle_ind</th>\n",
       "      <th>l_tag</th>\n",
       "      <th>l_part</th>\n",
       "      <th>type_of_lect</th>\n",
       "    </tr>\n",
       "  </thead>\n",
       "  <tbody>\n",
       "    <tr>\n",
       "      <th>0</th>\n",
       "      <td>1000000</td>\n",
       "      <td>26624921</td>\n",
       "      <td>20949024</td>\n",
       "      <td>8207</td>\n",
       "      <td>0</td>\n",
       "      <td>34</td>\n",
       "      <td>1</td>\n",
       "      <td>1</td>\n",
       "      <td>True</td>\n",
       "      <td>9000.0</td>\n",
       "      <td>1</td>\n",
       "      <td>NaN</td>\n",
       "      <td>NaN</td>\n",
       "      <td>NaN</td>\n",
       "    </tr>\n",
       "    <tr>\n",
       "      <th>1</th>\n",
       "      <td>1000001</td>\n",
       "      <td>26641933</td>\n",
       "      <td>20949024</td>\n",
       "      <td>5583</td>\n",
       "      <td>0</td>\n",
       "      <td>35</td>\n",
       "      <td>0</td>\n",
       "      <td>0</td>\n",
       "      <td>True</td>\n",
       "      <td>14000.0</td>\n",
       "      <td>1</td>\n",
       "      <td>NaN</td>\n",
       "      <td>NaN</td>\n",
       "      <td>NaN</td>\n",
       "    </tr>\n",
       "  </tbody>\n",
       "</table>\n",
       "</div>"
      ],
      "text/plain": [
       "    row_id  timestamp   user_id  content_id  content_type_id  \\\n",
       "0  1000000   26624921  20949024        8207                0   \n",
       "1  1000001   26641933  20949024        5583                0   \n",
       "\n",
       "   task_container_id  user_answer  answered_correctly pq_had_expl  pqe_time  \\\n",
       "0                 34            1                   1        True    9000.0   \n",
       "1                 35            0                   0        True   14000.0   \n",
       "\n",
       "   cont_is_bundle_ind  l_tag  l_part type_of_lect  \n",
       "0                   1    NaN     NaN          NaN  \n",
       "1                   1    NaN     NaN          NaN  "
      ]
     },
     "metadata": {},
     "output_type": "display_data"
    }
   ],
   "source": [
    "display(ext_sample_train_df[ext_sample_train_df.content_type_id == 1].head(2))\n",
    "display(ext_sample_train_df[ext_sample_train_df.content_type_id == 0].head(2))"
   ]
  },
  {
   "cell_type": "code",
   "execution_count": 120,
   "id": "2ad7c97a",
   "metadata": {},
   "outputs": [
    {
     "data": {
      "text/html": [
       "<div>\n",
       "<style scoped>\n",
       "    .dataframe tbody tr th:only-of-type {\n",
       "        vertical-align: middle;\n",
       "    }\n",
       "\n",
       "    .dataframe tbody tr th {\n",
       "        vertical-align: top;\n",
       "    }\n",
       "\n",
       "    .dataframe thead th {\n",
       "        text-align: right;\n",
       "    }\n",
       "</style>\n",
       "<table border=\"1\" class=\"dataframe\">\n",
       "  <thead>\n",
       "    <tr style=\"text-align: right;\">\n",
       "      <th></th>\n",
       "      <th>row_id</th>\n",
       "      <th>timestamp</th>\n",
       "      <th>user_id</th>\n",
       "      <th>content_id</th>\n",
       "      <th>content_type_id</th>\n",
       "      <th>task_container_id</th>\n",
       "      <th>user_answer</th>\n",
       "      <th>answered_correctly</th>\n",
       "      <th>pq_had_expl</th>\n",
       "      <th>pqe_time</th>\n",
       "      <th>cont_is_bundle_ind</th>\n",
       "      <th>l_tag</th>\n",
       "      <th>l_part</th>\n",
       "      <th>type_of_lect</th>\n",
       "      <th>question_id</th>\n",
       "      <th>bundle_id</th>\n",
       "      <th>correct_answer</th>\n",
       "      <th>part</th>\n",
       "      <th>tags</th>\n",
       "      <th>ind</th>\n",
       "    </tr>\n",
       "  </thead>\n",
       "  <tbody>\n",
       "    <tr>\n",
       "      <th>12</th>\n",
       "      <td>1000012</td>\n",
       "      <td>139567501</td>\n",
       "      <td>20949024</td>\n",
       "      <td>29544</td>\n",
       "      <td>1</td>\n",
       "      <td>47</td>\n",
       "      <td>-1</td>\n",
       "      <td>-1</td>\n",
       "      <td>False</td>\n",
       "      <td>-1.0</td>\n",
       "      <td>1</td>\n",
       "      <td>30.0</td>\n",
       "      <td>2.0</td>\n",
       "      <td>concept</td>\n",
       "      <td>NaN</td>\n",
       "      <td>NaN</td>\n",
       "      <td>NaN</td>\n",
       "      <td>NaN</td>\n",
       "      <td>NaN</td>\n",
       "      <td>NaN</td>\n",
       "    </tr>\n",
       "    <tr>\n",
       "      <th>17</th>\n",
       "      <td>1000017</td>\n",
       "      <td>172554699</td>\n",
       "      <td>20949024</td>\n",
       "      <td>32312</td>\n",
       "      <td>1</td>\n",
       "      <td>51</td>\n",
       "      <td>-1</td>\n",
       "      <td>-1</td>\n",
       "      <td>False</td>\n",
       "      <td>-1.0</td>\n",
       "      <td>1</td>\n",
       "      <td>176.0</td>\n",
       "      <td>2.0</td>\n",
       "      <td>concept</td>\n",
       "      <td>NaN</td>\n",
       "      <td>NaN</td>\n",
       "      <td>NaN</td>\n",
       "      <td>NaN</td>\n",
       "      <td>NaN</td>\n",
       "      <td>NaN</td>\n",
       "    </tr>\n",
       "  </tbody>\n",
       "</table>\n",
       "</div>"
      ],
      "text/plain": [
       "     row_id  timestamp   user_id  content_id  content_type_id  \\\n",
       "12  1000012  139567501  20949024       29544                1   \n",
       "17  1000017  172554699  20949024       32312                1   \n",
       "\n",
       "    task_container_id  user_answer  answered_correctly pq_had_expl  pqe_time  \\\n",
       "12                 47           -1                  -1       False      -1.0   \n",
       "17                 51           -1                  -1       False      -1.0   \n",
       "\n",
       "    cont_is_bundle_ind  l_tag  l_part type_of_lect  question_id  bundle_id  \\\n",
       "12                   1   30.0     2.0      concept          NaN        NaN   \n",
       "17                   1  176.0     2.0      concept          NaN        NaN   \n",
       "\n",
       "    correct_answer  part tags  ind  \n",
       "12             NaN   NaN  NaN  NaN  \n",
       "17             NaN   NaN  NaN  NaN  "
      ]
     },
     "metadata": {},
     "output_type": "display_data"
    },
    {
     "data": {
      "text/html": [
       "<div>\n",
       "<style scoped>\n",
       "    .dataframe tbody tr th:only-of-type {\n",
       "        vertical-align: middle;\n",
       "    }\n",
       "\n",
       "    .dataframe tbody tr th {\n",
       "        vertical-align: top;\n",
       "    }\n",
       "\n",
       "    .dataframe thead th {\n",
       "        text-align: right;\n",
       "    }\n",
       "</style>\n",
       "<table border=\"1\" class=\"dataframe\">\n",
       "  <thead>\n",
       "    <tr style=\"text-align: right;\">\n",
       "      <th></th>\n",
       "      <th>row_id</th>\n",
       "      <th>timestamp</th>\n",
       "      <th>user_id</th>\n",
       "      <th>content_id</th>\n",
       "      <th>content_type_id</th>\n",
       "      <th>task_container_id</th>\n",
       "      <th>user_answer</th>\n",
       "      <th>answered_correctly</th>\n",
       "      <th>pq_had_expl</th>\n",
       "      <th>pqe_time</th>\n",
       "      <th>cont_is_bundle_ind</th>\n",
       "      <th>l_tag</th>\n",
       "      <th>l_part</th>\n",
       "      <th>type_of_lect</th>\n",
       "      <th>question_id</th>\n",
       "      <th>bundle_id</th>\n",
       "      <th>correct_answer</th>\n",
       "      <th>part</th>\n",
       "      <th>tags</th>\n",
       "      <th>ind</th>\n",
       "    </tr>\n",
       "  </thead>\n",
       "  <tbody>\n",
       "    <tr>\n",
       "      <th>0</th>\n",
       "      <td>1000000</td>\n",
       "      <td>26624921</td>\n",
       "      <td>20949024</td>\n",
       "      <td>8207</td>\n",
       "      <td>0</td>\n",
       "      <td>34</td>\n",
       "      <td>1</td>\n",
       "      <td>1</td>\n",
       "      <td>True</td>\n",
       "      <td>9000.0</td>\n",
       "      <td>1</td>\n",
       "      <td>NaN</td>\n",
       "      <td>NaN</td>\n",
       "      <td>NaN</td>\n",
       "      <td>8207.0</td>\n",
       "      <td>8207.0</td>\n",
       "      <td>1.0</td>\n",
       "      <td>5.0</td>\n",
       "      <td>8</td>\n",
       "      <td>0.0</td>\n",
       "    </tr>\n",
       "    <tr>\n",
       "      <th>1</th>\n",
       "      <td>1000001</td>\n",
       "      <td>26641933</td>\n",
       "      <td>20949024</td>\n",
       "      <td>5583</td>\n",
       "      <td>0</td>\n",
       "      <td>35</td>\n",
       "      <td>0</td>\n",
       "      <td>0</td>\n",
       "      <td>True</td>\n",
       "      <td>14000.0</td>\n",
       "      <td>1</td>\n",
       "      <td>NaN</td>\n",
       "      <td>NaN</td>\n",
       "      <td>NaN</td>\n",
       "      <td>5583.0</td>\n",
       "      <td>5583.0</td>\n",
       "      <td>2.0</td>\n",
       "      <td>5.0</td>\n",
       "      <td>54</td>\n",
       "      <td>0.0</td>\n",
       "    </tr>\n",
       "  </tbody>\n",
       "</table>\n",
       "</div>"
      ],
      "text/plain": [
       "    row_id  timestamp   user_id  content_id  content_type_id  \\\n",
       "0  1000000   26624921  20949024        8207                0   \n",
       "1  1000001   26641933  20949024        5583                0   \n",
       "\n",
       "   task_container_id  user_answer  answered_correctly pq_had_expl  pqe_time  \\\n",
       "0                 34            1                   1        True    9000.0   \n",
       "1                 35            0                   0        True   14000.0   \n",
       "\n",
       "   cont_is_bundle_ind  l_tag  l_part type_of_lect  question_id  bundle_id  \\\n",
       "0                   1    NaN     NaN          NaN       8207.0     8207.0   \n",
       "1                   1    NaN     NaN          NaN       5583.0     5583.0   \n",
       "\n",
       "   correct_answer  part tags  ind  \n",
       "0             1.0   5.0    8  0.0  \n",
       "1             2.0   5.0   54  0.0  "
      ]
     },
     "metadata": {},
     "output_type": "display_data"
    }
   ],
   "source": [
    "quest_df['ind'] = 0\n",
    "\n",
    "# обхединяемся с quest\n",
    "ext_sample_train_df = ext_sample_train_df.merge(right=quest_df,\n",
    "                                            how='left',\n",
    "                                            validate='m:1',\n",
    "                                            left_on = ['content_id','content_type_id'],\n",
    "                                            right_on = ['question_id','ind']\n",
    "                                           )\n",
    "display(ext_sample_train_df[ext_sample_train_df.content_type_id == 1].head(2))\n",
    "display(ext_sample_train_df[ext_sample_train_df.content_type_id == 0].head(2))"
   ]
  },
  {
   "cell_type": "code",
   "execution_count": 121,
   "id": "ecf47ab2",
   "metadata": {},
   "outputs": [],
   "source": [
    "ext_sample_train_df.drop(inplace=True, axis=1, labels = ['question_id','bundle_id','ind','correct_answer'])\n",
    "ext_sample_train_df.rename(inplace=True, columns = {'tags':'q_tags','part':'q_part'})"
   ]
  },
  {
   "cell_type": "code",
   "execution_count": 122,
   "id": "efac217e",
   "metadata": {},
   "outputs": [],
   "source": [
    "# удалим ранее созданные колонки: quest_df['ind'] = 0 lect_df['ind'] = 1\n",
    "quest_df.drop(inplace=True, axis=1, labels = ['ind'])\n",
    "lect_df.drop(inplace=True, axis=1, labels = ['ind'])"
   ]
  },
  {
   "cell_type": "code",
   "execution_count": 123,
   "id": "fe8ba695",
   "metadata": {},
   "outputs": [
    {
     "data": {
      "text/html": [
       "<div>\n",
       "<style scoped>\n",
       "    .dataframe tbody tr th:only-of-type {\n",
       "        vertical-align: middle;\n",
       "    }\n",
       "\n",
       "    .dataframe tbody tr th {\n",
       "        vertical-align: top;\n",
       "    }\n",
       "\n",
       "    .dataframe thead th {\n",
       "        text-align: right;\n",
       "    }\n",
       "</style>\n",
       "<table border=\"1\" class=\"dataframe\">\n",
       "  <thead>\n",
       "    <tr style=\"text-align: right;\">\n",
       "      <th></th>\n",
       "      <th>row_id</th>\n",
       "      <th>timestamp</th>\n",
       "      <th>user_id</th>\n",
       "      <th>content_id</th>\n",
       "      <th>content_type_id</th>\n",
       "      <th>task_container_id</th>\n",
       "      <th>user_answer</th>\n",
       "      <th>answered_correctly</th>\n",
       "      <th>pq_had_expl</th>\n",
       "      <th>pqe_time</th>\n",
       "      <th>cont_is_bundle_ind</th>\n",
       "      <th>l_tag</th>\n",
       "      <th>l_part</th>\n",
       "      <th>type_of_lect</th>\n",
       "      <th>q_part</th>\n",
       "      <th>q_tags</th>\n",
       "    </tr>\n",
       "  </thead>\n",
       "  <tbody>\n",
       "    <tr>\n",
       "      <th>12</th>\n",
       "      <td>1000012</td>\n",
       "      <td>139567501</td>\n",
       "      <td>20949024</td>\n",
       "      <td>29544</td>\n",
       "      <td>1</td>\n",
       "      <td>47</td>\n",
       "      <td>-1</td>\n",
       "      <td>-1</td>\n",
       "      <td>False</td>\n",
       "      <td>-1.0</td>\n",
       "      <td>1</td>\n",
       "      <td>30.0</td>\n",
       "      <td>2.0</td>\n",
       "      <td>concept</td>\n",
       "      <td>NaN</td>\n",
       "      <td>NaN</td>\n",
       "    </tr>\n",
       "    <tr>\n",
       "      <th>17</th>\n",
       "      <td>1000017</td>\n",
       "      <td>172554699</td>\n",
       "      <td>20949024</td>\n",
       "      <td>32312</td>\n",
       "      <td>1</td>\n",
       "      <td>51</td>\n",
       "      <td>-1</td>\n",
       "      <td>-1</td>\n",
       "      <td>False</td>\n",
       "      <td>-1.0</td>\n",
       "      <td>1</td>\n",
       "      <td>176.0</td>\n",
       "      <td>2.0</td>\n",
       "      <td>concept</td>\n",
       "      <td>NaN</td>\n",
       "      <td>NaN</td>\n",
       "    </tr>\n",
       "  </tbody>\n",
       "</table>\n",
       "</div>"
      ],
      "text/plain": [
       "     row_id  timestamp   user_id  content_id  content_type_id  \\\n",
       "12  1000012  139567501  20949024       29544                1   \n",
       "17  1000017  172554699  20949024       32312                1   \n",
       "\n",
       "    task_container_id  user_answer  answered_correctly pq_had_expl  pqe_time  \\\n",
       "12                 47           -1                  -1       False      -1.0   \n",
       "17                 51           -1                  -1       False      -1.0   \n",
       "\n",
       "    cont_is_bundle_ind  l_tag  l_part type_of_lect  q_part q_tags  \n",
       "12                   1   30.0     2.0      concept     NaN    NaN  \n",
       "17                   1  176.0     2.0      concept     NaN    NaN  "
      ]
     },
     "metadata": {},
     "output_type": "display_data"
    },
    {
     "data": {
      "text/html": [
       "<div>\n",
       "<style scoped>\n",
       "    .dataframe tbody tr th:only-of-type {\n",
       "        vertical-align: middle;\n",
       "    }\n",
       "\n",
       "    .dataframe tbody tr th {\n",
       "        vertical-align: top;\n",
       "    }\n",
       "\n",
       "    .dataframe thead th {\n",
       "        text-align: right;\n",
       "    }\n",
       "</style>\n",
       "<table border=\"1\" class=\"dataframe\">\n",
       "  <thead>\n",
       "    <tr style=\"text-align: right;\">\n",
       "      <th></th>\n",
       "      <th>row_id</th>\n",
       "      <th>timestamp</th>\n",
       "      <th>user_id</th>\n",
       "      <th>content_id</th>\n",
       "      <th>content_type_id</th>\n",
       "      <th>task_container_id</th>\n",
       "      <th>user_answer</th>\n",
       "      <th>answered_correctly</th>\n",
       "      <th>pq_had_expl</th>\n",
       "      <th>pqe_time</th>\n",
       "      <th>cont_is_bundle_ind</th>\n",
       "      <th>l_tag</th>\n",
       "      <th>l_part</th>\n",
       "      <th>type_of_lect</th>\n",
       "      <th>q_part</th>\n",
       "      <th>q_tags</th>\n",
       "    </tr>\n",
       "  </thead>\n",
       "  <tbody>\n",
       "    <tr>\n",
       "      <th>0</th>\n",
       "      <td>1000000</td>\n",
       "      <td>26624921</td>\n",
       "      <td>20949024</td>\n",
       "      <td>8207</td>\n",
       "      <td>0</td>\n",
       "      <td>34</td>\n",
       "      <td>1</td>\n",
       "      <td>1</td>\n",
       "      <td>True</td>\n",
       "      <td>9000.0</td>\n",
       "      <td>1</td>\n",
       "      <td>NaN</td>\n",
       "      <td>NaN</td>\n",
       "      <td>NaN</td>\n",
       "      <td>5.0</td>\n",
       "      <td>8</td>\n",
       "    </tr>\n",
       "    <tr>\n",
       "      <th>1</th>\n",
       "      <td>1000001</td>\n",
       "      <td>26641933</td>\n",
       "      <td>20949024</td>\n",
       "      <td>5583</td>\n",
       "      <td>0</td>\n",
       "      <td>35</td>\n",
       "      <td>0</td>\n",
       "      <td>0</td>\n",
       "      <td>True</td>\n",
       "      <td>14000.0</td>\n",
       "      <td>1</td>\n",
       "      <td>NaN</td>\n",
       "      <td>NaN</td>\n",
       "      <td>NaN</td>\n",
       "      <td>5.0</td>\n",
       "      <td>54</td>\n",
       "    </tr>\n",
       "  </tbody>\n",
       "</table>\n",
       "</div>"
      ],
      "text/plain": [
       "    row_id  timestamp   user_id  content_id  content_type_id  \\\n",
       "0  1000000   26624921  20949024        8207                0   \n",
       "1  1000001   26641933  20949024        5583                0   \n",
       "\n",
       "   task_container_id  user_answer  answered_correctly pq_had_expl  pqe_time  \\\n",
       "0                 34            1                   1        True    9000.0   \n",
       "1                 35            0                   0        True   14000.0   \n",
       "\n",
       "   cont_is_bundle_ind  l_tag  l_part type_of_lect  q_part q_tags  \n",
       "0                   1    NaN     NaN          NaN     5.0      8  \n",
       "1                   1    NaN     NaN          NaN     5.0     54  "
      ]
     },
     "metadata": {},
     "output_type": "display_data"
    }
   ],
   "source": [
    "display(ext_sample_train_df[ext_sample_train_df.content_type_id == 1].head(2))\n",
    "display(ext_sample_train_df[ext_sample_train_df.content_type_id == 0].head(2))"
   ]
  },
  {
   "cell_type": "code",
   "execution_count": 124,
   "id": "db9d5de7",
   "metadata": {},
   "outputs": [
    {
     "name": "stdout",
     "output_type": "stream",
     "text": [
      "<class 'pandas.core.frame.DataFrame'>\n",
      "Int64Index: 1000000 entries, 0 to 999999\n",
      "Data columns (total 16 columns):\n",
      " #   Column              Non-Null Count    Dtype   \n",
      "---  ------              --------------    -----   \n",
      " 0   row_id              1000000 non-null  int32   \n",
      " 1   timestamp           1000000 non-null  int64   \n",
      " 2   user_id             1000000 non-null  int32   \n",
      " 3   content_id          1000000 non-null  int16   \n",
      " 4   content_type_id     1000000 non-null  int8    \n",
      " 5   task_container_id   1000000 non-null  int16   \n",
      " 6   user_answer         1000000 non-null  int8    \n",
      " 7   answered_correctly  1000000 non-null  int8    \n",
      " 8   pq_had_expl         996123 non-null   object  \n",
      " 9   pqe_time            1000000 non-null  float64 \n",
      " 10  cont_is_bundle_ind  1000000 non-null  int64   \n",
      " 11  l_tag               19076 non-null    float64 \n",
      " 12  l_part              19076 non-null    float64 \n",
      " 13  type_of_lect        19076 non-null    category\n",
      " 14  q_part              980924 non-null   float64 \n",
      " 15  q_tags              980924 non-null   object  \n",
      "dtypes: category(1), float64(4), int16(2), int32(2), int64(2), int8(3), object(2)\n",
      "memory usage: 83.9+ MB\n"
     ]
    },
    {
     "data": {
      "text/plain": [
       "None"
      ]
     },
     "metadata": {},
     "output_type": "display_data"
    },
    {
     "name": "stdout",
     "output_type": "stream",
     "text": [
      "<class 'pandas.core.frame.DataFrame'>\n",
      "RangeIndex: 418 entries, 0 to 417\n",
      "Data columns (total 4 columns):\n",
      " #   Column      Non-Null Count  Dtype   \n",
      "---  ------      --------------  -----   \n",
      " 0   lecture_id  418 non-null    int16   \n",
      " 1   tag         418 non-null    uint8   \n",
      " 2   part        418 non-null    int8    \n",
      " 3   type_of     418 non-null    category\n",
      "dtypes: category(1), int16(1), int8(1), uint8(1)\n",
      "memory usage: 2.4 KB\n"
     ]
    },
    {
     "data": {
      "text/plain": [
       "None"
      ]
     },
     "metadata": {},
     "output_type": "display_data"
    },
    {
     "name": "stdout",
     "output_type": "stream",
     "text": [
      "<class 'pandas.core.frame.DataFrame'>\n",
      "RangeIndex: 13523 entries, 0 to 13522\n",
      "Data columns (total 5 columns):\n",
      " #   Column          Non-Null Count  Dtype \n",
      "---  ------          --------------  ----- \n",
      " 0   question_id     13523 non-null  int16 \n",
      " 1   bundle_id       13523 non-null  int16 \n",
      " 2   correct_answer  13523 non-null  int8  \n",
      " 3   part            13523 non-null  int8  \n",
      " 4   tags            13522 non-null  object\n",
      "dtypes: int16(2), int8(2), object(1)\n",
      "memory usage: 185.0+ KB\n"
     ]
    },
    {
     "data": {
      "text/plain": [
       "None"
      ]
     },
     "metadata": {},
     "output_type": "display_data"
    }
   ],
   "source": [
    "display(ext_sample_train_df.info())\n",
    "display(lect_df.info())\n",
    "display(quest_df.info())"
   ]
  },
  {
   "cell_type": "code",
   "execution_count": 125,
   "id": "0f698816",
   "metadata": {},
   "outputs": [],
   "source": [
    "# заменим nan прежде чем преобразовывать столбцы к другим типам:\n",
    "for col in ['l_part','q_part','l_tag']:\n",
    "    ext_sample_train_df[col] = ext_sample_train_df[col].apply(lambda x: -1 if m.isnan(x) == True else int(x))"
   ]
  },
  {
   "cell_type": "code",
   "execution_count": 126,
   "id": "0ba0a001",
   "metadata": {},
   "outputs": [],
   "source": [
    "\n",
    "# изменим типы данных столбцов:\n",
    "ext_sample_train_df[['l_part','q_part']] =  ext_sample_train_df[['l_part','q_part']].astype('int8')\n",
    "ext_sample_train_df[['l_tag']] = ext_sample_train_df[['l_tag']].astype('int16') # тут мы отказались от uint8 в пользу более широкого типа, так как тепрь в столбце есть -1"
   ]
  },
  {
   "cell_type": "code",
   "execution_count": 127,
   "id": "7a8ad418",
   "metadata": {},
   "outputs": [
    {
     "name": "stdout",
     "output_type": "stream",
     "text": [
      "<class 'pandas.core.frame.DataFrame'>\n",
      "Int64Index: 1000000 entries, 0 to 999999\n",
      "Data columns (total 16 columns):\n",
      " #   Column              Non-Null Count    Dtype   \n",
      "---  ------              --------------    -----   \n",
      " 0   row_id              1000000 non-null  int32   \n",
      " 1   timestamp           1000000 non-null  int64   \n",
      " 2   user_id             1000000 non-null  int32   \n",
      " 3   content_id          1000000 non-null  int16   \n",
      " 4   content_type_id     1000000 non-null  int8    \n",
      " 5   task_container_id   1000000 non-null  int16   \n",
      " 6   user_answer         1000000 non-null  int8    \n",
      " 7   answered_correctly  1000000 non-null  int8    \n",
      " 8   pq_had_expl         996123 non-null   object  \n",
      " 9   pqe_time            1000000 non-null  float64 \n",
      " 10  cont_is_bundle_ind  1000000 non-null  int64   \n",
      " 11  l_tag               1000000 non-null  int16   \n",
      " 12  l_part              1000000 non-null  int8    \n",
      " 13  type_of_lect        19076 non-null    category\n",
      " 14  q_part              1000000 non-null  int8    \n",
      " 15  q_tags              980924 non-null   object  \n",
      "dtypes: category(1), float64(1), int16(3), int32(2), int64(2), int8(5), object(2)\n",
      "memory usage: 64.9+ MB\n"
     ]
    },
    {
     "data": {
      "text/plain": [
       "None"
      ]
     },
     "metadata": {},
     "output_type": "display_data"
    }
   ],
   "source": [
    "\n",
    "display(ext_sample_train_df.info())"
   ]
  },
  {
   "cell_type": "code",
   "execution_count": 128,
   "id": "04bfbc65",
   "metadata": {},
   "outputs": [
    {
     "name": "stdout",
     "output_type": "stream",
     "text": [
      "<class 'pandas.core.series.Series'>\n",
      "Int64Index: 1000000 entries, 0 to 999999\n",
      "Series name: q_tags\n",
      "Non-Null Count   Dtype \n",
      "--------------   ----- \n",
      "980924 non-null  object\n",
      "dtypes: object(1)\n",
      "memory usage: 15.3+ MB\n"
     ]
    },
    {
     "data": {
      "text/plain": [
       "None"
      ]
     },
     "metadata": {},
     "output_type": "display_data"
    },
    {
     "name": "stdout",
     "output_type": "stream",
     "text": [
      "<class 'pandas.core.series.Series'>\n",
      "Int64Index: 1000000 entries, 0 to 999999\n",
      "Series name: q_tags\n",
      "Non-Null Count   Dtype   \n",
      "--------------   -----   \n",
      "980924 non-null  category\n",
      "dtypes: category(1)\n",
      "memory usage: 9.6 MB\n"
     ]
    },
    {
     "data": {
      "text/plain": [
       "None"
      ]
     },
     "metadata": {},
     "output_type": "display_data"
    }
   ],
   "source": [
    "# при сокращении объема quest_df мы отказались от категоризации tags, так как уникальных значений много\n",
    "# но в ext_sample_train_df это имеет смысл, так как строк тоже много, докажем это:\n",
    "ser1 = ext_sample_train_df['q_tags']\n",
    "ser2 = ext_sample_train_df['q_tags'].astype('category')\n",
    "display(ser1.info())\n",
    "display(ser2.info())\n",
    "# Выигрыш 5.7 мегабайт на миллион строк, то есть 570 Мб на 100 млн строк. Пол гига не помешают, это 8% от фрейма"
   ]
  },
  {
   "cell_type": "code",
   "execution_count": 129,
   "id": "4bdd1fd5",
   "metadata": {},
   "outputs": [
    {
     "name": "stdout",
     "output_type": "stream",
     "text": [
      "<class 'pandas.core.frame.DataFrame'>\n",
      "Int64Index: 1000000 entries, 0 to 999999\n",
      "Data columns (total 16 columns):\n",
      " #   Column              Non-Null Count    Dtype   \n",
      "---  ------              --------------    -----   \n",
      " 0   row_id              1000000 non-null  int32   \n",
      " 1   timestamp           1000000 non-null  int64   \n",
      " 2   user_id             1000000 non-null  int32   \n",
      " 3   content_id          1000000 non-null  int16   \n",
      " 4   content_type_id     1000000 non-null  int8    \n",
      " 5   task_container_id   1000000 non-null  int16   \n",
      " 6   user_answer         1000000 non-null  int8    \n",
      " 7   answered_correctly  1000000 non-null  int8    \n",
      " 8   pq_had_expl         996123 non-null   object  \n",
      " 9   pqe_time            1000000 non-null  float64 \n",
      " 10  cont_is_bundle_ind  1000000 non-null  int64   \n",
      " 11  l_tag               1000000 non-null  int16   \n",
      " 12  l_part              1000000 non-null  int8    \n",
      " 13  type_of_lect        19076 non-null    category\n",
      " 14  q_part              1000000 non-null  int8    \n",
      " 15  q_tags              980924 non-null   category\n",
      "dtypes: category(2), float64(1), int16(3), int32(2), int64(2), int8(5), object(1)\n",
      "memory usage: 59.2+ MB\n"
     ]
    },
    {
     "data": {
      "text/plain": [
       "None"
      ]
     },
     "metadata": {},
     "output_type": "display_data"
    }
   ],
   "source": [
    "ext_sample_train_df['q_tags'] = ext_sample_train_df['q_tags'].astype('category')\n",
    "display(ext_sample_train_df.info())"
   ]
  }
 ],
 "metadata": {
  "kernelspec": {
   "display_name": "Python 3 (ipykernel)",
   "language": "python",
   "name": "python3"
  },
  "language_info": {
   "codemirror_mode": {
    "name": "ipython",
    "version": 3
   },
   "file_extension": ".py",
   "mimetype": "text/x-python",
   "name": "python",
   "nbconvert_exporter": "python",
   "pygments_lexer": "ipython3",
   "version": "3.9.12"
  }
 },
 "nbformat": 4,
 "nbformat_minor": 5
}
